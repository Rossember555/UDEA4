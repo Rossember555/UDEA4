{
 "cells": [
  {
   "cell_type": "markdown",
   "metadata": {},
   "source": [
    "<a href=\"https://colab.research.google.com/github/UDEA-Esp-Analitica-y-Ciencia-de-Datos/EACD-04-MACHINE-LEARNING-1/blob/master/15-%5BTALLER%5D_Modelos_basados_en_arboles_importancia_de_variables.ipynb\" target=\"_parent\"><img src=\"https://colab.research.google.com/assets/colab-badge.svg\" alt=\"Open In Colab\"/></a>\n",
    "\n",
    "\n",
    "**Recuerda que una vez abierto, Da clic en \"Copiar en Drive\", de lo contrario no podras alamancenar tu progreso**\n",
    "\n",
    "Nota: no olvide ir ejecutando las celdas de código de arriba hacia abajo para que no tenga errores de importación de librerías o por falta de definición de variables."
   ]
  },
  {
   "cell_type": "code",
   "execution_count": null,
   "metadata": {},
   "outputs": [],
   "source": [
    "!wget --no-cache -O init.py -q https://raw.githubusercontent.com/UDEA-Esp-Analitica-y-Ciencia-de-Datos/EACD-04-MACHINE-LEARNING-1/master/init.py\n",
    "import init; init.init(force_download=False); "
   ]
  },
  {
   "cell_type": "markdown",
   "metadata": {},
   "source": [
    "# Parte 1.\n",
    "\n",
    "**Bag of words + Bagging**\n",
    "\n",
    "\n",
    "## Contextualización del problema\n",
    "\n",
    "\n",
    "Usaremos el dataset Twitter US Airline Sentiment para el problema de clasificación. En el repositorio de Kaggle se encuentra más información en el siguiente [link](https://www.kaggle.com/crowdflower/twitter-airline-sentiment)\n",
    "\n"
   ]
  },
  {
   "cell_type": "code",
   "execution_count": 1,
   "metadata": {},
   "outputs": [],
   "source": [
    "import numpy as np # linear algebra\n",
    "import pandas as pd # data processing, CSV file I/O (e.g. pd.read_csv)\n",
    "import matplotlib.pyplot as plt"
   ]
  },
  {
   "cell_type": "code",
   "execution_count": 2,
   "metadata": {},
   "outputs": [],
   "source": [
    "data = pd.read_csv('local/data/Tweets.csv')\n",
    "# Keeping only the neccessary columns\n",
    "data = data[['text','airline_sentiment']]"
   ]
  },
  {
   "cell_type": "markdown",
   "metadata": {},
   "source": [
    "Como es un problema de procesamiento de texto debemos hacer algunas tareas báscias de preprocesamiento:"
   ]
  },
  {
   "cell_type": "code",
   "execution_count": 3,
   "metadata": {},
   "outputs": [
    {
     "name": "stdout",
     "output_type": "stream",
     "text": [
      "Número de muestras positivas 2363\n",
      "Número de muestras negatias 9178\n"
     ]
    }
   ],
   "source": [
    "import re\n",
    "#Remove neutral class\n",
    "data = data[data.airline_sentiment != \"neutral\"]\n",
    "\n",
    "#text normalization\n",
    "data['text'] = data['text'].apply(lambda x: x.lower())\n",
    "data['text'] = data['text'].apply((lambda x:re.sub('@[^\\s]+','',x)))#remove the name of the airline\n",
    "data['text'] = data['text'].apply((lambda x: re.sub('[^a-zA-z0-9\\s]','',x)))\n",
    "print(f\"Número de muestras positivas {np.sum(data['airline_sentiment'].values == 'positive')}\")\n",
    "print(f\"Número de muestras negatias {np.sum(data['airline_sentiment'].values == 'negative')}\")"
   ]
  },
  {
   "cell_type": "code",
   "execution_count": 4,
   "metadata": {},
   "outputs": [],
   "source": [
    "for idx,row in data.iterrows():\n",
    "    row[0] = row[0].replace('rt',' ')"
   ]
  },
  {
   "cell_type": "code",
   "execution_count": 5,
   "metadata": {},
   "outputs": [
    {
     "data": {
      "text/html": [
       "<div>\n",
       "<style scoped>\n",
       "    .dataframe tbody tr th:only-of-type {\n",
       "        vertical-align: middle;\n",
       "    }\n",
       "\n",
       "    .dataframe tbody tr th {\n",
       "        vertical-align: top;\n",
       "    }\n",
       "\n",
       "    .dataframe thead th {\n",
       "        text-align: right;\n",
       "    }\n",
       "</style>\n",
       "<table border=\"1\" class=\"dataframe\">\n",
       "  <thead>\n",
       "    <tr style=\"text-align: right;\">\n",
       "      <th></th>\n",
       "      <th>text</th>\n",
       "      <th>airline_sentiment</th>\n",
       "    </tr>\n",
       "  </thead>\n",
       "  <tbody>\n",
       "    <tr>\n",
       "      <th>1</th>\n",
       "      <td>plus youve added commercials to the experienc...</td>\n",
       "      <td>positive</td>\n",
       "    </tr>\n",
       "    <tr>\n",
       "      <th>3</th>\n",
       "      <td>its really aggressive to blast obnoxious ente...</td>\n",
       "      <td>negative</td>\n",
       "    </tr>\n",
       "    <tr>\n",
       "      <th>4</th>\n",
       "      <td>and its a really big bad thing about it</td>\n",
       "      <td>negative</td>\n",
       "    </tr>\n",
       "    <tr>\n",
       "      <th>5</th>\n",
       "      <td>seriously would pay 30 a flight for seats tha...</td>\n",
       "      <td>negative</td>\n",
       "    </tr>\n",
       "    <tr>\n",
       "      <th>6</th>\n",
       "      <td>yes nearly every time i fly vx this ear worm ...</td>\n",
       "      <td>positive</td>\n",
       "    </tr>\n",
       "    <tr>\n",
       "      <th>8</th>\n",
       "      <td>well i didntbut now i do d</td>\n",
       "      <td>positive</td>\n",
       "    </tr>\n",
       "    <tr>\n",
       "      <th>9</th>\n",
       "      <td>it was amazing and arrived an hour early your...</td>\n",
       "      <td>positive</td>\n",
       "    </tr>\n",
       "    <tr>\n",
       "      <th>11</th>\n",
       "      <td>i lt3 pretty graphics so much better than min...</td>\n",
       "      <td>positive</td>\n",
       "    </tr>\n",
       "    <tr>\n",
       "      <th>12</th>\n",
       "      <td>this is such a great deal already thinking ab...</td>\n",
       "      <td>positive</td>\n",
       "    </tr>\n",
       "    <tr>\n",
       "      <th>13</th>\n",
       "      <td>im flying your fabulous seductive skies agai...</td>\n",
       "      <td>positive</td>\n",
       "    </tr>\n",
       "  </tbody>\n",
       "</table>\n",
       "</div>"
      ],
      "text/plain": [
       "                                                 text airline_sentiment\n",
       "1    plus youve added commercials to the experienc...          positive\n",
       "3    its really aggressive to blast obnoxious ente...          negative\n",
       "4             and its a really big bad thing about it          negative\n",
       "5    seriously would pay 30 a flight for seats tha...          negative\n",
       "6    yes nearly every time i fly vx this ear worm ...          positive\n",
       "8                          well i didntbut now i do d          positive\n",
       "9    it was amazing and arrived an hour early your...          positive\n",
       "11   i lt3 pretty graphics so much better than min...          positive\n",
       "12   this is such a great deal already thinking ab...          positive\n",
       "13    im flying your fabulous seductive skies agai...          positive"
      ]
     },
     "execution_count": 5,
     "metadata": {},
     "output_type": "execute_result"
    }
   ],
   "source": [
    "data[:10]"
   ]
  },
  {
   "cell_type": "markdown",
   "metadata": {},
   "source": [
    "# Bag of words"
   ]
  },
  {
   "cell_type": "code",
   "execution_count": 6,
   "metadata": {},
   "outputs": [
    {
     "name": "stdout",
     "output_type": "stream",
     "text": [
      "CPU times: user 110 ms, sys: 1.34 ms, total: 111 ms\n",
      "Wall time: 113 ms\n",
      "(11541, 2000)\n"
     ]
    },
    {
     "data": {
      "text/plain": [
       "array([[0, 0, 0, ..., 0, 0, 0],\n",
       "       [0, 0, 0, ..., 0, 0, 0],\n",
       "       [0, 0, 0, ..., 0, 0, 0],\n",
       "       ...,\n",
       "       [0, 0, 0, ..., 0, 0, 0],\n",
       "       [0, 0, 0, ..., 0, 0, 0],\n",
       "       [0, 0, 0, ..., 0, 0, 0]])"
      ]
     },
     "execution_count": 6,
     "metadata": {},
     "output_type": "execute_result"
    }
   ],
   "source": [
    "from sklearn.feature_extraction.text import CountVectorizer\n",
    "\n",
    "#define vectorizer parameters\n",
    "count_vectorizer = CountVectorizer(max_features=2000, stop_words='english')\n",
    "\n",
    "%time count_matrix = count_vectorizer.fit_transform(data['text']) #fit the vectorizer to synopses\n",
    "\n",
    "print(count_matrix.shape)\n",
    "count_matrix.toarray()"
   ]
  },
  {
   "cell_type": "code",
   "execution_count": 7,
   "metadata": {},
   "outputs": [
    {
     "data": {
      "text/plain": [
       "matrix([[0, 0, 0, ..., 0, 0, 0]])"
      ]
     },
     "execution_count": 7,
     "metadata": {},
     "output_type": "execute_result"
    }
   ],
   "source": [
    "count_matrix[0,:].todense()"
   ]
  },
  {
   "cell_type": "markdown",
   "metadata": {},
   "source": [
    "## Ejercicio 1.1: Clasificación usando estrategias de Bagging"
   ]
  },
  {
   "cell_type": "markdown",
   "metadata": {},
   "source": [
    "Realice la partición de los datos entre Entrenamiento y Test. Recuerde que Test es el subconjunto que dejará pára medir el desempeño del sistema después del entrenamiento y de la selección de los hiperparámetros. \n",
    "\n",
    "Teniendo en cuenta la distribución de clases, seleccione correctamente la estrategia de particionamiento."
   ]
  },
  {
   "cell_type": "code",
   "execution_count": 8,
   "metadata": {},
   "outputs": [],
   "source": [
    "#Ejercicio de código\n",
    "from sklearn.model_selection import train_test_split\n",
    "from sklearn.model_selection import StratifiedShuffleSplit\n",
    "#Complete el código\n",
    "X_train, X_test, y_train, y_test = train_test_split(count_matrix, data['airline_sentiment'], test_size=0.2, random_state=42, stratify=data['airline_sentiment'])\n",
    "\n",
    "st = StratifiedShuffleSplit(n_splits=5, test_size=0.2, random_state=0)"
   ]
  },
  {
   "cell_type": "markdown",
   "metadata": {},
   "source": [
    "Diseñe un experimento para ajustar los hiper-parámetros de un modelo Random Forest. Ajuste el número de árboles, la profundida de cada árbol y el número de variables a analizar por nodo."
   ]
  },
  {
   "cell_type": "code",
   "execution_count": 9,
   "metadata": {},
   "outputs": [],
   "source": [
    "from sklearn.ensemble import RandomForestClassifier\n",
    "\n",
    "clf_b = RandomForestClassifier(random_state=0,class_weight='balanced_subsample')"
   ]
  },
  {
   "cell_type": "code",
   "execution_count": 10,
   "metadata": {},
   "outputs": [],
   "source": [
    "from sklearn.model_selection import GridSearchCV\n",
    "\n",
    "parameters = {'n_estimators':[20,40,60,80,100], 'max_depth':[2,4,6,8], 'max_features':[10,20,30,40,50]}\n",
    "\n",
    "clf = GridSearchCV(estimator=clf_b, param_grid=parameters, cv=st, scoring='balanced_accuracy')"
   ]
  },
  {
   "cell_type": "code",
   "execution_count": 11,
   "metadata": {},
   "outputs": [
    {
     "data": {
      "text/plain": [
       "GridSearchCV(cv=StratifiedShuffleSplit(n_splits=5, random_state=0, test_size=0.2,\n",
       "            train_size=None),\n",
       "             error_score=nan,\n",
       "             estimator=RandomForestClassifier(bootstrap=True, ccp_alpha=0.0,\n",
       "                                              class_weight='balanced_subsample',\n",
       "                                              criterion='gini', max_depth=None,\n",
       "                                              max_features='auto',\n",
       "                                              max_leaf_nodes=None,\n",
       "                                              max_samples=None,\n",
       "                                              min_impurity_decrease=0.0,\n",
       "                                              min_impurity_split=None,\n",
       "                                              min...\n",
       "                                              min_samples_split=2,\n",
       "                                              min_weight_fraction_leaf=0.0,\n",
       "                                              n_estimators=100, n_jobs=None,\n",
       "                                              oob_score=False, random_state=0,\n",
       "                                              verbose=0, warm_start=False),\n",
       "             iid='deprecated', n_jobs=None,\n",
       "             param_grid={'max_depth': [2, 4, 6, 8],\n",
       "                         'max_features': [10, 20, 30, 40, 50],\n",
       "                         'n_estimators': [20, 40, 60, 80, 100]},\n",
       "             pre_dispatch='2*n_jobs', refit=True, return_train_score=False,\n",
       "             scoring='balanced_accuracy', verbose=0)"
      ]
     },
     "execution_count": 11,
     "metadata": {},
     "output_type": "execute_result"
    }
   ],
   "source": [
    "clf.fit(X_train,y_train)"
   ]
  },
  {
   "cell_type": "code",
   "execution_count": 12,
   "metadata": {},
   "outputs": [
    {
     "data": {
      "text/plain": [
       "RandomForestClassifier(bootstrap=True, ccp_alpha=0.0,\n",
       "                       class_weight='balanced_subsample', criterion='gini',\n",
       "                       max_depth=8, max_features=10, max_leaf_nodes=None,\n",
       "                       max_samples=None, min_impurity_decrease=0.0,\n",
       "                       min_impurity_split=None, min_samples_leaf=1,\n",
       "                       min_samples_split=2, min_weight_fraction_leaf=0.0,\n",
       "                       n_estimators=100, n_jobs=None, oob_score=False,\n",
       "                       random_state=0, verbose=0, warm_start=False)"
      ]
     },
     "execution_count": 12,
     "metadata": {},
     "output_type": "execute_result"
    }
   ],
   "source": [
    "clf.best_estimator_"
   ]
  },
  {
   "cell_type": "markdown",
   "metadata": {},
   "source": [
    "Evalúe en las muestras de test. Estime: Accuracy, Accuracy Balanceado y F1. Grafique la matriz de confusión normalizada."
   ]
  },
  {
   "cell_type": "code",
   "execution_count": 13,
   "metadata": {},
   "outputs": [
    {
     "name": "stdout",
     "output_type": "stream",
     "text": [
      "Accuracy = 0.797747942832395\n",
      "Balanced Accuracy = 0.8178887599202236\n",
      "F1 = 0.6331500392772977\n"
     ]
    },
    {
     "data": {
      "image/png": "[encoded data removed]",
      "text/plain": [
       "<Figure size 432x288 with 2 Axes>"
      ]
     },
     "metadata": {
      "needs_background": "light"
     },
     "output_type": "display_data"
    }
   ],
   "source": [
    "from sklearn.metrics import accuracy_score, f1_score, balanced_accuracy_score, plot_confusion_matrix\n",
    "from sklearn.preprocessing import LabelEncoder\n",
    "le = LabelEncoder().fit(np.unique(data['airline_sentiment']))\n",
    "\n",
    "Yest = clf.predict(X_test)\n",
    "\n",
    "print(f\"Accuracy = {accuracy_score(y_test,Yest)}\")\n",
    "print(f\"Balanced Accuracy = {balanced_accuracy_score(y_test,Yest)}\")\n",
    "\n",
    "#Las métricas F1, precision and recall requieren que se establezca la convención de cuál es la clase positiva (1)\n",
    "print(f\"F1 = {f1_score(le.transform(y_test),le.transform(Yest))}\")\n",
    "\n",
    "disp = plot_confusion_matrix(clf, X_test, y_test, display_labels=np.unique(data['airline_sentiment']),\n",
    "                             cmap=plt.cm.Blues, \n",
    "                             normalize='true')\n",
    "disp.ax_.set_title('MC normalizada')\n",
    "plt.show()"
   ]
  },
  {
   "cell_type": "markdown",
   "metadata": {},
   "source": [
    "## Ejercicio 1.2\n",
    "\n",
    "Diseñe un experimento para ajustar los hiper-parámetros de un modelo de Bagging de árboles de decisión. Ajuste el número de árboles y la profundida de cada árbol.\n",
    "\n",
    "Tenga en cuenta que el GridSearch no puede modificar la profundida del árbol de decisión porque sólo puede acceder a los parámetros del estimador, que en este caso es un modelo de Bagging, la profundidad hace parte de los párametros del estimador base y no son accesibles por el GridSearch."
   ]
  },
  {
   "cell_type": "code",
   "execution_count": 129,
   "metadata": {},
   "outputs": [],
   "source": [
    "from sklearn.ensemble import BaggingClassifier\n",
    "from sklearn.tree import DecisionTreeClassifier\n",
    "\n",
    "max_depth = [2,4,6,8]\n",
    "parameters = {'n_estimators':[20,40,60,80,100]}\n",
    "clf2 = []\n",
    "for i in max_depth:\n",
    "    \n",
    "    clf_b = DecisionTreeClassifier(random_state=0, class_weight='balanced', max_depth=i)\n",
    "    clf_bagging = BaggingClassifier(base_estimator=clf_b, random_state=0)\n",
    "    clf2.append(GridSearchCV(estimator=clf_bagging, param_grid=parameters, cv=st, scoring='balanced_accuracy').fit(X_train,y_train))\n",
    "\n",
    "best_score = 0\n",
    "for i in range(len(max_depth)):\n",
    "    if clf2[i].best_score_ >= best_score:\n",
    "        best_score = clf2[i].best_score_\n",
    "        ind = i\n",
    "clf2 = clf2[ind]"
   ]
  },
  {
   "cell_type": "code",
   "execution_count": 130,
   "metadata": {},
   "outputs": [
    {
     "data": {
      "text/plain": [
       "BaggingClassifier(base_estimator=DecisionTreeClassifier(class_weight='balanced',\n",
       "                                                        max_depth=8,\n",
       "                                                        random_state=0),\n",
       "                  n_estimators=20, random_state=0)"
      ]
     },
     "execution_count": 130,
     "metadata": {},
     "output_type": "execute_result"
    }
   ],
   "source": [
    "clf2.best_estimator_"
   ]
  },
  {
   "cell_type": "markdown",
   "metadata": {},
   "source": [
    "Evalúe en las muestras de test. Estime Accuracy, Accuracy Balanceado y F1. Grafique la matriz de confusión."
   ]
  },
  {
   "cell_type": "code",
   "execution_count": 131,
   "metadata": {},
   "outputs": [
    {
     "name": "stdout",
     "output_type": "stream",
     "text": [
      "Accuracy = 0.862711130359463\n",
      "Balanced Accuracy = 0.7677072825841635\n",
      "F1 = 0.6442199775533108\n"
     ]
    },
    {
     "data": {
      "image/png": "[encoded data removed]",
      "text/plain": [
       "<Figure size 432x288 with 2 Axes>"
      ]
     },
     "metadata": {
      "needs_background": "light"
     },
     "output_type": "display_data"
    }
   ],
   "source": [
    "Yest = clf2.predict(X_test)\n",
    "\n",
    "print(f\"Accuracy = {accuracy_score(y_test,Yest)}\")\n",
    "print(f\"Balanced Accuracy = {balanced_accuracy_score(y_test,Yest)}\")\n",
    "\n",
    "#Las métricas F1, precision and recall requieren que se establezca la convención de cuál es la clase positiva (1)\n",
    "print(f\"F1 = {f1_score(le.transform(y_test),le.transform(Yest))}\")\n",
    "\n",
    "disp = plot_confusion_matrix(clf2, X_test, y_test, display_labels=np.unique(data['airline_sentiment']),\n",
    "                             cmap=plt.cm.Blues, \n",
    "                             normalize='true')\n",
    "disp.ax_.set_title('MC normalizada')\n",
    "plt.show()"
   ]
  },
  {
   "cell_type": "markdown",
   "metadata": {},
   "source": [
    "### Solución alternativa"
   ]
  },
  {
   "cell_type": "code",
   "execution_count": 15,
   "metadata": {},
   "outputs": [],
   "source": [
    "from sklearn.ensemble import BaggingClassifier\n",
    "from sklearn.tree import DecisionTreeClassifier\n",
    "\n",
    "parameters = {'n_estimators':[20,40,60,80,100],\n",
    "             \"base_estimator__max_depth\": [2,4,6,8],}\n",
    "clf_b = DecisionTreeClassifier(random_state=0, class_weight='balanced')\n",
    "clf_bagging = BaggingClassifier(base_estimator=clf_b, random_state=0)\n",
    "clf2 = GridSearchCV(estimator=clf_bagging, param_grid=parameters, cv=st, scoring='balanced_accuracy').fit(X_train,y_train)"
   ]
  },
  {
   "cell_type": "code",
   "execution_count": 16,
   "metadata": {},
   "outputs": [
    {
     "data": {
      "text/plain": [
       "BaggingClassifier(base_estimator=DecisionTreeClassifier(ccp_alpha=0.0,\n",
       "                                                        class_weight='balanced',\n",
       "                                                        criterion='gini',\n",
       "                                                        max_depth=8,\n",
       "                                                        max_features=None,\n",
       "                                                        max_leaf_nodes=None,\n",
       "                                                        min_impurity_decrease=0.0,\n",
       "                                                        min_impurity_split=None,\n",
       "                                                        min_samples_leaf=1,\n",
       "                                                        min_samples_split=2,\n",
       "                                                        min_weight_fraction_leaf=0.0,\n",
       "                                                        presort='deprecated',\n",
       "                                                        random_state=0,\n",
       "                                                        splitter='best'),\n",
       "                  bootstrap=True, bootstrap_features=False, max_features=1.0,\n",
       "                  max_samples=1.0, n_estimators=20, n_jobs=None,\n",
       "                  oob_score=False, random_state=0, verbose=0, warm_start=False)"
      ]
     },
     "execution_count": 16,
     "metadata": {},
     "output_type": "execute_result"
    }
   ],
   "source": [
    "clf2.best_estimator_"
   ]
  },
  {
   "cell_type": "markdown",
   "metadata": {},
   "source": [
    "## Ejercicio 1.3: Importancia de variables"
   ]
  },
  {
   "cell_type": "markdown",
   "metadata": {},
   "source": [
    "Grafique la importancia de las variables de acuerdo con el mejor de los dos comités de máquina evaluados. Determine cuántas variables tienen importancia 0."
   ]
  },
  {
   "cell_type": "code",
   "execution_count": 132,
   "metadata": {},
   "outputs": [
    {
     "data": {
      "text/plain": [
       "<BarContainer object of 2000 artists>"
      ]
     },
     "execution_count": 132,
     "metadata": {},
     "output_type": "execute_result"
    },
    {
     "data": {
      "image/png": "[encoded data removed]",
      "text/plain": [
       "<Figure size 432x288 with 1 Axes>"
      ]
     },
     "metadata": {
      "needs_background": "light"
     },
     "output_type": "display_data"
    }
   ],
   "source": [
    "plt.bar(np.arange(2000),clf.best_estimator_.feature_importances_)"
   ]
  },
  {
   "cell_type": "code",
   "execution_count": 133,
   "metadata": {},
   "outputs": [
    {
     "data": {
      "text/plain": [
       "1321"
      ]
     },
     "execution_count": 133,
     "metadata": {},
     "output_type": "execute_result"
    }
   ],
   "source": [
    "np.sum(clf.best_estimator_.feature_importances_==0)"
   ]
  },
  {
   "cell_type": "markdown",
   "metadata": {},
   "source": [
    "¿Cuáles son las 10 palabras más determinantes para definir el sentimiento de los tweets? Incluya el código necesario para poder responder la pregunta."
   ]
  },
  {
   "cell_type": "code",
   "execution_count": 134,
   "metadata": {},
   "outputs": [],
   "source": [
    "indx = np.argsort(clf.best_estimator_.feature_importances_)[::-1]"
   ]
  },
  {
   "cell_type": "code",
   "execution_count": 135,
   "metadata": {},
   "outputs": [
    {
     "data": {
      "text/plain": [
       "array([1736, 1739,  826,  889, 1095,  517,  905, 1771,  742,  734])"
      ]
     },
     "execution_count": 135,
     "metadata": {},
     "output_type": "execute_result"
    }
   ],
   "source": [
    "indx[:10]"
   ]
  },
  {
   "cell_type": "code",
   "execution_count": 136,
   "metadata": {},
   "outputs": [
    {
     "name": "stdout",
     "output_type": "stream",
     "text": [
      "thank\n",
      "thanks\n",
      "great\n",
      "hold\n",
      "luggage\n",
      "delayed\n",
      "hour\n",
      "told\n",
      "flightled\n",
      "flight\n"
     ]
    }
   ],
   "source": [
    "for i in indx[:10]:\n",
    "    print(list(count_vectorizer.vocabulary_.keys())[list(count_vectorizer.vocabulary_.values()).index(i)])"
   ]
  },
  {
   "cell_type": "markdown",
   "metadata": {},
   "source": [
    "Cree nueva versiones para los conjuntos Xtrain y Xtest, eliminando las variables que según el análisis anterior tienen importancia cero. Realice nuevamente el proceso de entrenamiento y validación."
   ]
  },
  {
   "cell_type": "code",
   "execution_count": 141,
   "metadata": {},
   "outputs": [
    {
     "data": {
      "text/plain": [
       "GridSearchCV(cv=StratifiedShuffleSplit(n_splits=5, random_state=0, test_size=0.2,\n",
       "            train_size=None),\n",
       "             estimator=RandomForestClassifier(class_weight='balanced_subsample',\n",
       "                                              random_state=0),\n",
       "             param_grid={'max_depth': [2, 4, 6, 8],\n",
       "                         'max_features': [10, 20, 30, 40, 50],\n",
       "                         'n_estimators': [20, 40, 60, 80, 100, 120]},\n",
       "             scoring='balanced_accuracy')"
      ]
     },
     "execution_count": 141,
     "metadata": {},
     "output_type": "execute_result"
    }
   ],
   "source": [
    "X_train2 = X_train[:,clf.best_estimator_.feature_importances_!=0]\n",
    "\n",
    "parameters = {'n_estimators':[20,40,60,80,100,120], 'max_depth':[2,4,6,8], 'max_features':[10,20,30,40,50]}\n",
    "clf_b = RandomForestClassifier(random_state=0,class_weight='balanced_subsample')\n",
    "clf3 = GridSearchCV(estimator=clf_b, param_grid=parameters, cv=st, scoring='balanced_accuracy')\n",
    "clf3.fit(X_train2,y_train)"
   ]
  },
  {
   "cell_type": "code",
   "execution_count": 142,
   "metadata": {},
   "outputs": [
    {
     "data": {
      "text/plain": [
       "120"
      ]
     },
     "execution_count": 142,
     "metadata": {},
     "output_type": "execute_result"
    }
   ],
   "source": [
    "clf3.best_estimator_.n_estimators"
   ]
  },
  {
   "cell_type": "markdown",
   "metadata": {},
   "source": [
    "Evalúe en las muestras de test. Estime Accuracy, Accuracy Balanceado y F1. Grafique la matriz de confusión. ¿Cambió el resultado?"
   ]
  },
  {
   "cell_type": "code",
   "execution_count": 143,
   "metadata": {},
   "outputs": [
    {
     "name": "stdout",
     "output_type": "stream",
     "text": [
      "Accuracy = 0.7916847119965353\n",
      "Balanced Accuracy = 0.8077981133726688\n",
      "F1 = 0.6215578284815106\n"
     ]
    },
    {
     "data": {
      "image/png": "[encoded data removed]",
      "text/plain": [
       "<Figure size 432x288 with 2 Axes>"
      ]
     },
     "metadata": {
      "needs_background": "light"
     },
     "output_type": "display_data"
    }
   ],
   "source": [
    "X_test2 = X_test[:,clf.best_estimator_.feature_importances_!=0]\n",
    "Yest = clf3.predict(X_test2)\n",
    "\n",
    "print(f\"Accuracy = {accuracy_score(y_test,Yest)}\")\n",
    "print(f\"Balanced Accuracy = {balanced_accuracy_score(y_test,Yest)}\")\n",
    "\n",
    "#Las métricas F1, precision and recall requieren que se establezca la convención de cuál es la clase positiva (1)\n",
    "print(f\"F1 = {f1_score(le.transform(y_test),le.transform(Yest))}\")\n",
    "\n",
    "disp = plot_confusion_matrix(clf3, X_test2, y_test, display_labels=np.unique(data['airline_sentiment']),\n",
    "                             cmap=plt.cm.Blues, \n",
    "                             normalize='true')\n",
    "disp.ax_.set_title('MC normalizada')\n",
    "plt.show()"
   ]
  },
  {
   "cell_type": "markdown",
   "metadata": {},
   "source": [
    "# Parte 2.\n",
    "\n",
    "**tf-idf + Boosting**"
   ]
  },
  {
   "cell_type": "markdown",
   "metadata": {},
   "source": [
    "## tf-idf representation\n",
    "\n",
    "This stands for term frequency and inverse document frequency. The tf-idf weighting scheme assigns to term $t$ a weight in document $d$ given by\n",
    "\n",
    "$$\n",
    "\\mbox{tf-idf}_{t,d} = \\mbox{tf}_{t,d} \\times \\mbox{idf}_t.$$\n",
    "\n",
    "**Term Frequency (tf)**: gives us the frequency of the word in each document in the corpus. It is the ratio of number of times the word appears in a document compared to the total number of words in that document. It increases as the number of occurrences of that word within the document increases. Each document has its own tf.\n",
    "\n",
    "$$\\mbox{tf}_{t,d} = \\frac{n_{t,d}}{\\sum_k n_{k,d}} $$\n",
    "\n",
    "**Inverse Data Frequency (idf)**: used to calculate the weight of rare words across all documents in the corpus. The words that occur rarely in the corpus have a high IDF score. It is given by the equation below.\n",
    "\n",
    "$$\\mbox{idf}_{t} = \\log\\left(\\frac{N}{df_t}\\right) + 1; \\; df_t = \\text{number of documents contaning } t $$\n",
    "\n",
    "In other words, $\\mbox{tf-idf}_{t,d}$ assigns to term $t$ a weight in document $d$ that is\n",
    "\n",
    "- highest when $t$ occurs many times within a small number of documents (thus lending high discriminating power to those documents);\n",
    "- lower when the term occurs fewer times in a document, or occurs in many documents (thus offering a less pronounced relevance signal);\n",
    "\n",
    "- lowest when the term occurs in virtually all documents."
   ]
  },
  {
   "cell_type": "code",
   "execution_count": 10,
   "metadata": {},
   "outputs": [
    {
     "name": "stdout",
     "output_type": "stream",
     "text": [
      "CPU times: user 111 ms, sys: 2.33 ms, total: 113 ms\n",
      "Wall time: 112 ms\n",
      "(11541, 2000)\n",
      "  (0, 661)\t0.39367966365691553\n",
      "  (0, 103)\t0.591824806409575\n",
      "  (0, 1993)\t0.4912521788552613\n",
      "  (0, 1337)\t0.5034193259214481\n",
      "  (1, 1061)\t0.4695313866808273\n",
      "  (1, 144)\t0.3094125314529977\n",
      "  (1, 125)\t0.5385400398830689\n",
      "  (1, 624)\t0.5187164369706571\n",
      "  (1, 1418)\t0.35314592700558783\n",
      "  (2, 1742)\t0.5576573833773847\n",
      "  (2, 214)\t0.4634174987416282\n",
      "  (2, 246)\t0.5462077749306882\n",
      "  (2, 1418)\t0.4194276233511667\n",
      "  (3, 1880)\t0.44800146758106696\n",
      "  (3, 757)\t0.26545077257155125\n",
      "  (3, 542)\t0.27678258315191273\n",
      "  (3, 1544)\t0.2864825323709622\n",
      "  (3, 734)\t0.13096688472776288\n",
      "  (3, 41)\t0.304631887571051\n",
      "  (3, 1294)\t0.304631887571051\n",
      "  (3, 1557)\t0.3247018156756328\n",
      "  (3, 1742)\t0.34074273991952364\n",
      "  (3, 214)\t0.283159791217208\n",
      "  (3, 1418)\t0.25628086678069506\n",
      "  (4, 207)\t0.45423030614611987\n",
      "  :\t:\n",
      "  (11538, 546)\t0.553997328813931\n",
      "  (11538, 825)\t0.4055546357576335\n",
      "  (11538, 1732)\t0.3768143993159555\n",
      "  (11538, 734)\t0.2220002209501983\n",
      "  (11539, 1572)\t0.3453559847893167\n",
      "  (11539, 23)\t0.2526905070840017\n",
      "  (11539, 397)\t0.28517826649539635\n",
      "  (11539, 1033)\t0.2731863704430717\n",
      "  (11539, 1697)\t0.31526712564235654\n",
      "  (11539, 12)\t0.2550894073484362\n",
      "  (11539, 1737)\t0.2190194888688831\n",
      "  (11539, 1025)\t0.383407084182511\n",
      "  (11539, 480)\t0.16488453432146702\n",
      "  (11539, 1169)\t0.41612488067942954\n",
      "  (11539, 302)\t0.2388243214623136\n",
      "  (11539, 734)\t0.21000223156897668\n",
      "  (11540, 1685)\t0.4517609789587755\n",
      "  (11540, 394)\t0.4656803964061788\n",
      "  (11540, 1312)\t0.38326107066305637\n",
      "  (11540, 1110)\t0.26898877004493493\n",
      "  (11540, 1183)\t0.3293848827317626\n",
      "  (11540, 151)\t0.3167562295013002\n",
      "  (11540, 578)\t0.23904115990190114\n",
      "  (11540, 338)\t0.2754839889207997\n",
      "  (11540, 734)\t0.1339730025716178\n"
     ]
    }
   ],
   "source": [
    "from sklearn.feature_extraction.text import TfidfVectorizer\n",
    "\n",
    "#define vectorizer parameters\n",
    "tfidf_vectorizer = TfidfVectorizer(max_features=2000,stop_words='english',\n",
    "                                 use_idf=True) #ngram_range=(1,3)\n",
    "\n",
    "%time tfidf_matrix = tfidf_vectorizer.fit_transform(data['text']) #fit the vectorizer to synopses\n",
    "\n",
    "print(tfidf_matrix.shape)\n",
    "print(tfidf_matrix)"
   ]
  },
  {
   "cell_type": "markdown",
   "metadata": {},
   "source": [
    "De manera alternativa se puede hacer usando la clase TfidfTransformer a partir de la matrix de conteos previa:"
   ]
  },
  {
   "cell_type": "code",
   "execution_count": 12,
   "metadata": {},
   "outputs": [
    {
     "name": "stdout",
     "output_type": "stream",
     "text": [
      "(11541, 2000)\n",
      "  (0, 1993)\t0.4912521788552613\n",
      "  (0, 1337)\t0.5034193259214481\n",
      "  (0, 661)\t0.39367966365691553\n",
      "  (0, 103)\t0.591824806409575\n",
      "  (1, 1418)\t0.35314592700558783\n",
      "  (1, 1061)\t0.4695313866808273\n",
      "  (1, 624)\t0.5187164369706571\n",
      "  (1, 144)\t0.3094125314529977\n",
      "  (1, 125)\t0.5385400398830689\n",
      "  (2, 1742)\t0.5576573833773847\n",
      "  (2, 1418)\t0.4194276233511667\n",
      "  (2, 246)\t0.5462077749306882\n",
      "  (2, 214)\t0.4634174987416282\n",
      "  (3, 1880)\t0.44800146758106696\n",
      "  (3, 1742)\t0.34074273991952364\n",
      "  (3, 1557)\t0.3247018156756328\n",
      "  (3, 1544)\t0.2864825323709622\n",
      "  (3, 1418)\t0.25628086678069506\n",
      "  (3, 1294)\t0.304631887571051\n",
      "  (3, 757)\t0.26545077257155125\n",
      "  (3, 734)\t0.13096688472776288\n",
      "  (3, 542)\t0.27678258315191273\n",
      "  (3, 214)\t0.283159791217208\n",
      "  (3, 41)\t0.304631887571051\n",
      "  (4, 1985)\t0.37311237553662946\n",
      "  :\t:\n",
      "  (11538, 825)\t0.4055546357576335\n",
      "  (11538, 734)\t0.2220002209501983\n",
      "  (11538, 546)\t0.553997328813931\n",
      "  (11538, 358)\t0.5808090972503284\n",
      "  (11539, 1737)\t0.2190194888688831\n",
      "  (11539, 1697)\t0.31526712564235654\n",
      "  (11539, 1572)\t0.3453559847893167\n",
      "  (11539, 1169)\t0.41612488067942954\n",
      "  (11539, 1033)\t0.2731863704430717\n",
      "  (11539, 1025)\t0.383407084182511\n",
      "  (11539, 734)\t0.21000223156897668\n",
      "  (11539, 480)\t0.16488453432146702\n",
      "  (11539, 397)\t0.28517826649539635\n",
      "  (11539, 302)\t0.2388243214623136\n",
      "  (11539, 23)\t0.2526905070840017\n",
      "  (11539, 12)\t0.2550894073484362\n",
      "  (11540, 1685)\t0.4517609789587755\n",
      "  (11540, 1312)\t0.38326107066305637\n",
      "  (11540, 1183)\t0.3293848827317626\n",
      "  (11540, 1110)\t0.26898877004493493\n",
      "  (11540, 734)\t0.1339730025716178\n",
      "  (11540, 578)\t0.23904115990190114\n",
      "  (11540, 394)\t0.4656803964061788\n",
      "  (11540, 338)\t0.2754839889207997\n",
      "  (11540, 151)\t0.3167562295013002\n"
     ]
    }
   ],
   "source": [
    "from sklearn.feature_extraction.text import TfidfTransformer\n",
    "tfidf_transformer = TfidfTransformer()\n",
    "tfidf_matrix2 = tfidf_transformer.fit_transform(count_matrix) #fit the vectorizer to synopses\n",
    "\n",
    "print(tfidf_matrix2.shape)\n",
    "print(tfidf_matrix2)"
   ]
  },
  {
   "cell_type": "markdown",
   "metadata": {},
   "source": [
    "## Ejercicio 2.1: Clasificación usando estrategias de Boosting\n",
    "\n",
    "Realice la partición de los datos entre Entrenamiento y Test. Recuerde que Test es el subconjunto que dejará pára medir el desempeño del sistema después del entrenamiento y de la selección de los hiperparámetros. \n",
    "\n",
    "Teniendo en cuenta la distribución de clases, seleccione correctamente la estrategia de particionamiento."
   ]
  },
  {
   "cell_type": "code",
   "execution_count": 160,
   "metadata": {},
   "outputs": [],
   "source": [
    "#Complete el código\n",
    "X_train, X_test, y_train, y_test = train_test_split(tfidf_matrix, data['airline_sentiment'], test_size=0.2, random_state=42, stratify=data['airline_sentiment'])\n",
    "\n",
    "st = StratifiedShuffleSplit(n_splits=5, test_size=0.2, random_state=0)"
   ]
  },
  {
   "cell_type": "markdown",
   "metadata": {},
   "source": [
    "Diseñe un experimento para ajustar los hiper-parámetros de un modelo Gradient Boosting Tree. Ajuste el número de árboles, la profundida de cada árbol y el número de variables a analizar por nodo."
   ]
  },
  {
   "cell_type": "code",
   "execution_count": 161,
   "metadata": {},
   "outputs": [],
   "source": [
    "from sklearn.ensemble import GradientBoostingClassifier\n",
    "\n",
    "clf_b = GradientBoostingClassifier(random_state=0)\n",
    "\n",
    "parameters = {'n_estimators':[20,40,60,80,100,120,140], 'max_depth':[2,4,6,8], 'max_features':[10,20,30,40,50]}\n",
    "\n",
    "clf = GridSearchCV(estimator=clf_b, param_grid=parameters, cv=st, scoring='balanced_accuracy')"
   ]
  },
  {
   "cell_type": "code",
   "execution_count": 162,
   "metadata": {},
   "outputs": [
    {
     "data": {
      "text/plain": [
       "GridSearchCV(cv=StratifiedShuffleSplit(n_splits=5, random_state=0, test_size=0.2,\n",
       "            train_size=None),\n",
       "             estimator=GradientBoostingClassifier(random_state=0),\n",
       "             param_grid={'max_depth': [2, 4, 6, 8],\n",
       "                         'max_features': [10, 20, 30, 40, 50],\n",
       "                         'n_estimators': [20, 40, 60, 80, 100, 120, 140]},\n",
       "             scoring='balanced_accuracy')"
      ]
     },
     "execution_count": 162,
     "metadata": {},
     "output_type": "execute_result"
    }
   ],
   "source": [
    "clf.fit(X_train,y_train)"
   ]
  },
  {
   "cell_type": "code",
   "execution_count": 163,
   "metadata": {},
   "outputs": [
    {
     "data": {
      "text/plain": [
       "140"
      ]
     },
     "execution_count": 163,
     "metadata": {},
     "output_type": "execute_result"
    }
   ],
   "source": [
    "clf.best_estimator_.n_estimators"
   ]
  },
  {
   "cell_type": "code",
   "execution_count": 164,
   "metadata": {},
   "outputs": [
    {
     "name": "stdout",
     "output_type": "stream",
     "text": [
      "Accuracy = 0.8904287570376787\n",
      "Balanced Accuracy = 0.7827822225907042\n",
      "F1 = 0.6918392204628503\n"
     ]
    },
    {
     "data": {
      "image/png": "[encoded data removed]",
      "text/plain": [
       "<Figure size 432x288 with 2 Axes>"
      ]
     },
     "metadata": {
      "needs_background": "light"
     },
     "output_type": "display_data"
    }
   ],
   "source": [
    "Yest = clf.predict(X_test)\n",
    "\n",
    "print(f\"Accuracy = {accuracy_score(y_test,Yest)}\")\n",
    "print(f\"Balanced Accuracy = {balanced_accuracy_score(y_test,Yest)}\")\n",
    "\n",
    "#Las métricas F1, precision and recall requieren que se establezca la convención de cuál es la clase positiva (1)\n",
    "print(f\"F1 = {f1_score(le.transform(y_test),le.transform(Yest))}\")\n",
    "\n",
    "disp = plot_confusion_matrix(clf, X_test, y_test, display_labels=np.unique(data['airline_sentiment']),\n",
    "                             cmap=plt.cm.Blues, \n",
    "                             normalize='true')\n",
    "disp.ax_.set_title('MC normalizada')\n",
    "plt.show()"
   ]
  },
  {
   "cell_type": "markdown",
   "metadata": {},
   "source": [
    "## Ejercicio 2.2: \n",
    "\n",
    "Modifique el experimento anterior para ajustar los hiper-parámetros de un modelo **Stochastic** Gradient Boosting Tree. Ajuste el número de árboles, la profundida de cada árbol y el número de variables a analizar por nodo. Use un parámetro subsample = 0.9."
   ]
  },
  {
   "cell_type": "code",
   "execution_count": 165,
   "metadata": {},
   "outputs": [
    {
     "data": {
      "text/plain": [
       "GridSearchCV(cv=StratifiedShuffleSplit(n_splits=5, random_state=0, test_size=0.2,\n",
       "            train_size=None),\n",
       "             estimator=GradientBoostingClassifier(random_state=0,\n",
       "                                                  subsample=0.9),\n",
       "             param_grid={'max_depth': [2, 4, 6, 8],\n",
       "                         'max_features': [10, 20, 30, 40, 50],\n",
       "                         'n_estimators': [20, 40, 60, 80, 100, 120, 140]},\n",
       "             scoring='balanced_accuracy')"
      ]
     },
     "execution_count": 165,
     "metadata": {},
     "output_type": "execute_result"
    }
   ],
   "source": [
    "clf_b = GradientBoostingClassifier(random_state=0, subsample = 0.9)\n",
    "\n",
    "parameters = {'n_estimators':[20,40,60,80,100,120,140], 'max_depth':[2,4,6,8], 'max_features':[10,20,30,40,50]}\n",
    "\n",
    "clf2 = GridSearchCV(estimator=clf_b, param_grid=parameters, cv=st, scoring='balanced_accuracy')\n",
    "clf2.fit(X_train,y_train)"
   ]
  },
  {
   "cell_type": "code",
   "execution_count": 166,
   "metadata": {},
   "outputs": [
    {
     "data": {
      "text/plain": [
       "GradientBoostingClassifier(max_depth=8, max_features=40, n_estimators=140,\n",
       "                           random_state=0, subsample=0.9)"
      ]
     },
     "execution_count": 166,
     "metadata": {},
     "output_type": "execute_result"
    }
   ],
   "source": [
    "clf2.best_estimator_"
   ]
  },
  {
   "cell_type": "markdown",
   "metadata": {},
   "source": [
    "Evalúe en las muestras de test. Estime: Accuracy, Accuracy Balanceado y F1. Grafique la matriz de confusión normalizada."
   ]
  },
  {
   "cell_type": "code",
   "execution_count": 167,
   "metadata": {},
   "outputs": [
    {
     "name": "stdout",
     "output_type": "stream",
     "text": [
      "Accuracy = 0.887830229536596\n",
      "Balanced Accuracy = 0.7787939817693579\n",
      "F1 = 0.6845310596833131\n"
     ]
    },
    {
     "data": {
      "image/png": "[encoded data removed]",
      "text/plain": [
       "<Figure size 432x288 with 2 Axes>"
      ]
     },
     "metadata": {
      "needs_background": "light"
     },
     "output_type": "display_data"
    }
   ],
   "source": [
    "Yest = clf2.predict(X_test)\n",
    "\n",
    "print(f\"Accuracy = {accuracy_score(y_test,Yest)}\")\n",
    "print(f\"Balanced Accuracy = {balanced_accuracy_score(y_test,Yest)}\")\n",
    "\n",
    "#Las métricas F1, precision and recall requieren que se establezca la convención de cuál es la clase positiva (1)\n",
    "print(f\"F1 = {f1_score(le.transform(y_test),le.transform(Yest))}\")\n",
    "\n",
    "disp = plot_confusion_matrix(clf2, X_test, y_test, display_labels=np.unique(data['airline_sentiment']),\n",
    "                             cmap=plt.cm.Blues, \n",
    "                             normalize='true')\n",
    "disp.ax_.set_title('MC normalizada')\n",
    "plt.show()"
   ]
  },
  {
   "cell_type": "markdown",
   "metadata": {},
   "source": [
    "## Ejercicio 2.2\n",
    "\n",
    "Determine las 10 palabras más importantes para la clasificación de acuerdo con el mejor modelo de la parte 2."
   ]
  },
  {
   "cell_type": "code",
   "execution_count": 168,
   "metadata": {},
   "outputs": [],
   "source": [
    "indx = np.argsort(clf.best_estimator_.feature_importances_)[::-1]"
   ]
  },
  {
   "cell_type": "code",
   "execution_count": 175,
   "metadata": {},
   "outputs": [
    {
     "name": "stdout",
     "output_type": "stream",
     "text": [
      "thanks\n",
      "thank\n",
      "great\n",
      "awesome\n",
      "love\n",
      "amazing\n",
      "best\n",
      "flight\n",
      "hours\n",
      "hold\n"
     ]
    }
   ],
   "source": [
    "for i in indx[:10]:\n",
    "    print(list(tfidf_vectorizer.vocabulary_.keys())[list(tfidf_vectorizer.vocabulary_.values()).index(i)])"
   ]
  },
  {
   "cell_type": "markdown",
   "metadata": {},
   "source": [
    "## *Ejercicio 3: XGBoost\n",
    "\n",
    "Se recomienda revisar la documentación oficial [link](https://xgboost.readthedocs.io/en/latest/index.html)"
   ]
  },
  {
   "cell_type": "code",
   "execution_count": 211,
   "metadata": {},
   "outputs": [],
   "source": [
    "import xgboost as xgb\n",
    "from sklearn.utils.class_weight import compute_class_weight"
   ]
  },
  {
   "cell_type": "code",
   "execution_count": 212,
   "metadata": {},
   "outputs": [],
   "source": [
    "class_weight = compute_class_weight('balanced',le.classes_,y_train)"
   ]
  },
  {
   "cell_type": "code",
   "execution_count": 213,
   "metadata": {},
   "outputs": [
    {
     "data": {
      "text/plain": [
       "array([0.62871152, 2.44232804])"
      ]
     },
     "execution_count": 213,
     "metadata": {},
     "output_type": "execute_result"
    }
   ],
   "source": [
    "class_weight"
   ]
  },
  {
   "cell_type": "code",
   "execution_count": 220,
   "metadata": {},
   "outputs": [],
   "source": [
    "param = {'n_estimators':[20,40,60,80,100,120,140],'max_depth': [2,4,6,8], 'learning_rate':[1,0.5,0.1], 'reg_lambda':[0.1,0.2]}\n",
    "clf_b = xgb.XGBClassifier(scale_pos_weight=class_weight[1]/class_weight[0],random_state = 0, objective='binary:logistic')"
   ]
  },
  {
   "cell_type": "code",
   "execution_count": 222,
   "metadata": {},
   "outputs": [
    {
     "data": {
      "text/plain": [
       "GridSearchCV(cv=StratifiedShuffleSplit(n_splits=5, random_state=0, test_size=0.2,\n",
       "            train_size=None),\n",
       "             estimator=XGBClassifier(scale_pos_weight=3.8846560846560845),\n",
       "             param_grid={'learning_rate': [1, 0.5, 0.1],\n",
       "                         'max_depth': [2, 4, 6, 8],\n",
       "                         'n_estimators': [20, 40, 60, 80, 100, 120, 140],\n",
       "                         'reg_lambda': [0.1, 0.2]},\n",
       "             scoring='balanced_accuracy')"
      ]
     },
     "execution_count": 222,
     "metadata": {},
     "output_type": "execute_result"
    }
   ],
   "source": [
    "clf3 = GridSearchCV(estimator=clf_b, param_grid=param, cv=st, scoring='balanced_accuracy')\n",
    "clf3.fit(X_train,y_train)"
   ]
  },
  {
   "cell_type": "code",
   "execution_count": 223,
   "metadata": {},
   "outputs": [
    {
     "data": {
      "text/plain": [
       "XGBClassifier(learning_rate=0.5, max_depth=8, n_estimators=140, reg_lambda=0.2,\n",
       "              scale_pos_weight=3.8846560846560845)"
      ]
     },
     "execution_count": 223,
     "metadata": {},
     "output_type": "execute_result"
    }
   ],
   "source": [
    "clf3.best_estimator_"
   ]
  },
  {
   "cell_type": "code",
   "execution_count": 224,
   "metadata": {},
   "outputs": [
    {
     "name": "stdout",
     "output_type": "stream",
     "text": [
      "Accuracy = 0.8830662624512776\n",
      "Balanced Accuracy = 0.8472107071628275\n",
      "F1 = 0.7337278106508877\n"
     ]
    },
    {
     "data": {
      "image/png": "[encoded data removed]",
      "text/plain": [
       "<Figure size 432x288 with 2 Axes>"
      ]
     },
     "metadata": {
      "needs_background": "light"
     },
     "output_type": "display_data"
    }
   ],
   "source": [
    "Yest = clf3.predict(X_test)\n",
    "\n",
    "print(f\"Accuracy = {accuracy_score(y_test,Yest)}\")\n",
    "print(f\"Balanced Accuracy = {balanced_accuracy_score(y_test,Yest)}\")\n",
    "\n",
    "#Las métricas F1, precision and recall requieren que se establezca la convención de cuál es la clase positiva (1)\n",
    "print(f\"F1 = {f1_score(le.transform(y_test),le.transform(Yest))}\")\n",
    "\n",
    "disp = plot_confusion_matrix(clf3, X_test, y_test, display_labels=np.unique(data['airline_sentiment']),\n",
    "                             cmap=plt.cm.Blues, \n",
    "                             normalize='true')\n",
    "disp.ax_.set_title('MC normalizada')\n",
    "plt.show()"
   ]
  },
  {
   "cell_type": "code",
   "execution_count": 227,
   "metadata": {},
   "outputs": [
    {
     "data": {
      "text/plain": [
       "[<matplotlib.lines.Line2D at 0x7fd5087d3290>]"
      ]
     },
     "execution_count": 227,
     "metadata": {},
     "output_type": "execute_result"
    },
    {
     "data": {
      "image/png": "[encoded data removed]",
      "text/plain": [
       "<Figure size 432x288 with 1 Axes>"
      ]
     },
     "metadata": {
      "needs_background": "light"
     },
     "output_type": "display_data"
    }
   ],
   "source": [
    "plt.plot(clf3.best_estimator_.feature_importances_)"
   ]
  },
  {
   "cell_type": "code",
   "execution_count": 228,
   "metadata": {},
   "outputs": [
    {
     "data": {
      "text/plain": [
       "1247"
      ]
     },
     "execution_count": 228,
     "metadata": {},
     "output_type": "execute_result"
    }
   ],
   "source": [
    "np.sum(clf3.best_estimator_.feature_importances_==0)"
   ]
  },
  {
   "cell_type": "code",
   "execution_count": 229,
   "metadata": {},
   "outputs": [
    {
     "name": "stdout",
     "output_type": "stream",
     "text": [
      "thank\n",
      "love\n",
      "great\n",
      "awesome\n",
      "amazing\n",
      "thanks\n",
      "best\n",
      "hours\n",
      "cancelled\n",
      "told\n"
     ]
    }
   ],
   "source": [
    "indx = np.argsort(clf3.best_estimator_.feature_importances_)[::-1]\n",
    "for i in indx[:10]:\n",
    "    print(list(tfidf_vectorizer.vocabulary_.keys())[list(tfidf_vectorizer.vocabulary_.values()).index(i)])"
   ]
  },
  {
   "cell_type": "markdown",
   "metadata": {},
   "source": [
    "Sin el wrapper..."
   ]
  },
  {
   "cell_type": "code",
   "execution_count": 199,
   "metadata": {},
   "outputs": [
    {
     "name": "stdout",
     "output_type": "stream",
     "text": [
      "[0]\teval-auc:0.752647\ttrain-auc:0.76766\n",
      "[1]\teval-auc:0.763506\ttrain-auc:0.780277\n",
      "[2]\teval-auc:0.764168\ttrain-auc:0.780838\n",
      "[3]\teval-auc:0.76415\ttrain-auc:0.780835\n",
      "[4]\teval-auc:0.76696\ttrain-auc:0.784821\n",
      "[5]\teval-auc:0.767063\ttrain-auc:0.784968\n",
      "[6]\teval-auc:0.77862\ttrain-auc:0.79607\n",
      "[7]\teval-auc:0.778844\ttrain-auc:0.796336\n",
      "[8]\teval-auc:0.783783\ttrain-auc:0.801997\n",
      "[9]\teval-auc:0.785227\ttrain-auc:0.802326\n",
      "[10]\teval-auc:0.785104\ttrain-auc:0.802719\n",
      "[11]\teval-auc:0.796629\ttrain-auc:0.817769\n",
      "[12]\teval-auc:0.801545\ttrain-auc:0.821828\n",
      "[13]\teval-auc:0.804243\ttrain-auc:0.826232\n",
      "[14]\teval-auc:0.812265\ttrain-auc:0.836149\n",
      "[15]\teval-auc:0.828472\ttrain-auc:0.856628\n",
      "[16]\teval-auc:0.82759\ttrain-auc:0.859427\n",
      "[17]\teval-auc:0.830593\ttrain-auc:0.862983\n",
      "[18]\teval-auc:0.830829\ttrain-auc:0.863637\n",
      "[19]\teval-auc:0.831358\ttrain-auc:0.864243\n",
      "[20]\teval-auc:0.840387\ttrain-auc:0.875469\n",
      "[21]\teval-auc:0.841018\ttrain-auc:0.876043\n",
      "[22]\teval-auc:0.841597\ttrain-auc:0.876665\n",
      "[23]\teval-auc:0.843624\ttrain-auc:0.878877\n",
      "[24]\teval-auc:0.844028\ttrain-auc:0.879173\n",
      "[25]\teval-auc:0.845735\ttrain-auc:0.881988\n",
      "[26]\teval-auc:0.845643\ttrain-auc:0.882063\n",
      "[27]\teval-auc:0.84743\ttrain-auc:0.883489\n",
      "[28]\teval-auc:0.848067\ttrain-auc:0.884546\n",
      "[29]\teval-auc:0.849112\ttrain-auc:0.884839\n",
      "[30]\teval-auc:0.85007\ttrain-auc:0.88713\n",
      "[31]\teval-auc:0.850287\ttrain-auc:0.888457\n",
      "[32]\teval-auc:0.851566\ttrain-auc:0.889505\n",
      "[33]\teval-auc:0.854803\ttrain-auc:0.892355\n",
      "[34]\teval-auc:0.855802\ttrain-auc:0.89325\n",
      "[35]\teval-auc:0.856486\ttrain-auc:0.893807\n",
      "[36]\teval-auc:0.858524\ttrain-auc:0.895586\n",
      "[37]\teval-auc:0.857835\ttrain-auc:0.896792\n",
      "[38]\teval-auc:0.86107\ttrain-auc:0.898944\n",
      "[39]\teval-auc:0.862218\ttrain-auc:0.900694\n",
      "[40]\teval-auc:0.863152\ttrain-auc:0.90235\n",
      "[41]\teval-auc:0.865209\ttrain-auc:0.903701\n",
      "[42]\teval-auc:0.865541\ttrain-auc:0.904124\n",
      "[43]\teval-auc:0.866855\ttrain-auc:0.905584\n",
      "[44]\teval-auc:0.866944\ttrain-auc:0.905739\n",
      "[45]\teval-auc:0.868919\ttrain-auc:0.907573\n",
      "[46]\teval-auc:0.870528\ttrain-auc:0.908671\n",
      "[47]\teval-auc:0.871376\ttrain-auc:0.909705\n",
      "[48]\teval-auc:0.871607\ttrain-auc:0.910544\n",
      "[49]\teval-auc:0.871548\ttrain-auc:0.912456\n",
      "[50]\teval-auc:0.870874\ttrain-auc:0.913224\n",
      "[51]\teval-auc:0.872426\ttrain-auc:0.914661\n",
      "[52]\teval-auc:0.873856\ttrain-auc:0.915619\n",
      "[53]\teval-auc:0.875307\ttrain-auc:0.917152\n",
      "[54]\teval-auc:0.875881\ttrain-auc:0.917658\n",
      "[55]\teval-auc:0.876145\ttrain-auc:0.918506\n",
      "[56]\teval-auc:0.87718\ttrain-auc:0.919104\n",
      "[57]\teval-auc:0.877651\ttrain-auc:0.919621\n",
      "[58]\teval-auc:0.877946\ttrain-auc:0.919958\n",
      "[59]\teval-auc:0.877411\ttrain-auc:0.920318\n",
      "[60]\teval-auc:0.878884\ttrain-auc:0.921343\n",
      "[61]\teval-auc:0.878177\ttrain-auc:0.921762\n",
      "[62]\teval-auc:0.879407\ttrain-auc:0.922619\n",
      "[63]\teval-auc:0.880137\ttrain-auc:0.922834\n",
      "[64]\teval-auc:0.881162\ttrain-auc:0.923355\n",
      "[65]\teval-auc:0.881922\ttrain-auc:0.923921\n",
      "[66]\teval-auc:0.882055\ttrain-auc:0.924497\n",
      "[67]\teval-auc:0.882443\ttrain-auc:0.92492\n",
      "[68]\teval-auc:0.882789\ttrain-auc:0.925111\n",
      "[69]\teval-auc:0.883488\ttrain-auc:0.925503\n",
      "[70]\teval-auc:0.883263\ttrain-auc:0.92568\n",
      "[71]\teval-auc:0.884298\ttrain-auc:0.926319\n",
      "[72]\teval-auc:0.884328\ttrain-auc:0.92719\n",
      "[73]\teval-auc:0.884943\ttrain-auc:0.927456\n",
      "[74]\teval-auc:0.885536\ttrain-auc:0.927786\n",
      "[75]\teval-auc:0.886951\ttrain-auc:0.928555\n",
      "[76]\teval-auc:0.887307\ttrain-auc:0.928732\n",
      "[77]\teval-auc:0.88801\ttrain-auc:0.929248\n",
      "[78]\teval-auc:0.888102\ttrain-auc:0.929467\n",
      "[79]\teval-auc:0.889209\ttrain-auc:0.930243\n",
      "[80]\teval-auc:0.889278\ttrain-auc:0.930714\n",
      "[81]\teval-auc:0.889462\ttrain-auc:0.931335\n",
      "[82]\teval-auc:0.889957\ttrain-auc:0.931442\n",
      "[83]\teval-auc:0.89062\ttrain-auc:0.931679\n",
      "[84]\teval-auc:0.89087\ttrain-auc:0.932114\n",
      "[85]\teval-auc:0.891579\ttrain-auc:0.932753\n",
      "[86]\teval-auc:0.891961\ttrain-auc:0.933322\n",
      "[87]\teval-auc:0.892179\ttrain-auc:0.933505\n",
      "[88]\teval-auc:0.892715\ttrain-auc:0.933751\n",
      "[89]\teval-auc:0.893191\ttrain-auc:0.934347\n",
      "[90]\teval-auc:0.893114\ttrain-auc:0.934465\n",
      "[91]\teval-auc:0.893093\ttrain-auc:0.934896\n",
      "[92]\teval-auc:0.893447\ttrain-auc:0.935031\n",
      "[93]\teval-auc:0.893993\ttrain-auc:0.935415\n",
      "[94]\teval-auc:0.893956\ttrain-auc:0.935785\n",
      "[95]\teval-auc:0.893802\ttrain-auc:0.936061\n",
      "[96]\teval-auc:0.894105\ttrain-auc:0.936421\n",
      "[97]\teval-auc:0.894806\ttrain-auc:0.936801\n",
      "[98]\teval-auc:0.895894\ttrain-auc:0.937336\n",
      "[99]\teval-auc:0.896759\ttrain-auc:0.937987\n"
     ]
    }
   ],
   "source": [
    "X_train_mat = xgb.DMatrix(X_train, label=le.transform(y_train))\n",
    "X_test_mat = xgb.DMatrix(X_test, label=le.transform(y_test))\n",
    "\n",
    "param = {'max_depth': 6, 'eta': 0.1, 'objective': 'binary:logistic'}\n",
    "param['nthread'] = 4\n",
    "param['eval_metric'] = 'auc'\n",
    "param['verbosity'] = 0\n",
    "\n",
    "evallist = [(X_test_mat, 'eval'), (X_train_mat, 'train')]\n",
    "\n",
    "num_round = 100\n",
    "bst = xgb.train(param, X_train_mat, num_round, evallist)"
   ]
  },
  {
   "cell_type": "code",
   "execution_count": 200,
   "metadata": {},
   "outputs": [
    {
     "name": "stdout",
     "output_type": "stream",
     "text": [
      "Accuracy = 0.8796015591165006\n",
      "Balanced Accuracy = 0.7571399125776691\n",
      "F1 = 0.6516290726817043\n"
     ]
    },
    {
     "data": {
      "image/png": "[encoded data removed]",
      "text/plain": [
       "<Figure size 432x288 with 2 Axes>"
      ]
     },
     "metadata": {
      "needs_background": "light"
     },
     "output_type": "display_data"
    }
   ],
   "source": [
    "from sklearn.metrics import confusion_matrix\n",
    "from sklearn.metrics._plot.confusion_matrix import ConfusionMatrixDisplay\n",
    "Yest = np.round(bst.predict(X_test_mat))\n",
    "\n",
    "print(f\"Accuracy = {accuracy_score(le.transform(y_test),Yest)}\")\n",
    "print(f\"Balanced Accuracy = {balanced_accuracy_score(le.transform(y_test),Yest)}\")\n",
    "\n",
    "cm = confusion_matrix(le.transform(y_test),Yest,normalize='true')\n",
    "\n",
    "#Las métricas F1, precision and recall requieren que se establezca la convención de cuál es la clase positiva (1)\n",
    "print(f\"F1 = {f1_score(le.transform(y_test),Yest)}\")\n",
    "\n",
    "disp = ConfusionMatrixDisplay(confusion_matrix=cm,display_labels=le.classes_)\n",
    "disp.plot(include_values=True,cmap=plt.cm.Blues, ax=None, xticks_rotation='horizontal',\n",
    "          values_format=None)\n",
    "plt.show()"
   ]
  },
  {
   "cell_type": "code",
   "execution_count": 187,
   "metadata": {},
   "outputs": [
    {
     "data": {
      "text/plain": [
       "<matplotlib.axes._subplots.AxesSubplot at 0x7fd53a27f750>"
      ]
     },
     "execution_count": 187,
     "metadata": {},
     "output_type": "execute_result"
    },
    {
     "data": {
      "image/png": "[encoded data removed]",
      "text/plain": [
       "<Figure size 432x288 with 1 Axes>"
      ]
     },
     "metadata": {
      "needs_background": "light"
     },
     "output_type": "display_data"
    }
   ],
   "source": [
    "xgb.plot_importance(bst)"
   ]
  }
 ],
 "metadata": {
  "kernelspec": {
   "display_name": "Python 3",
   "language": "python",
   "name": "python3"
  },
  "language_info": {
   "codemirror_mode": {
    "name": "ipython",
    "version": 3
   },
   "file_extension": ".py",
   "mimetype": "text/x-python",
   "name": "python",
   "nbconvert_exporter": "python",
   "pygments_lexer": "ipython3",
   "version": "3.7.6"
  }
 },
 "nbformat": 4,
 "nbformat_minor": 4
}

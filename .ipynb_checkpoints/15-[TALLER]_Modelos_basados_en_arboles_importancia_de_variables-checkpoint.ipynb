{
 "cells": [
  {
   "cell_type": "markdown",
   "metadata": {},
   "source": [
    "<a href=\"https://colab.research.google.com/github/UDEA-Esp-Analitica-y-Ciencia-de-Datos/EACD-04-MACHINE-LEARNING-1/blob/master/15-%5BTALLER%5D_Modelos_basados_en_arboles_importancia_de_variables.ipynb\" target=\"_parent\"><img src=\"https://colab.research.google.com/assets/colab-badge.svg\" alt=\"Open In Colab\"/></a>\n",
    "\n",
    "\n",
    "**Recuerda que una vez abierto, Da clic en \"Copiar en Drive\", de lo contrario no podras alamancenar tu progreso**\n",
    "\n",
    "Nota: no olvide ir ejecutando las celdas de código de arriba hacia abajo para que no tenga errores de importación de librerías o por falta de definición de variables."
   ]
  },
  {
   "cell_type": "code",
   "execution_count": null,
   "metadata": {},
   "outputs": [],
   "source": [
    "!wget --no-cache -O init.py -q https://raw.githubusercontent.com/UDEA-Esp-Analitica-y-Ciencia-de-Datos/EACD-04-MACHINE-LEARNING-1/master/init.py\n",
    "import init; init.init(force_download=False); "
   ]
  },
  {
   "cell_type": "markdown",
   "metadata": {},
   "source": [
    "# Parte 1.\n",
    "\n",
    "**Bag of words + Bagging**\n",
    "\n",
    "\n",
    "## Contextualización del problema\n",
    "\n",
    "\n",
    "Usaremos el dataset Twitter US Airline Sentiment para reesolver un problema de análisis de sentimiento en texto. En el repositorio de Kaggle se encuentra más información en el siguiente [link](https://www.kaggle.com/crowdflower/twitter-airline-sentiment)"
   ]
  },
  {
   "cell_type": "code",
   "execution_count": 1,
   "metadata": {},
   "outputs": [],
   "source": [
    "import numpy as np # linear algebra\n",
    "import pandas as pd # data processing, CSV file I/O (e.g. pd.read_csv)\n",
    "import matplotlib.pyplot as plt"
   ]
  },
  {
   "cell_type": "code",
   "execution_count": 2,
   "metadata": {},
   "outputs": [],
   "source": [
    "data = pd.read_csv('local/data/Tweets.csv')\n",
    "# Keeping only the neccessary columns\n",
    "data = data[['text','airline_sentiment']]"
   ]
  },
  {
   "cell_type": "markdown",
   "metadata": {},
   "source": [
    "Como es un problema de procesamiento de texto debemos hacer algunas tareas báscias de preprocesamiento:"
   ]
  },
  {
   "cell_type": "code",
   "execution_count": 3,
   "metadata": {},
   "outputs": [
    {
     "name": "stdout",
     "output_type": "stream",
     "text": [
      "Número de muestras positivas 2363\n",
      "Número de muestras negatias 9178\n"
     ]
    }
   ],
   "source": [
    "import re\n",
    "#Remove neutral class\n",
    "data = data[data.airline_sentiment != \"neutral\"]\n",
    "\n",
    "#text normalization\n",
    "data['text'] = data['text'].apply(lambda x: x.lower())\n",
    "data['text'] = data['text'].apply((lambda x:re.sub('@[^\\s]+','',x)))#remove the name of the airline\n",
    "data['text'] = data['text'].apply((lambda x: re.sub('[^a-zA-z0-9\\s]','',x)))\n",
    "print(f\"Número de muestras positivas {np.sum(data['airline_sentiment'].values == 'positive')}\")\n",
    "print(f\"Número de muestras negatias {np.sum(data['airline_sentiment'].values == 'negative')}\")"
   ]
  },
  {
   "cell_type": "code",
   "execution_count": 4,
   "metadata": {},
   "outputs": [],
   "source": [
    "for idx,row in data.iterrows():\n",
    "    row[0] = row[0].replace('rt',' ')"
   ]
  },
  {
   "cell_type": "code",
   "execution_count": 5,
   "metadata": {},
   "outputs": [
    {
     "data": {
      "text/html": [
       "<div>\n",
       "<style scoped>\n",
       "    .dataframe tbody tr th:only-of-type {\n",
       "        vertical-align: middle;\n",
       "    }\n",
       "\n",
       "    .dataframe tbody tr th {\n",
       "        vertical-align: top;\n",
       "    }\n",
       "\n",
       "    .dataframe thead th {\n",
       "        text-align: right;\n",
       "    }\n",
       "</style>\n",
       "<table border=\"1\" class=\"dataframe\">\n",
       "  <thead>\n",
       "    <tr style=\"text-align: right;\">\n",
       "      <th></th>\n",
       "      <th>text</th>\n",
       "      <th>airline_sentiment</th>\n",
       "    </tr>\n",
       "  </thead>\n",
       "  <tbody>\n",
       "    <tr>\n",
       "      <th>1</th>\n",
       "      <td>plus youve added commercials to the experienc...</td>\n",
       "      <td>positive</td>\n",
       "    </tr>\n",
       "    <tr>\n",
       "      <th>3</th>\n",
       "      <td>its really aggressive to blast obnoxious ente...</td>\n",
       "      <td>negative</td>\n",
       "    </tr>\n",
       "    <tr>\n",
       "      <th>4</th>\n",
       "      <td>and its a really big bad thing about it</td>\n",
       "      <td>negative</td>\n",
       "    </tr>\n",
       "    <tr>\n",
       "      <th>5</th>\n",
       "      <td>seriously would pay 30 a flight for seats tha...</td>\n",
       "      <td>negative</td>\n",
       "    </tr>\n",
       "    <tr>\n",
       "      <th>6</th>\n",
       "      <td>yes nearly every time i fly vx this ear worm ...</td>\n",
       "      <td>positive</td>\n",
       "    </tr>\n",
       "    <tr>\n",
       "      <th>8</th>\n",
       "      <td>well i didntbut now i do d</td>\n",
       "      <td>positive</td>\n",
       "    </tr>\n",
       "    <tr>\n",
       "      <th>9</th>\n",
       "      <td>it was amazing and arrived an hour early your...</td>\n",
       "      <td>positive</td>\n",
       "    </tr>\n",
       "    <tr>\n",
       "      <th>11</th>\n",
       "      <td>i lt3 pretty graphics so much better than min...</td>\n",
       "      <td>positive</td>\n",
       "    </tr>\n",
       "    <tr>\n",
       "      <th>12</th>\n",
       "      <td>this is such a great deal already thinking ab...</td>\n",
       "      <td>positive</td>\n",
       "    </tr>\n",
       "    <tr>\n",
       "      <th>13</th>\n",
       "      <td>im flying your fabulous seductive skies agai...</td>\n",
       "      <td>positive</td>\n",
       "    </tr>\n",
       "  </tbody>\n",
       "</table>\n",
       "</div>"
      ],
      "text/plain": [
       "                                                 text airline_sentiment\n",
       "1    plus youve added commercials to the experienc...          positive\n",
       "3    its really aggressive to blast obnoxious ente...          negative\n",
       "4             and its a really big bad thing about it          negative\n",
       "5    seriously would pay 30 a flight for seats tha...          negative\n",
       "6    yes nearly every time i fly vx this ear worm ...          positive\n",
       "8                          well i didntbut now i do d          positive\n",
       "9    it was amazing and arrived an hour early your...          positive\n",
       "11   i lt3 pretty graphics so much better than min...          positive\n",
       "12   this is such a great deal already thinking ab...          positive\n",
       "13    im flying your fabulous seductive skies agai...          positive"
      ]
     },
     "execution_count": 5,
     "metadata": {},
     "output_type": "execute_result"
    }
   ],
   "source": [
    "data[:10]"
   ]
  },
  {
   "cell_type": "markdown",
   "metadata": {},
   "source": [
    "La forma más básica de representar textos para problemas de clasificación es usar la estrategia Bag of Words [link](https://en.wikipedia.org/wiki/Bag-of-words_model#:~:text=The%20bag%2Dof%2Dwords%20model,word%20order%20but%20keeping%20multiplicity.)"
   ]
  },
  {
   "cell_type": "markdown",
   "metadata": {},
   "source": [
    "# Bag of words"
   ]
  },
  {
   "cell_type": "code",
   "execution_count": 11,
   "metadata": {},
   "outputs": [
    {
     "name": "stdout",
     "output_type": "stream",
     "text": [
      "CPU times: user 118 ms, sys: 0 ns, total: 118 ms\n",
      "Wall time: 117 ms\n",
      "(11541, 2000)\n"
     ]
    },
    {
     "data": {
      "text/plain": [
       "array([[0, 0, 0, ..., 0, 0, 0],\n",
       "       [0, 0, 0, ..., 0, 0, 0],\n",
       "       [0, 0, 0, ..., 0, 0, 0],\n",
       "       ...,\n",
       "       [0, 0, 0, ..., 0, 0, 0],\n",
       "       [0, 0, 0, ..., 0, 0, 0],\n",
       "       [0, 0, 0, ..., 0, 0, 0]])"
      ]
     },
     "execution_count": 11,
     "metadata": {},
     "output_type": "execute_result"
    }
   ],
   "source": [
    "from sklearn.feature_extraction.text import CountVectorizer\n",
    "\n",
    "#define vectorizer parameters\n",
    "count_vectorizer = CountVectorizer(max_features=2000, stop_words='english')\n",
    "\n",
    "%time count_matrix = count_vectorizer.fit_transform(data['text']) #fit the vectorizer to synopses\n",
    "\n",
    "print(count_matrix.shape)\n",
    "count_matrix.toarray()"
   ]
  },
  {
   "cell_type": "markdown",
   "metadata": {},
   "source": [
    "## Ejercicio 1.1: Clasificación usando estrategias de Bagging"
   ]
  },
  {
   "cell_type": "markdown",
   "metadata": {},
   "source": [
    "Realice la partición de los datos entre Entrenamiento y Test. Recuerde que Test es el subconjunto que dejará pára medir el desempeño del sistema después del entrenamiento y de la selección de los hiperparámetros. \n",
    "\n",
    "Teniendo en cuenta la distribución de clases, seleccione correctamente la estrategia de particionamiento."
   ]
  },
  {
   "cell_type": "code",
   "execution_count": null,
   "metadata": {},
   "outputs": [],
   "source": [
    "#Ejercicio de código\n",
    "from sklearn.model_selection import train_test_split, StratifiedShuffleSplit\n",
    "\n",
    "#Complete el código\n",
    "X_train, X_test, y_train, y_test = train_test_split(..., test_size=0.2, random_state=42, stratify=...)\n",
    "\n",
    "st = StratifiedShuffleSplit(n_splits=5, test_size=0.2, random_state=0)"
   ]
  },
  {
   "cell_type": "markdown",
   "metadata": {},
   "source": [
    "Diseñe un experimento para ajustar los hiper-parámetros de un modelo Random Forest. Ajuste el número de árboles, la profundida de cada árbol y el número de variables a analizar por nodo. Recuerde que como el problema es desbalanceado debe usar el parámetro **class_weight='balanced_subsample'** para la definición del modelo."
   ]
  },
  {
   "cell_type": "code",
   "execution_count": null,
   "metadata": {},
   "outputs": [],
   "source": [
    "#Ejercicio de código\n",
    "from sklearn.ensemble import RandomForestClassifier\n",
    "\n",
    "clf_b = ... #use random_state=0"
   ]
  },
  {
   "cell_type": "code",
   "execution_count": null,
   "metadata": {},
   "outputs": [],
   "source": [
    "from sklearn.model_selection import GridSearchCV\n",
    "\n",
    "parameters = {'n_estimators':[20,40,60,80,100,120], 'max_depth':[2,4,6,8], 'max_features':[10,20,30,40,50]}\n",
    "\n",
    "clf = GridSearchCV(estimator=..., param_grid=parameters, cv=st, scoring='balanced_accuracy')"
   ]
  },
  {
   "cell_type": "code",
   "execution_count": null,
   "metadata": {},
   "outputs": [],
   "source": [
    "clf.fit(X_train,y_train)"
   ]
  },
  {
   "cell_type": "code",
   "execution_count": null,
   "metadata": {},
   "outputs": [],
   "source": [
    "clf.best_estimator_"
   ]
  },
  {
   "cell_type": "markdown",
   "metadata": {},
   "source": [
    "Evalúe en las muestras de test. Estime: Accuracy, Accuracy Balanceado y F1. Grafique la matriz de confusión normalizada. Para eso ejecute la siguiente celda. Analice el código usado."
   ]
  },
  {
   "cell_type": "code",
   "execution_count": null,
   "metadata": {},
   "outputs": [],
   "source": [
    "from sklearn.metrics import accuracy_score, f1_score, balanced_accuracy_score, plot_confusion_matrix\n",
    "from sklearn.preprocessing import LabelEncoder\n",
    "le = LabelEncoder().fit(np.unique(data['airline_sentiment']))\n",
    "\n",
    "Yest = clf.predict(X_test)\n",
    "\n",
    "print(f\"Accuracy = {accuracy_score(y_test,Yest)}\")\n",
    "print(f\"Balanced Accuracy = {balanced_accuracy_score(y_test,Yest)}\")\n",
    "\n",
    "#Las métricas F1, precision and recall requieren que se establezca la convención de cuál es la clase positiva (1)\n",
    "print(f\"F1 = {f1_score(le.transform(y_test),le.transform(Yest))}\")\n",
    "\n",
    "disp = plot_confusion_matrix(clf, X_test, y_test, display_labels=np.unique(data['airline_sentiment']),\n",
    "                             cmap=plt.cm.Blues, \n",
    "                             normalize='true')\n",
    "disp.ax_.set_title('MC normalizada')\n",
    "plt.show()"
   ]
  },
  {
   "cell_type": "markdown",
   "metadata": {},
   "source": [
    "## Ejercicio 1.2\n",
    "\n",
    "Diseñe un experimento para ajustar los hiper-parámetros de un modelo de Bagging de árboles de decisión. Ajuste el número de árboles y la profundida de cada árbol.\n",
    "\n",
    "Tenga en cuenta que para que el GridSearch pueda modificar la profundida del árbol de decisión, es necesario especificarle que ese parámetro  hace parte del estimador base del modelo que se le está pasando como argumento."
   ]
  },
  {
   "cell_type": "code",
   "execution_count": null,
   "metadata": {},
   "outputs": [],
   "source": [
    "#Ejercicio de código\n",
    "from sklearn.ensemble import BaggingClassifier\n",
    "from sklearn.tree import DecisionTreeClassifier\n",
    "\n",
    "parameters = {'n_estimators':[20,40,60,80,100], 'base_estimator__max_depth':[2,4,6,8]}\n",
    "\n",
    "clf_b = ...\n",
    "clf_bagging = BaggingClassifier(base_estimator=clf_b, random_state=0)\n",
    "clf2 = GridSearchCV(estimator=clf_bagging, param_grid=parameters, cv=st, scoring='balanced_accuracy').fit(X_train,y_train)"
   ]
  },
  {
   "cell_type": "code",
   "execution_count": null,
   "metadata": {},
   "outputs": [],
   "source": [
    "clf2.best_estimator_"
   ]
  },
  {
   "cell_type": "markdown",
   "metadata": {},
   "source": [
    "Evalúe en las muestras de test. Estime Accuracy, Accuracy Balanceado y F1. Grafique la matriz de confusión."
   ]
  },
  {
   "cell_type": "code",
   "execution_count": null,
   "metadata": {},
   "outputs": [],
   "source": [
    "Yest = clf2.predict(X_test)\n",
    "\n",
    "print(f\"Accuracy = {accuracy_score(y_test,Yest)}\")\n",
    "print(f\"Balanced Accuracy = {balanced_accuracy_score(y_test,Yest)}\")\n",
    "\n",
    "#Las métricas F1, precision and recall requieren que se establezca la convención de cuál es la clase positiva (1)\n",
    "print(f\"F1 = {f1_score(le.transform(y_test),le.transform(Yest))}\")\n",
    "\n",
    "disp = plot_confusion_matrix(clf2, X_test, y_test, display_labels=np.unique(data['airline_sentiment']),\n",
    "                             cmap=plt.cm.Blues, \n",
    "                             normalize='true')\n",
    "disp.ax_.set_title('MC normalizada')\n",
    "plt.show()"
   ]
  },
  {
   "cell_type": "markdown",
   "metadata": {},
   "source": [
    "## Ejercicio 1.3: Importancia de variables"
   ]
  },
  {
   "cell_type": "markdown",
   "metadata": {},
   "source": [
    "Grafique la importancia de las variables de acuerdo con el mejor de los dos comités de máquina evaluados. Determine cuántas variables tienen importancia 0."
   ]
  },
  {
   "cell_type": "code",
   "execution_count": null,
   "metadata": {},
   "outputs": [],
   "source": [
    "#Ejercicio de código\n",
    "plt.bar(..."
   ]
  },
  {
   "cell_type": "markdown",
   "metadata": {},
   "source": [
    "¿Cuáles son las 10 palabras más determinantes para definir el sentimiento de los tweets? Incluya el código necesario para poder responder la pregunta.\n",
    "\n",
    "**Ayuda**: count_vectorizer.vocabulary_ contiene el diccionario de palabras usado."
   ]
  },
  {
   "cell_type": "code",
   "execution_count": null,
   "metadata": {},
   "outputs": [],
   "source": [
    "#Ejercicio de código\n",
    "\n"
   ]
  },
  {
   "cell_type": "markdown",
   "metadata": {},
   "source": [
    "Cree nueva versiones para los conjuntos Xtrain y Xtest, eliminando las variables que según el análisis anterior tienen importancia cero. Realice nuevamente el proceso de entrenamiento y validación."
   ]
  },
  {
   "cell_type": "code",
   "execution_count": null,
   "metadata": {},
   "outputs": [],
   "source": [
    "#Ejercicio de código\n",
    "X_train2 = X_train[:,...]\n",
    "X_test2 = X_test[:,...]\n",
    "\n",
    "\n",
    "parameters = ...\n",
    "clf_b = ...\n",
    "clf3 = GridSearchCV(estimator=clf_b, param_grid=parameters, cv=st, scoring=...)\n",
    "clf3.fit(X_train2,y_train)"
   ]
  },
  {
   "cell_type": "code",
   "execution_count": null,
   "metadata": {},
   "outputs": [],
   "source": [
    "clf3.best_estimator_.n_estimators"
   ]
  },
  {
   "cell_type": "markdown",
   "metadata": {},
   "source": [
    "Evalúe en las muestras de test. Estime Accuracy, Accuracy Balanceado y F1. Grafique la matriz de confusión. ¿Cambió el resultado?"
   ]
  },
  {
   "cell_type": "code",
   "execution_count": null,
   "metadata": {},
   "outputs": [],
   "source": [
    "Yest = clf3.predict(X_test2)\n",
    "\n",
    "print(f\"Accuracy = {accuracy_score(y_test,Yest)}\")\n",
    "print(f\"Balanced Accuracy = {balanced_accuracy_score(y_test,Yest)}\")\n",
    "\n",
    "#Las métricas F1, precision and recall requieren que se establezca la convención de cuál es la clase positiva (1)\n",
    "print(f\"F1 = {f1_score(le.transform(y_test),le.transform(Yest))}\")\n",
    "\n",
    "disp = plot_confusion_matrix(clf3, X_test2, y_test, display_labels=np.unique(data['airline_sentiment']),\n",
    "                             cmap=plt.cm.Blues, \n",
    "                             normalize='true')\n",
    "disp.ax_.set_title('MC normalizada')\n",
    "plt.show()"
   ]
  },
  {
   "cell_type": "code",
   "execution_count": null,
   "metadata": {},
   "outputs": [],
   "source": [
    "#@title Pregunta Abierta\n",
    "#@markdown  ¿Cambió el resultado del modelo de manera significativa al reducir el número de variables?\n",
    "respuesta_1 = \"\" #@param {type:\"string\"}"
   ]
  },
  {
   "cell_type": "markdown",
   "metadata": {},
   "source": [
    "# Parte 2.\n",
    "\n",
    "**tf-idf + Boosting**\n",
    "\n",
    "En este caso vamos a usar una estrategia un poco más robusta para la caracterización de los textos, se llama tf-idf."
   ]
  },
  {
   "cell_type": "markdown",
   "metadata": {},
   "source": [
    "## tf-idf representation\n",
    "\n",
    "This stands for term frequency and inverse document frequency. The tf-idf weighting scheme assigns to term $t$ a weight in document $d$ given by\n",
    "\n",
    "$$\n",
    "\\mbox{tf-idf}_{t,d} = \\mbox{tf}_{t,d} \\times \\mbox{idf}_t.$$\n",
    "\n",
    "**Term Frequency (tf)**: gives us the frequency of the word in each document in the corpus. It is the ratio of number of times the word appears in a document compared to the total number of words in that document. It increases as the number of occurrences of that word within the document increases. Each document has its own tf.\n",
    "\n",
    "$$\\mbox{tf}_{t,d} = \\frac{n_{t,d}}{\\sum_k n_{k,d}} $$\n",
    "\n",
    "**Inverse Data Frequency (idf)**: used to calculate the weight of rare words across all documents in the corpus. The words that occur rarely in the corpus have a high IDF score. It is given by the equation below.\n",
    "\n",
    "$$\\mbox{idf}_{t} = \\log\\left(\\frac{N}{df_t}\\right) + 1; \\; df_t = \\text{number of documents contaning } t $$\n",
    "\n",
    "In other words, $\\mbox{tf-idf}_{t,d}$ assigns to term $t$ a weight in document $d$ that is\n",
    "\n",
    "- highest when $t$ occurs many times within a small number of documents (thus lending high discriminating power to those documents);\n",
    "- lower when the term occurs fewer times in a document, or occurs in many documents (thus offering a less pronounced relevance signal);\n",
    "\n",
    "- lowest when the term occurs in virtually all documents."
   ]
  },
  {
   "cell_type": "code",
   "execution_count": 14,
   "metadata": {},
   "outputs": [
    {
     "name": "stdout",
     "output_type": "stream",
     "text": [
      "CPU times: user 119 ms, sys: 133 µs, total: 119 ms\n",
      "Wall time: 118 ms\n",
      "(11541, 2000)\n",
      "  (0, 661)\t0.39367966365691553\n",
      "  (0, 103)\t0.591824806409575\n",
      "  (0, 1993)\t0.4912521788552613\n",
      "  (0, 1337)\t0.5034193259214481\n",
      "  (1, 1061)\t0.4695313866808273\n",
      "  (1, 144)\t0.3094125314529977\n",
      "  (1, 125)\t0.5385400398830689\n",
      "  (1, 624)\t0.5187164369706571\n",
      "  (1, 1418)\t0.35314592700558783\n",
      "  (2, 1742)\t0.5576573833773847\n",
      "  (2, 214)\t0.4634174987416282\n",
      "  (2, 246)\t0.5462077749306882\n",
      "  (2, 1418)\t0.4194276233511667\n",
      "  (3, 1880)\t0.44800146758106696\n",
      "  (3, 757)\t0.26545077257155125\n",
      "  (3, 542)\t0.27678258315191273\n",
      "  (3, 1544)\t0.2864825323709622\n",
      "  (3, 734)\t0.13096688472776288\n",
      "  (3, 41)\t0.304631887571051\n",
      "  (3, 1294)\t0.304631887571051\n",
      "  (3, 1557)\t0.3247018156756328\n",
      "  (3, 1742)\t0.34074273991952364\n",
      "  (3, 214)\t0.283159791217208\n",
      "  (3, 1418)\t0.25628086678069506\n",
      "  (4, 207)\t0.45423030614611987\n",
      "  :\t:\n",
      "  (11538, 546)\t0.553997328813931\n",
      "  (11538, 825)\t0.4055546357576335\n",
      "  (11538, 1732)\t0.3768143993159555\n",
      "  (11538, 734)\t0.2220002209501983\n",
      "  (11539, 1572)\t0.3453559847893167\n",
      "  (11539, 23)\t0.2526905070840017\n",
      "  (11539, 397)\t0.28517826649539635\n",
      "  (11539, 1033)\t0.2731863704430717\n",
      "  (11539, 1697)\t0.31526712564235654\n",
      "  (11539, 12)\t0.2550894073484362\n",
      "  (11539, 1737)\t0.2190194888688831\n",
      "  (11539, 1025)\t0.383407084182511\n",
      "  (11539, 480)\t0.16488453432146702\n",
      "  (11539, 1169)\t0.41612488067942954\n",
      "  (11539, 302)\t0.2388243214623136\n",
      "  (11539, 734)\t0.21000223156897668\n",
      "  (11540, 1685)\t0.4517609789587755\n",
      "  (11540, 394)\t0.4656803964061788\n",
      "  (11540, 1312)\t0.38326107066305637\n",
      "  (11540, 1110)\t0.26898877004493493\n",
      "  (11540, 1183)\t0.3293848827317626\n",
      "  (11540, 151)\t0.3167562295013002\n",
      "  (11540, 578)\t0.23904115990190114\n",
      "  (11540, 338)\t0.2754839889207997\n",
      "  (11540, 734)\t0.1339730025716178\n"
     ]
    }
   ],
   "source": [
    "from sklearn.feature_extraction.text import TfidfVectorizer\n",
    "\n",
    "#define vectorizer parameters\n",
    "tfidf_vectorizer = TfidfVectorizer(max_features=2000,stop_words='english',\n",
    "                                 use_idf=True) #ngram_range=(1,3)\n",
    "\n",
    "%time tfidf_matrix = tfidf_vectorizer.fit_transform(data['text']) #fit the vectorizer to synopses\n",
    "\n",
    "print(tfidf_matrix.shape)\n",
    "print(tfidf_matrix)"
   ]
  },
  {
   "cell_type": "markdown",
   "metadata": {},
   "source": [
    "**Nota**: Solo de carácter informativo. El proceso de construcción de la matriz tf-ids se puede realizar de manera alternativa usando la clase TfidfTransformer a partir de la matrix de conteos construida en el punto 1:"
   ]
  },
  {
   "cell_type": "code",
   "execution_count": null,
   "metadata": {},
   "outputs": [],
   "source": [
    "from sklearn.feature_extraction.text import TfidfTransformer\n",
    "tfidf_transformer = TfidfTransformer()\n",
    "tfidf_matrix2 = tfidf_transformer.fit_transform(count_matrix) #fit the vectorizer to synopses\n",
    "\n",
    "print(tfidf_matrix2.shape)\n",
    "print(tfidf_matrix2)"
   ]
  },
  {
   "cell_type": "markdown",
   "metadata": {},
   "source": [
    "## Ejercicio 2.1: Clasificación usando estrategias de Boosting\n",
    "\n",
    "Realice la partición de los datos entre Entrenamiento y Test. Recuerde que Test es el subconjunto que dejará pára medir el desempeño del sistema después del entrenamiento y de la selección de los hiperparámetros. \n",
    "\n",
    "Teniendo en cuenta la distribución de clases, seleccione correctamente la estrategia de particionamiento."
   ]
  },
  {
   "cell_type": "code",
   "execution_count": null,
   "metadata": {},
   "outputs": [],
   "source": [
    "#Complete el código\n",
    "X_train, X_test, y_train, y_test = train_test_split(..."
   ]
  },
  {
   "cell_type": "markdown",
   "metadata": {},
   "source": [
    "Diseñe un experimento para ajustar los hiper-parámetros de un modelo Gradient Boosting Tree. Ajuste el número de árboles, la profundida de cada árbol y el número de variables a analizar por nodo.\n",
    "\n",
    "**Note** que en este caso el modelo GBT no cuenta con un parámetro para cambiar el peso que cada clase tiene en el entrenamiento."
   ]
  },
  {
   "cell_type": "code",
   "execution_count": null,
   "metadata": {},
   "outputs": [],
   "source": [
    "#Complete el código\n",
    "from sklearn.ensemble import GradientBoostingClassifier\n",
    "\n",
    "clf_b = GradientBoostingClassifier(random_state=0)\n",
    "\n",
    "parameters = ...\n",
    "\n",
    "clf = GridSearchCV(estimator=clf_b, param_grid=parameters, cv=st, scoring=...)"
   ]
  },
  {
   "cell_type": "code",
   "execution_count": null,
   "metadata": {},
   "outputs": [],
   "source": [
    "clf.fit(X_train,y_train)"
   ]
  },
  {
   "cell_type": "code",
   "execution_count": null,
   "metadata": {},
   "outputs": [],
   "source": [
    "clf.best_estimator_.n_estimators"
   ]
  },
  {
   "cell_type": "markdown",
   "metadata": {},
   "source": [
    "Evalúe en las muestras de test. Estime Accuracy, Accuracy Balanceado y F1. Grafique la matriz de confusión."
   ]
  },
  {
   "cell_type": "code",
   "execution_count": null,
   "metadata": {},
   "outputs": [],
   "source": [
    "Yest = clf.predict(X_test)\n",
    "\n",
    "print(f\"Accuracy = {accuracy_score(y_test,Yest)}\")\n",
    "print(f\"Balanced Accuracy = {balanced_accuracy_score(y_test,Yest)}\")\n",
    "\n",
    "#Las métricas F1, precision and recall requieren que se establezca la convención de cuál es la clase positiva (1)\n",
    "print(f\"F1 = {f1_score(le.transform(y_test),le.transform(Yest))}\")\n",
    "\n",
    "disp = plot_confusion_matrix(clf, X_test, y_test, display_labels=np.unique(data['airline_sentiment']),\n",
    "                             cmap=plt.cm.Blues, \n",
    "                             normalize='true')\n",
    "disp.ax_.set_title('MC normalizada')\n",
    "plt.show()"
   ]
  },
  {
   "cell_type": "markdown",
   "metadata": {},
   "source": [
    "## Ejercicio 2.2: \n",
    "\n",
    "Modifique el experimento anterior para ajustar los hiper-parámetros de un modelo **Stochastic** Gradient Boosting Tree. Ajuste el número de árboles, la profundida de cada árbol y el número de variables a analizar por nodo. Use un parámetro subsample = 0.8."
   ]
  },
  {
   "cell_type": "code",
   "execution_count": null,
   "metadata": {},
   "outputs": [],
   "source": [
    "#Complete el código\n",
    "clf_b = GradientBoostingClassifier(...\n",
    "\n",
    "parameters = ...\n",
    "\n",
    "clf2 = GridSearchCV(estimator=clf_b, param_grid=parameters, cv=st, scoring=...)\n",
    "clf2.fit(X_train,y_train)"
   ]
  },
  {
   "cell_type": "code",
   "execution_count": null,
   "metadata": {},
   "outputs": [],
   "source": [
    "clf2.best_estimator_"
   ]
  },
  {
   "cell_type": "markdown",
   "metadata": {},
   "source": [
    "Evalúe en las muestras de test. Estime: Accuracy, Accuracy Balanceado y F1. Grafique la matriz de confusión normalizada."
   ]
  },
  {
   "cell_type": "code",
   "execution_count": null,
   "metadata": {},
   "outputs": [],
   "source": [
    "Yest = clf2.predict(X_test)\n",
    "\n",
    "print(f\"Accuracy = {accuracy_score(y_test,Yest)}\")\n",
    "print(f\"Balanced Accuracy = {balanced_accuracy_score(y_test,Yest)}\")\n",
    "\n",
    "#Las métricas F1, precision and recall requieren que se establezca la convención de cuál es la clase positiva (1)\n",
    "print(f\"F1 = {f1_score(le.transform(y_test),le.transform(Yest))}\")\n",
    "\n",
    "disp = plot_confusion_matrix(clf2, X_test, y_test, display_labels=np.unique(data['airline_sentiment']),\n",
    "                             cmap=plt.cm.Blues, \n",
    "                             normalize='true')\n",
    "disp.ax_.set_title('MC normalizada')\n",
    "plt.show()"
   ]
  },
  {
   "cell_type": "markdown",
   "metadata": {},
   "source": [
    "## Ejercicio 2.3\n",
    "\n",
    "Determine las 10 palabras más importantes para la clasificación de acuerdo con el mejor modelo de la parte 2.\n",
    "\n",
    "**Ayuda**: tfidf_vectorizer.vocabulary_ contiene el diccionario de palabras usado."
   ]
  },
  {
   "cell_type": "code",
   "execution_count": null,
   "metadata": {},
   "outputs": [],
   "source": [
    "#Complete el código\n",
    "\n"
   ]
  },
  {
   "cell_type": "markdown",
   "metadata": {},
   "source": [
    "## *Ejercicio 3: XGBoost\n",
    "\n",
    "Se recomienda revisar la documentación oficial [link](https://xgboost.readthedocs.io/en/latest/index.html). XGBoost tiene una sintaxis diferente a sklearn pero incluye un wrapper que permite usarlo igual que un modelo estándar de sklearn y por lo tanto permite usar GridSearch para realizar el ajuste de los hiperparámetros."
   ]
  },
  {
   "cell_type": "code",
   "execution_count": null,
   "metadata": {},
   "outputs": [],
   "source": [
    "import xgboost as xgb\n",
    "from sklearn.utils.class_weight import compute_class_weight"
   ]
  },
  {
   "cell_type": "markdown",
   "metadata": {},
   "source": [
    "XGBoost tiene muchos más ṕarámetros que el GBT estándar. Además del número de estimadores, la profundidad del árbol y la tasa de aprendizaje (también en el GBT), XGBoost contiene parámetros de regularización $l_1$ y $l_2$ y a través del parámetro scale_pos_weight sepuede modificar el peso de la clase positiva en relación con la negativa.\n",
    "\n",
    "Analice la manera en que está ajustado ese parámetro en el siguiente código:"
   ]
  },
  {
   "cell_type": "code",
   "execution_count": null,
   "metadata": {},
   "outputs": [],
   "source": [
    "class_weight = compute_class_weight('balanced',le.classes_,y_train)"
   ]
  },
  {
   "cell_type": "code",
   "execution_count": null,
   "metadata": {},
   "outputs": [],
   "source": [
    "class_weight"
   ]
  },
  {
   "cell_type": "code",
   "execution_count": null,
   "metadata": {},
   "outputs": [],
   "source": [
    "param = {'n_estimators':[20,40,60,80,100,120,140],'max_depth': [2,4,6,8], 'learning_rate':[1,0.5,0.1], 'reg_lambda':[0.1,0.2]}\n",
    "clf_b = xgb.XGBClassifier(scale_pos_weight=class_weight[1]/class_weight[0],random_state = 0, objective='binary:logistic')"
   ]
  },
  {
   "cell_type": "code",
   "execution_count": null,
   "metadata": {},
   "outputs": [],
   "source": [
    "clf3 = GridSearchCV(estimator=clf_b, param_grid=param, cv=st, scoring='balanced_accuracy')\n",
    "clf3.fit(X_train,y_train)"
   ]
  },
  {
   "cell_type": "code",
   "execution_count": null,
   "metadata": {},
   "outputs": [],
   "source": [
    "clf3.best_estimator_"
   ]
  },
  {
   "cell_type": "code",
   "execution_count": null,
   "metadata": {},
   "outputs": [],
   "source": [
    "Yest = clf3.predict(X_test)\n",
    "\n",
    "print(f\"Accuracy = {accuracy_score(y_test,Yest)}\")\n",
    "print(f\"Balanced Accuracy = {balanced_accuracy_score(y_test,Yest)}\")\n",
    "\n",
    "#Las métricas F1, precision and recall requieren que se establezca la convención de cuál es la clase positiva (1)\n",
    "print(f\"F1 = {f1_score(le.transform(y_test),le.transform(Yest))}\")\n",
    "\n",
    "disp = plot_confusion_matrix(clf3, X_test, y_test, display_labels=np.unique(data['airline_sentiment']),\n",
    "                             cmap=plt.cm.Blues, \n",
    "                             normalize='true')\n",
    "disp.ax_.set_title('MC normalizada')\n",
    "plt.show()"
   ]
  },
  {
   "cell_type": "markdown",
   "metadata": {},
   "source": [
    "Igual que para los casos anteriores determine el número de características con importancia diferente de cero, y las 10 palabras más importantes según el modelo."
   ]
  },
  {
   "cell_type": "code",
   "execution_count": null,
   "metadata": {},
   "outputs": [],
   "source": [
    "#Complete el código\n",
    "\n"
   ]
  }
 ],
 "metadata": {
  "kernelspec": {
   "display_name": "Python 3",
   "language": "python",
   "name": "python3"
  },
  "language_info": {
   "codemirror_mode": {
    "name": "ipython",
    "version": 3
   },
   "file_extension": ".py",
   "mimetype": "text/x-python",
   "name": "python",
   "nbconvert_exporter": "python",
   "pygments_lexer": "ipython3",
   "version": "3.7.6"
  },
  "varInspector": {
   "cols": {
    "lenName": 16,
    "lenType": 16,
    "lenVar": 40
   },
   "kernels_config": {
    "python": {
     "delete_cmd_postfix": "",
     "delete_cmd_prefix": "del ",
     "library": "var_list.py",
     "varRefreshCmd": "print(var_dic_list())"
    },
    "r": {
     "delete_cmd_postfix": ") ",
     "delete_cmd_prefix": "rm(",
     "library": "var_list.r",
     "varRefreshCmd": "cat(var_dic_list()) "
    }
   },
   "types_to_exclude": [
    "module",
    "function",
    "builtin_function_or_method",
    "instance",
    "_Feature"
   ],
   "window_display": false
  }
 },
 "nbformat": 4,
 "nbformat_minor": 4
}

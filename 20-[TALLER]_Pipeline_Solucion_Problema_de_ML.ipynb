{
 "cells": [
  {
   "cell_type": "markdown",
   "metadata": {},
   "source": [
    "<a href=\"https://colab.research.google.com/github/UDEA-Esp-Analitica-y-Ciencia-de-Datos/EACD-04-MACHINE-LEARNING-1/blob/master/20-[TALLER]_Pipeline_Solucion_Problema_de_ML.ipynb\" target=\"_parent\"><img src=\"https://colab.research.google.com/assets/colab-badge.svg\" alt=\"Open In Colab\"/></a>\n",
    "\n",
    "\n",
    "**Recuerda que una vez abierto, Da clic en \"Copiar en Drive\", de lo contrario no podras alamancenar tu progreso**\n",
    "\n",
    "Nota: no olvide ir ejecutando las celdas de código de arriba hacia abajo para que no tenga errores de importación de librerías o por falta de definición de variables."
   ]
  },
  {
   "cell_type": "code",
   "execution_count": 1,
   "metadata": {},
   "outputs": [],
   "source": [
    "!wget --no-cache -O init.py -q https://raw.githubusercontent.com/UDEA-Esp-Analitica-y-Ciencia-de-Datos/EACD-04-MACHINE-LEARNING-1/master/init.py\n",
    "import init; init.init(force_download=False); "
   ]
  },
  {
   "cell_type": "markdown",
   "metadata": {},
   "source": [
    "# Taller\n",
    "\n",
    "El objetivo este taller es recoger lo visto en el módulo y aplicarlo a la solución de un problema real. El problema que vamos a resolver es la identificación y clasificación de comentarios tóxicos en línea. Los detalles del conjunto de datos pueden ser consulatos [aquí](https://www.kaggle.com/c/jigsaw-toxic-comment-classification-challenge/overview)."
   ]
  },
  {
   "cell_type": "code",
   "execution_count": null,
   "metadata": {},
   "outputs": [],
   "source": [
    "!pip install scikit-learn==0.22"
   ]
  },
  {
   "cell_type": "code",
   "execution_count": 1,
   "metadata": {},
   "outputs": [],
   "source": [
    "from sklearn.pipeline import Pipeline\n",
    "from sklearn.model_selection import train_test_split\n",
    "from sklearn.preprocessing import StandardScaler\n",
    "from sklearn.model_selection import GridSearchCV\n",
    "from sklearn.model_selection import KFold\n",
    "import pandas as pd\n",
    "import numpy as np\n",
    "import matplotlib.pyplot as plt\n",
    "from sklearn.feature_extraction.text import TfidfVectorizer\n",
    "from sklearn.multiclass import OneVsRestClassifier\n",
    "from sklearn.ensemble import RandomForestClassifier\n",
    "from sklearn.neural_network import MLPClassifier\n",
    "from sklearn.metrics import accuracy_score, make_scorer\n",
    "from sklearn.metrics import multilabel_confusion_matrix\n",
    "from sklearn.metrics._plot.confusion_matrix import ConfusionMatrixDisplay\n",
    "from sklearn.metrics import hamming_loss\n",
    "from sklearn.metrics import roc_curve, auc\n",
    "from sklearn.utils.class_weight import compute_class_weight"
   ]
  },
  {
   "cell_type": "code",
   "execution_count": 2,
   "metadata": {},
   "outputs": [],
   "source": [
    "df = pd.read_csv('local/data/train.csv.zip', compression='zip', header=0, sep=',', quotechar='\"')"
   ]
  },
  {
   "cell_type": "markdown",
   "metadata": {},
   "source": [
    "Veamos algunas muestras de la base datos:"
   ]
  },
  {
   "cell_type": "code",
   "execution_count": 3,
   "metadata": {},
   "outputs": [
    {
     "data": {
      "text/html": [
       "<div>\n",
       "<style scoped>\n",
       "    .dataframe tbody tr th:only-of-type {\n",
       "        vertical-align: middle;\n",
       "    }\n",
       "\n",
       "    .dataframe tbody tr th {\n",
       "        vertical-align: top;\n",
       "    }\n",
       "\n",
       "    .dataframe thead th {\n",
       "        text-align: right;\n",
       "    }\n",
       "</style>\n",
       "<table border=\"1\" class=\"dataframe\">\n",
       "  <thead>\n",
       "    <tr style=\"text-align: right;\">\n",
       "      <th></th>\n",
       "      <th>id</th>\n",
       "      <th>comment_text</th>\n",
       "      <th>toxic</th>\n",
       "      <th>severe_toxic</th>\n",
       "      <th>obscene</th>\n",
       "      <th>threat</th>\n",
       "      <th>insult</th>\n",
       "      <th>identity_hate</th>\n",
       "    </tr>\n",
       "  </thead>\n",
       "  <tbody>\n",
       "    <tr>\n",
       "      <th>0</th>\n",
       "      <td>0000997932d777bf</td>\n",
       "      <td>explanation\\nwhy the edits made under my usern...</td>\n",
       "      <td>0</td>\n",
       "      <td>0</td>\n",
       "      <td>0</td>\n",
       "      <td>0</td>\n",
       "      <td>0</td>\n",
       "      <td>0</td>\n",
       "    </tr>\n",
       "    <tr>\n",
       "      <th>1</th>\n",
       "      <td>000103f0d9cfb60f</td>\n",
       "      <td>d'aww! he matches this background colour i'm s...</td>\n",
       "      <td>0</td>\n",
       "      <td>0</td>\n",
       "      <td>0</td>\n",
       "      <td>0</td>\n",
       "      <td>0</td>\n",
       "      <td>0</td>\n",
       "    </tr>\n",
       "    <tr>\n",
       "      <th>2</th>\n",
       "      <td>000113f07ec002fd</td>\n",
       "      <td>hey man, i'm really not trying to edit war. it...</td>\n",
       "      <td>0</td>\n",
       "      <td>0</td>\n",
       "      <td>0</td>\n",
       "      <td>0</td>\n",
       "      <td>0</td>\n",
       "      <td>0</td>\n",
       "    </tr>\n",
       "    <tr>\n",
       "      <th>3</th>\n",
       "      <td>0001b41b1c6bb37e</td>\n",
       "      <td>\"\\nmore\\ni can't make any real suggestions on ...</td>\n",
       "      <td>0</td>\n",
       "      <td>0</td>\n",
       "      <td>0</td>\n",
       "      <td>0</td>\n",
       "      <td>0</td>\n",
       "      <td>0</td>\n",
       "    </tr>\n",
       "    <tr>\n",
       "      <th>4</th>\n",
       "      <td>0001d958c54c6e35</td>\n",
       "      <td>you, sir, are my hero. any chance you remember...</td>\n",
       "      <td>0</td>\n",
       "      <td>0</td>\n",
       "      <td>0</td>\n",
       "      <td>0</td>\n",
       "      <td>0</td>\n",
       "      <td>0</td>\n",
       "    </tr>\n",
       "    <tr>\n",
       "      <th>5</th>\n",
       "      <td>00025465d4725e87</td>\n",
       "      <td>\"\\n\\ncongratulations from me as well, use the ...</td>\n",
       "      <td>0</td>\n",
       "      <td>0</td>\n",
       "      <td>0</td>\n",
       "      <td>0</td>\n",
       "      <td>0</td>\n",
       "      <td>0</td>\n",
       "    </tr>\n",
       "    <tr>\n",
       "      <th>6</th>\n",
       "      <td>0002bcb3da6cb337</td>\n",
       "      <td>cocksucker before you piss around on my work</td>\n",
       "      <td>1</td>\n",
       "      <td>1</td>\n",
       "      <td>1</td>\n",
       "      <td>0</td>\n",
       "      <td>1</td>\n",
       "      <td>0</td>\n",
       "    </tr>\n",
       "    <tr>\n",
       "      <th>7</th>\n",
       "      <td>00031b1e95af7921</td>\n",
       "      <td>your vandalism to the matt shirvington article...</td>\n",
       "      <td>0</td>\n",
       "      <td>0</td>\n",
       "      <td>0</td>\n",
       "      <td>0</td>\n",
       "      <td>0</td>\n",
       "      <td>0</td>\n",
       "    </tr>\n",
       "    <tr>\n",
       "      <th>8</th>\n",
       "      <td>00037261f536c51d</td>\n",
       "      <td>sorry if the word 'nonsense' was offensive to ...</td>\n",
       "      <td>0</td>\n",
       "      <td>0</td>\n",
       "      <td>0</td>\n",
       "      <td>0</td>\n",
       "      <td>0</td>\n",
       "      <td>0</td>\n",
       "    </tr>\n",
       "    <tr>\n",
       "      <th>9</th>\n",
       "      <td>00040093b2687caa</td>\n",
       "      <td>alignment on this subject and which are contra...</td>\n",
       "      <td>0</td>\n",
       "      <td>0</td>\n",
       "      <td>0</td>\n",
       "      <td>0</td>\n",
       "      <td>0</td>\n",
       "      <td>0</td>\n",
       "    </tr>\n",
       "  </tbody>\n",
       "</table>\n",
       "</div>"
      ],
      "text/plain": [
       "                 id                                       comment_text  toxic  \\\n",
       "0  0000997932d777bf  explanation\\nwhy the edits made under my usern...      0   \n",
       "1  000103f0d9cfb60f  d'aww! he matches this background colour i'm s...      0   \n",
       "2  000113f07ec002fd  hey man, i'm really not trying to edit war. it...      0   \n",
       "3  0001b41b1c6bb37e  \"\\nmore\\ni can't make any real suggestions on ...      0   \n",
       "4  0001d958c54c6e35  you, sir, are my hero. any chance you remember...      0   \n",
       "5  00025465d4725e87  \"\\n\\ncongratulations from me as well, use the ...      0   \n",
       "6  0002bcb3da6cb337       cocksucker before you piss around on my work      1   \n",
       "7  00031b1e95af7921  your vandalism to the matt shirvington article...      0   \n",
       "8  00037261f536c51d  sorry if the word 'nonsense' was offensive to ...      0   \n",
       "9  00040093b2687caa  alignment on this subject and which are contra...      0   \n",
       "\n",
       "   severe_toxic  obscene  threat  insult  identity_hate  \n",
       "0             0        0       0       0              0  \n",
       "1             0        0       0       0              0  \n",
       "2             0        0       0       0              0  \n",
       "3             0        0       0       0              0  \n",
       "4             0        0       0       0              0  \n",
       "5             0        0       0       0              0  \n",
       "6             1        1       0       1              0  \n",
       "7             0        0       0       0              0  \n",
       "8             0        0       0       0              0  \n",
       "9             0        0       0       0              0  "
      ]
     },
     "execution_count": 3,
     "metadata": {},
     "output_type": "execute_result"
    }
   ],
   "source": [
    "df[\"comment_text\"] = df[\"comment_text\"].str.lower()\n",
    "df[:10]"
   ]
  },
  {
   "cell_type": "code",
   "execution_count": 4,
   "metadata": {},
   "outputs": [
    {
     "data": {
      "text/plain": [
       "(159571, 8)"
      ]
     },
     "execution_count": 4,
     "metadata": {},
     "output_type": "execute_result"
    }
   ],
   "source": [
    "df.shape"
   ]
  },
  {
   "cell_type": "markdown",
   "metadata": {},
   "source": [
    "Desde el punto de vista de ML, el problema predictivo corresponde a un problema de múltiples etiquetas:"
   ]
  },
  {
   "cell_type": "code",
   "execution_count": 5,
   "metadata": {},
   "outputs": [
    {
     "data": {
      "image/png": "[encoded data removed]",
      "text/plain": [
       "<Figure size 720x720 with 6 Axes>"
      ]
     },
     "metadata": {
      "needs_background": "light"
     },
     "output_type": "display_data"
    }
   ],
   "source": [
    "ax= df.hist(column=['toxic','severe_toxic','obscene','threat','insult','identity_hate'],sharey=True,figsize=(10, 10))"
   ]
  },
  {
   "cell_type": "markdown",
   "metadata": {},
   "source": [
    "La base de datos completa es muy grande, por lo tanto tomaremos sólo una parte para este ejercicio. Abordaremos el problema de predecir tres clases de contenido: 'toxic', 'obscene','insult'. Adicionalmente, teniendo en cuenta que muchas muestras no pertenecen a ninguna de las clases, eliminaremos principalmente muestras de ese conjunto."
   ]
  },
  {
   "cell_type": "code",
   "execution_count": 6,
   "metadata": {},
   "outputs": [],
   "source": [
    "np.random.seed(seed=0)\n",
    "df2 = df[(df['toxic']==0) & (df['severe_toxic']==0) & (df['obscene']==0) & (df['threat']==0) & (df['insult']==0) & (df['identity_hate']==0)]\n",
    "df = df.drop(['severe_toxic', 'threat', 'identity_hate'], axis=1)\n",
    "df2 = df2.drop(['severe_toxic', 'threat', 'identity_hate'], axis=1)\n",
    "df1 = df[(df['toxic']!=0) | (df['obscene']!=0) | (df['insult']!=0)]\n",
    "remove_n = 130000\n",
    "drop_indices = np.random.choice(df2.index, remove_n, replace=False)\n",
    "df2 = df2.drop(drop_indices)\n",
    "remove_n = 5000\n",
    "drop_indices = np.random.choice(df1.index, remove_n, replace=False)\n",
    "df1 = df1.drop(drop_indices)"
   ]
  },
  {
   "cell_type": "code",
   "execution_count": 7,
   "metadata": {},
   "outputs": [],
   "source": [
    "df_final = pd.concat([df1, df2])"
   ]
  },
  {
   "cell_type": "code",
   "execution_count": 8,
   "metadata": {},
   "outputs": [
    {
     "data": {
      "text/plain": [
       "(24495, 5)"
      ]
     },
     "execution_count": 8,
     "metadata": {},
     "output_type": "execute_result"
    }
   ],
   "source": [
    "df_final.shape"
   ]
  },
  {
   "cell_type": "markdown",
   "metadata": {},
   "source": [
    "Algunas muestras pueden no tener texto asociado, así que las imputaremos con la palabra: unknown "
   ]
  },
  {
   "cell_type": "code",
   "execution_count": 9,
   "metadata": {},
   "outputs": [],
   "source": [
    "COMMENT = 'comment_text'\n",
    "df_final[COMMENT].fillna(\"unknown\", inplace=True)"
   ]
  },
  {
   "cell_type": "code",
   "execution_count": 10,
   "metadata": {},
   "outputs": [
    {
     "data": {
      "text/plain": [
       "'=tony sidaway is obviously a fistfuckee. he loves an arm up his ass.'"
      ]
     },
     "execution_count": 10,
     "metadata": {},
     "output_type": "execute_result"
    }
   ],
   "source": [
    "df_final['comment_text'][df_final.index[6]]"
   ]
  },
  {
   "cell_type": "code",
   "execution_count": 11,
   "metadata": {},
   "outputs": [
    {
     "data": {
      "text/plain": [
       "(358.48169014084505, 605.5713565714727, 5000)"
      ]
     },
     "execution_count": 11,
     "metadata": {},
     "output_type": "execute_result"
    }
   ],
   "source": [
    "lens = df_final.comment_text.str.len()\n",
    "lens.mean(), lens.std(), lens.max()"
   ]
  },
  {
   "cell_type": "code",
   "execution_count": 12,
   "metadata": {},
   "outputs": [
    {
     "data": {
      "image/png": "[encoded data removed]",
      "text/plain": [
       "<Figure size 432x288 with 1 Axes>"
      ]
     },
     "metadata": {
      "needs_background": "light"
     },
     "output_type": "display_data"
    }
   ],
   "source": [
    "lens.hist();"
   ]
  },
  {
   "cell_type": "markdown",
   "metadata": {},
   "source": [
    "**Nota**: De las anteriores gráficas se puede observar que todas las clases a predecir están desbalanceadas, pero la estrategia de validación estratificada estándar sólo puede fijarse en una. Un método al ternativo, llamado estratificación iterativa puede consultarse en el siguiente [artículo](https://link.springer.com/content/pdf/10.1007%2F978-3-642-23808-6_10.pdf) Su implementación está disponible en la librería [scikit-multilearn](http://scikit.ml/stratification.html)"
   ]
  },
  {
   "cell_type": "code",
   "execution_count": 13,
   "metadata": {},
   "outputs": [],
   "source": [
    "import re, string\n",
    "re_tok = re.compile(f'([{string.punctuation}“”¨«»®´·º½¾¿¡§£₤‘’])')\n",
    "def tokenize(s): return re_tok.sub(r' \\1 ', s).split()"
   ]
  },
  {
   "cell_type": "code",
   "execution_count": 14,
   "metadata": {},
   "outputs": [],
   "source": [
    "X_train, X_test, y_train, y_test = train_test_split(df_final['comment_text'],df_final[['toxic','obscene','insult']], test_size=0.2, random_state=42, stratify=df_final['insult'])"
   ]
  },
  {
   "cell_type": "markdown",
   "metadata": {},
   "source": [
    "# Ejemplo: Random Forest en esquema One vs Rest"
   ]
  },
  {
   "cell_type": "code",
   "execution_count": 15,
   "metadata": {},
   "outputs": [],
   "source": [
    "y_unique = ['toxic','obscene','insult']\n",
    "classifier = Pipeline([\n",
    "    ('tfidf', TfidfVectorizer(ngram_range=(1,2), tokenizer=tokenize,\n",
    "               min_df=3, max_df=0.9, strip_accents='unicode', max_features = 2000, use_idf=1,\n",
    "               smooth_idf=1, sublinear_tf=1, stop_words='english')),\n",
    "    ('scaler', StandardScaler(with_mean=False)),\n",
    "    ('clf', OneVsRestClassifier(RandomForestClassifier(class_weight='balanced_subsample')))])"
   ]
  },
  {
   "cell_type": "code",
   "execution_count": 16,
   "metadata": {},
   "outputs": [],
   "source": [
    "# Parameters of pipelines can be set using ‘__’ separated parameter names:\n",
    "tuned_parameters = [{\"tfidf__max_features\":[1000,2000],\n",
    "                     \"clf__estimator__n_estimators\": [100,150,200,250,300,350,400],\n",
    "                     \"clf__estimator__max_depth\": [10,12,14,16],\n",
    "                     \"clf__estimator__max_features\":['auto','sqrt','log2']},\n",
    "                   {\"clf__estimator__n_estimators\": [100,150,200,250,300,350,400],\n",
    "                     \"clf__estimator__max_depth\": [None],\n",
    "                     \"clf__estimator__max_features\":['auto','sqrt','log2'],\n",
    "                     \"clf__estimator__min_samples_split\":[10,20,30,40]}]"
   ]
  },
  {
   "cell_type": "code",
   "execution_count": 17,
   "metadata": {},
   "outputs": [
    {
     "name": "stdout",
     "output_type": "stream",
     "text": [
      "Fitting 3 folds for each of 168 candidates, totalling 504 fits\n"
     ]
    },
    {
     "name": "stderr",
     "output_type": "stream",
     "text": [
      "[Parallel(n_jobs=-1)]: Using backend LokyBackend with 16 concurrent workers.\n",
      "[Parallel(n_jobs=-1)]: Done   9 tasks      | elapsed:   13.9s\n",
      "[Parallel(n_jobs=-1)]: Done 130 tasks      | elapsed:  2.0min\n",
      "/home/julian/.local/lib/python3.7/site-packages/joblib/externals/loky/process_executor.py:706: UserWarning: A worker stopped while some jobs were given to the executor. This can be caused by a too short worker timeout or by a memory leak.\n",
      "  \"timeout or by a memory leak.\", UserWarning\n",
      "[Parallel(n_jobs=-1)]: Done 333 tasks      | elapsed:  9.4min\n",
      "[Parallel(n_jobs=-1)]: Done 504 out of 504 | elapsed: 18.2min finished\n"
     ]
    },
    {
     "data": {
      "text/plain": [
       "GridSearchCV(cv=KFold(n_splits=3, random_state=None, shuffle=False),\n",
       "             error_score=nan,\n",
       "             estimator=Pipeline(memory=None,\n",
       "                                steps=[('tfidf',\n",
       "                                        TfidfVectorizer(analyzer='word',\n",
       "                                                        binary=False,\n",
       "                                                        decode_error='strict',\n",
       "                                                        dtype=<class 'numpy.float64'>,\n",
       "                                                        encoding='utf-8',\n",
       "                                                        input='content',\n",
       "                                                        lowercase=True,\n",
       "                                                        max_df=0.9,\n",
       "                                                        max_features=2000,\n",
       "                                                        min_df=3,\n",
       "                                                        ngram_range=(1, 2),\n",
       "                                                        norm='l2',\n",
       "                                                        preprocesso...\n",
       "                          'clf__estimator__n_estimators': [100, 150, 200, 250,\n",
       "                                                           300, 350, 400]},\n",
       "                         {'clf__estimator__max_depth': [None],\n",
       "                          'clf__estimator__max_features': ['auto', 'sqrt',\n",
       "                                                           'log2'],\n",
       "                          'clf__estimator__min_samples_split': [10, 20, 30, 40],\n",
       "                          'clf__estimator__n_estimators': [100, 150, 200, 250,\n",
       "                                                           300, 350, 400]}],\n",
       "             pre_dispatch='2*n_jobs', refit=True, return_train_score=False,\n",
       "             scoring=make_scorer(accuracy_score), verbose=2)"
      ]
     },
     "execution_count": 17,
     "metadata": {},
     "output_type": "execute_result"
    }
   ],
   "source": [
    "kf = KFold(n_splits=3)\n",
    "model_tunning = GridSearchCV(classifier, param_grid=tuned_parameters,\n",
    "                             scoring=make_scorer(accuracy_score), n_jobs=-1, cv=kf, verbose=2)\n",
    "\n",
    "model_tunning.fit(X_train, y_train)"
   ]
  },
  {
   "cell_type": "code",
   "execution_count": 18,
   "metadata": {},
   "outputs": [
    {
     "data": {
      "text/plain": [
       "('clf', OneVsRestClassifier(estimator=RandomForestClassifier(bootstrap=True,\n",
       "                                                      ccp_alpha=0.0,\n",
       "                                                      class_weight='balanced_subsample',\n",
       "                                                      criterion='gini',\n",
       "                                                      max_depth=None,\n",
       "                                                      max_features='auto',\n",
       "                                                      max_leaf_nodes=None,\n",
       "                                                      max_samples=None,\n",
       "                                                      min_impurity_decrease=0.0,\n",
       "                                                      min_impurity_split=None,\n",
       "                                                      min_samples_leaf=1,\n",
       "                                                      min_samples_split=20,\n",
       "                                                      min_weight_fraction_leaf=0.0,\n",
       "                                                      n_estimators=250,\n",
       "                                                      n_jobs=None,\n",
       "                                                      oob_score=False,\n",
       "                                                      random_state=None,\n",
       "                                                      verbose=0,\n",
       "                                                      warm_start=False),\n",
       "                     n_jobs=None))"
      ]
     },
     "execution_count": 18,
     "metadata": {},
     "output_type": "execute_result"
    }
   ],
   "source": [
    "model_tunning.best_estimator_.steps[2]"
   ]
  },
  {
   "cell_type": "code",
   "execution_count": 19,
   "metadata": {},
   "outputs": [
    {
     "data": {
      "text/plain": [
       "0.6964686670749133"
      ]
     },
     "execution_count": 19,
     "metadata": {},
     "output_type": "execute_result"
    }
   ],
   "source": [
    "model_tunning.best_score_"
   ]
  },
  {
   "cell_type": "code",
   "execution_count": 20,
   "metadata": {},
   "outputs": [
    {
     "data": {
      "text/plain": [
       "87939     \"for instance, read what the dynasts were sayi...\n",
       "45721     \"\\n\\nthe publication \"\"the chamcha age\"\" - an ...\n",
       "42610     don't be stupid. you know, i'm twice as irrita...\n",
       "127722    whoever created this page is either very jelou...\n",
       "135802    that's libel right there. murder is defined as...\n",
       "                                ...                        \n",
       "58193     \"\\nthank you for applying to access the accoun...\n",
       "159460    , 24 january 2010 (utc)\\nwikipedia is hosted i...\n",
       "4251      that's a good idea (assuming someone from the ...\n",
       "16255     \"\\nactually, we've been removing many \"\"terror...\n",
       "50872     \"\\n\\n please do not vandalize pages, as you di...\n",
       "Name: comment_text, Length: 4899, dtype: object"
      ]
     },
     "execution_count": 20,
     "metadata": {},
     "output_type": "execute_result"
    }
   ],
   "source": [
    "X_test"
   ]
  },
  {
   "cell_type": "code",
   "execution_count": 21,
   "metadata": {},
   "outputs": [],
   "source": [
    "y_pred = model_tunning.predict(X_test)\n",
    "cm = multilabel_confusion_matrix(y_test, y_pred)"
   ]
  },
  {
   "cell_type": "code",
   "execution_count": 22,
   "metadata": {},
   "outputs": [
    {
     "data": {
      "image/png": "[encoded data removed]",
      "text/plain": [
       "<Figure size 1080x720 with 6 Axes>"
      ]
     },
     "metadata": {
      "needs_background": "light"
     },
     "output_type": "display_data"
    }
   ],
   "source": [
    "fig, axes = plt.subplots(1, 3, figsize=(15,10))\n",
    "\n",
    "for i, (k, ax) in enumerate(zip(y_unique, axes.flatten())):\n",
    "    label = []\n",
    "    label.append(k)\n",
    "    label.append('no '+ k) \n",
    "    disp = ConfusionMatrixDisplay(confusion_matrix=(cm[i].T/np.sum(cm[i],axis=1)).T, display_labels=label)\n",
    "    disp.plot(include_values=True,cmap=plt.cm.Blues, ax=ax, xticks_rotation='horizontal',\n",
    "          values_format=None)\n",
    "plt.show()"
   ]
  },
  {
   "cell_type": "code",
   "execution_count": 23,
   "metadata": {},
   "outputs": [
    {
     "name": "stdout",
     "output_type": "stream",
     "text": [
      "Global train error = 0.013676260461318637\n",
      "Global test error = 0.13213581002925767\n"
     ]
    }
   ],
   "source": [
    "y_pred_train = model_tunning.predict(X_train)\n",
    "print(f\"Global train error = {hamming_loss(y_train, y_pred_train)}\")\n",
    "print(f\"Global test error = {hamming_loss(y_test, y_pred)}\")"
   ]
  },
  {
   "cell_type": "markdown",
   "metadata": {},
   "source": [
    "Podemos averiguar cuántas palabras fueron incluidas en el diccionario:"
   ]
  },
  {
   "cell_type": "code",
   "execution_count": 24,
   "metadata": {},
   "outputs": [
    {
     "data": {
      "text/plain": [
       "2000"
      ]
     },
     "execution_count": 24,
     "metadata": {},
     "output_type": "execute_result"
    }
   ],
   "source": [
    "model_tunning.best_estimator_.steps[2][1].estimators_[0].n_features_"
   ]
  },
  {
   "cell_type": "code",
   "execution_count": 25,
   "metadata": {},
   "outputs": [
    {
     "data": {
      "image/png": "[encoded data removed]",
      "text/plain": [
       "<Figure size 432x288 with 1 Axes>"
      ]
     },
     "metadata": {
      "needs_background": "light"
     },
     "output_type": "display_data"
    }
   ],
   "source": [
    "p_pred = model_tunning.predict_proba(X_test)\n",
    "for i,j in enumerate(y_unique):\n",
    "    score_pred = p_pred[:,i].copy()\n",
    "    fpr, tpr, _ = roc_curve(y_test.values[:,i], score_pred)\n",
    "    plt.plot(fpr, tpr, label=j+' '+ '(AUC=' + str(round(auc(fpr, tpr),2)) +')')\n",
    "plt.legend()\n",
    "plt.title('Curvas ROC para cada etiqueta')\n",
    "plt.grid()\n",
    "plt.show()"
   ]
  },
  {
   "cell_type": "markdown",
   "metadata": {},
   "source": [
    "# Variante: Random Forest Multi-task"
   ]
  },
  {
   "cell_type": "code",
   "execution_count": 26,
   "metadata": {},
   "outputs": [],
   "source": [
    "class_weight_list = []\n",
    "for i in range(len(y_unique)):\n",
    "    labels = np.unique(y_train.values[:,i])\n",
    "    temp = compute_class_weight('balanced',labels,y_train.values[:,i])\n",
    "    class_weight_list.append({labels[0]:temp[0], labels[1]:temp[1]})\n",
    "\n",
    "classifier = Pipeline([\n",
    "    ('tfidf', TfidfVectorizer(ngram_range=(1,2), tokenizer=tokenize,\n",
    "               min_df=3, max_df=0.9, strip_accents='unicode', max_features = 2000, use_idf=1,\n",
    "               smooth_idf=1, sublinear_tf=1, stop_words='english')),\n",
    "    ('scaler', StandardScaler(with_mean=False)),\n",
    "    ('clf', RandomForestClassifier(class_weight=class_weight_list))])"
   ]
  },
  {
   "cell_type": "code",
   "execution_count": 27,
   "metadata": {},
   "outputs": [],
   "source": [
    "# Parameters of pipelines can be set using ‘__’ separated parameter names:\n",
    "tuned_parameters = [{\"clf__n_estimators\": [100,150,200,250,300,350,400],\n",
    "                     \"clf__max_depth\": [10,12,14,16],\n",
    "                     \"clf__max_features\":['auto','sqrt','log2']},\n",
    "                   {\"clf__n_estimators\": [100,150,200,250,300,350,400],\n",
    "                     \"clf__max_depth\": [None],\n",
    "                     \"clf__max_features\":['auto','sqrt','log2'],\n",
    "                     \"clf__min_samples_split\":[10,20,30,40]}]"
   ]
  },
  {
   "cell_type": "code",
   "execution_count": 28,
   "metadata": {},
   "outputs": [
    {
     "name": "stdout",
     "output_type": "stream",
     "text": [
      "Fitting 3 folds for each of 168 candidates, totalling 504 fits\n"
     ]
    },
    {
     "name": "stderr",
     "output_type": "stream",
     "text": [
      "[Parallel(n_jobs=-1)]: Using backend LokyBackend with 16 concurrent workers.\n",
      "[Parallel(n_jobs=-1)]: Done   9 tasks      | elapsed:    7.9s\n",
      "[Parallel(n_jobs=-1)]: Done 130 tasks      | elapsed:  1.1min\n",
      "/home/julian/.local/lib/python3.7/site-packages/joblib/externals/loky/process_executor.py:706: UserWarning: A worker stopped while some jobs were given to the executor. This can be caused by a too short worker timeout or by a memory leak.\n",
      "  \"timeout or by a memory leak.\", UserWarning\n",
      "[Parallel(n_jobs=-1)]: Done 333 tasks      | elapsed:  4.9min\n",
      "[Parallel(n_jobs=-1)]: Done 504 out of 504 | elapsed:  9.0min finished\n"
     ]
    },
    {
     "data": {
      "text/plain": [
       "GridSearchCV(cv=KFold(n_splits=3, random_state=None, shuffle=False),\n",
       "             error_score=nan,\n",
       "             estimator=Pipeline(memory=None,\n",
       "                                steps=[('tfidf',\n",
       "                                        TfidfVectorizer(analyzer='word',\n",
       "                                                        binary=False,\n",
       "                                                        decode_error='strict',\n",
       "                                                        dtype=<class 'numpy.float64'>,\n",
       "                                                        encoding='utf-8',\n",
       "                                                        input='content',\n",
       "                                                        lowercase=True,\n",
       "                                                        max_df=0.9,\n",
       "                                                        max_features=2000,\n",
       "                                                        min_df=3,\n",
       "                                                        ngram_range=(1, 2),\n",
       "                                                        norm='l2',\n",
       "                                                        preprocesso...\n",
       "                          'clf__max_features': ['auto', 'sqrt', 'log2'],\n",
       "                          'clf__n_estimators': [100, 150, 200, 250, 300, 350,\n",
       "                                                400]},\n",
       "                         {'clf__max_depth': [None],\n",
       "                          'clf__max_features': ['auto', 'sqrt', 'log2'],\n",
       "                          'clf__min_samples_split': [10, 20, 30, 40],\n",
       "                          'clf__n_estimators': [100, 150, 200, 250, 300, 350,\n",
       "                                                400]}],\n",
       "             pre_dispatch='2*n_jobs', refit=True, return_train_score=False,\n",
       "             scoring=make_scorer(accuracy_score), verbose=2)"
      ]
     },
     "execution_count": 28,
     "metadata": {},
     "output_type": "execute_result"
    }
   ],
   "source": [
    "kf = KFold(n_splits=3)\n",
    "model_tunning = GridSearchCV(classifier, param_grid=tuned_parameters,\n",
    "                             scoring=make_scorer(accuracy_score), n_jobs=-1, cv=kf, verbose=2)\n",
    "\n",
    "model_tunning.fit(X_train, y_train)"
   ]
  },
  {
   "cell_type": "code",
   "execution_count": 30,
   "metadata": {},
   "outputs": [
    {
     "data": {
      "text/plain": [
       "RandomForestClassifier(bootstrap=True, ccp_alpha=0.0,\n",
       "                       class_weight=[{0: 0.8792175161521896,\n",
       "                                      1: 1.1592522479886418},\n",
       "                                     {0: 0.6563504823151125,\n",
       "                                      1: 2.0989717223650386},\n",
       "                                     {0: 0.6429977687360546,\n",
       "                                      1: 2.2482790270766406}],\n",
       "                       criterion='gini', max_depth=None, max_features='sqrt',\n",
       "                       max_leaf_nodes=None, max_samples=None,\n",
       "                       min_impurity_decrease=0.0, min_impurity_split=None,\n",
       "                       min_samples_leaf=1, min_samples_split=10,\n",
       "                       min_weight_fraction_leaf=0.0, n_estimators=300,\n",
       "                       n_jobs=None, oob_score=False, random_state=None,\n",
       "                       verbose=0, warm_start=False)"
      ]
     },
     "execution_count": 30,
     "metadata": {},
     "output_type": "execute_result"
    }
   ],
   "source": [
    "model_tunning.best_estimator_.steps[2][1]"
   ]
  },
  {
   "cell_type": "code",
   "execution_count": 31,
   "metadata": {},
   "outputs": [
    {
     "data": {
      "text/plain": [
       "0.6730965503163912"
      ]
     },
     "execution_count": 31,
     "metadata": {},
     "output_type": "execute_result"
    }
   ],
   "source": [
    "model_tunning.best_score_"
   ]
  },
  {
   "cell_type": "code",
   "execution_count": 32,
   "metadata": {},
   "outputs": [],
   "source": [
    "y_pred = model_tunning.predict(X_test)\n",
    "cm = multilabel_confusion_matrix(y_test, y_pred)"
   ]
  },
  {
   "cell_type": "code",
   "execution_count": 33,
   "metadata": {},
   "outputs": [
    {
     "data": {
      "image/png": "[encoded data removed]",
      "text/plain": [
       "<Figure size 1080x720 with 6 Axes>"
      ]
     },
     "metadata": {
      "needs_background": "light"
     },
     "output_type": "display_data"
    }
   ],
   "source": [
    "fig, axes = plt.subplots(1, 3, figsize=(15,10))\n",
    "\n",
    "for i, (k, ax) in enumerate(zip(y_unique, axes.flatten())):\n",
    "    label = []\n",
    "    label.append(k)\n",
    "    label.append('no '+ k) \n",
    "    disp = ConfusionMatrixDisplay(confusion_matrix=(cm[i].T/np.sum(cm[i],axis=1)).T, display_labels=label)\n",
    "    disp.plot(include_values=True,cmap=plt.cm.Blues, ax=ax, xticks_rotation='horizontal',\n",
    "          values_format=None)\n",
    "plt.show()"
   ]
  },
  {
   "cell_type": "code",
   "execution_count": 34,
   "metadata": {},
   "outputs": [
    {
     "name": "stdout",
     "output_type": "stream",
     "text": [
      "Global train error = 0.013438116622439954\n",
      "Global test error = 0.1493502075253453\n"
     ]
    }
   ],
   "source": [
    "y_pred_train = model_tunning.predict(X_train)\n",
    "print(f\"Global train error = {hamming_loss(y_train, y_pred_train)}\")\n",
    "print(f\"Global test error = {hamming_loss(y_test, y_pred)}\")"
   ]
  },
  {
   "cell_type": "markdown",
   "metadata": {},
   "source": [
    "## Ejercicio 1"
   ]
  },
  {
   "cell_type": "code",
   "execution_count": 40,
   "metadata": {},
   "outputs": [
    {
     "data": {
      "image/png": "[encoded data removed]",
      "text/plain": [
       "<Figure size 432x288 with 1 Axes>"
      ]
     },
     "metadata": {
      "needs_background": "light"
     },
     "output_type": "display_data"
    }
   ],
   "source": [
    "#Ejercicio de código\n",
    "p_pred = model_tunning.predict_proba(X_test)\n",
    "for i,j in enumerate(y_unique):\n",
    "    #OJO: Son tres salidas...\n",
    "    score_pred = ...\n",
    "    fpr, tpr, _ = roc_curve(y_test.values[:,i], score_pred)\n",
    "    plt.plot(fpr, tpr, label=j+' '+ '(AUC=' + str(round(auc(fpr, tpr),2)) +')')\n",
    "plt.legend()\n",
    "plt.title('Curvas ROC para cada etiqueta')\n",
    "plt.grid()\n",
    "plt.show()"
   ]
  },
  {
   "cell_type": "markdown",
   "metadata": {},
   "source": [
    "## Ejericicio 2.\n",
    "\n",
    "Realizar un proceso similar al anterior pero para una Red Neuronal Aritificial. En este caso evalúe máximo 2 capas ocultas con las siguientes configuraciones: (64,32) (128,64). Incluya parámetro de regularización dentro de la búsqueda de hiperparámetros y modifique también el número máximo de época de acuerdo con el siguiente conjunto: [30, 60, 100]. También puede variar el tamaño del batch: batch_size y la política de la tasa de aprendizaje: learning_rate.\n",
    "\n",
    "Recuerde que la RNA soporta la estrategia de early_stopping, para la que debe definir además el parámetro n_iter_no_change y validation_fraction."
   ]
  },
  {
   "cell_type": "code",
   "execution_count": null,
   "metadata": {},
   "outputs": [],
   "source": [
    "#Ejercicio de código\n",
    "\n",
    "\n",
    "..."
   ]
  }
 ],
 "metadata": {
  "kernelspec": {
   "display_name": "Python 3",
   "language": "python",
   "name": "python3"
  },
  "language_info": {
   "codemirror_mode": {
    "name": "ipython",
    "version": 3
   },
   "file_extension": ".py",
   "mimetype": "text/x-python",
   "name": "python",
   "nbconvert_exporter": "python",
   "pygments_lexer": "ipython3",
   "version": "3.7.6"
  }
 },
 "nbformat": 4,
 "nbformat_minor": 4
}

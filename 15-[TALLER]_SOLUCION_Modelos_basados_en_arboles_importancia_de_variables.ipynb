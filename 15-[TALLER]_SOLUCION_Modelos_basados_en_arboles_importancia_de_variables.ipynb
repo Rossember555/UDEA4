{
 "cells": [
  {
   "cell_type": "markdown",
   "metadata": {},
   "source": [
    "<a href=\"https://colab.research.google.com/github/UDEA-Esp-Analitica-y-Ciencia-de-Datos/EACD-04-MACHINE-LEARNING-1/blob/master/15-%5BTALLER%5D_Modelos_basados_en_arboles_importancia_de_variables.ipynb\" target=\"_parent\"><img src=\"https://colab.research.google.com/assets/colab-badge.svg\" alt=\"Open In Colab\"/></a>\n",
    "\n",
    "\n",
    "**Recuerda que una vez abierto, Da clic en \"Copiar en Drive\", de lo contrario no podras alamancenar tu progreso**\n",
    "\n",
    "Nota: no olvide ir ejecutando las celdas de código de arriba hacia abajo para que no tenga errores de importación de librerías o por falta de definición de variables."
   ]
  },
  {
   "cell_type": "code",
   "execution_count": null,
   "metadata": {},
   "outputs": [],
   "source": [
    "!wget --no-cache -O init.py -q https://raw.githubusercontent.com/UDEA-Esp-Analitica-y-Ciencia-de-Datos/EACD-04-MACHINE-LEARNING-1/master/init.py\n",
    "import init; init.init(force_download=False); "
   ]
  },
  {
   "cell_type": "markdown",
   "metadata": {},
   "source": [
    "# Parte 1.\n",
    "\n",
    "**Bag of words + Bagging**\n",
    "\n",
    "\n",
    "## Contextualización del problema\n",
    "\n",
    "\n",
    "Usaremos el dataset Twitter US Airline Sentiment para el problema de clasificación. En el repositorio de Kaggle se encuentra más información en el siguiente [link](https://www.kaggle.com/crowdflower/twitter-airline-sentiment)\n",
    "\n"
   ]
  },
  {
   "cell_type": "code",
   "execution_count": 1,
   "metadata": {},
   "outputs": [],
   "source": [
    "import numpy as np # linear algebra\n",
    "import pandas as pd # data processing, CSV file I/O (e.g. pd.read_csv)\n",
    "import matplotlib.pyplot as plt"
   ]
  },
  {
   "cell_type": "code",
   "execution_count": 2,
   "metadata": {},
   "outputs": [],
   "source": [
    "data = pd.read_csv('local/data/Tweets.csv')\n",
    "# Keeping only the neccessary columns\n",
    "data = data[['text','airline_sentiment']]"
   ]
  },
  {
   "cell_type": "markdown",
   "metadata": {},
   "source": [
    "Como es un problema de procesamiento de texto debemos hacer algunas tareas báscias de preprocesamiento:"
   ]
  },
  {
   "cell_type": "code",
   "execution_count": 3,
   "metadata": {},
   "outputs": [
    {
     "name": "stdout",
     "output_type": "stream",
     "text": [
      "Número de muestras positivas 2363\n",
      "Número de muestras negatias 9178\n"
     ]
    }
   ],
   "source": [
    "import re\n",
    "#Remove neutral class\n",
    "data = data[data.airline_sentiment != \"neutral\"]\n",
    "\n",
    "#text normalization\n",
    "data['text'] = data['text'].apply(lambda x: x.lower())\n",
    "data['text'] = data['text'].apply((lambda x:re.sub('@[^\\s]+','',x)))#remove the name of the airline\n",
    "data['text'] = data['text'].apply((lambda x: re.sub('[^a-zA-z0-9\\s]','',x)))\n",
    "print(f\"Número de muestras positivas {np.sum(data['airline_sentiment'].values == 'positive')}\")\n",
    "print(f\"Número de muestras negatias {np.sum(data['airline_sentiment'].values == 'negative')}\")"
   ]
  },
  {
   "cell_type": "code",
   "execution_count": 4,
   "metadata": {},
   "outputs": [],
   "source": [
    "for idx,row in data.iterrows():\n",
    "    row[0] = row[0].replace('rt',' ')"
   ]
  },
  {
   "cell_type": "code",
   "execution_count": 5,
   "metadata": {},
   "outputs": [
    {
     "data": {
      "text/html": [
       "<div>\n",
       "<style scoped>\n",
       "    .dataframe tbody tr th:only-of-type {\n",
       "        vertical-align: middle;\n",
       "    }\n",
       "\n",
       "    .dataframe tbody tr th {\n",
       "        vertical-align: top;\n",
       "    }\n",
       "\n",
       "    .dataframe thead th {\n",
       "        text-align: right;\n",
       "    }\n",
       "</style>\n",
       "<table border=\"1\" class=\"dataframe\">\n",
       "  <thead>\n",
       "    <tr style=\"text-align: right;\">\n",
       "      <th></th>\n",
       "      <th>text</th>\n",
       "      <th>airline_sentiment</th>\n",
       "    </tr>\n",
       "  </thead>\n",
       "  <tbody>\n",
       "    <tr>\n",
       "      <th>1</th>\n",
       "      <td>plus youve added commercials to the experienc...</td>\n",
       "      <td>positive</td>\n",
       "    </tr>\n",
       "    <tr>\n",
       "      <th>3</th>\n",
       "      <td>its really aggressive to blast obnoxious ente...</td>\n",
       "      <td>negative</td>\n",
       "    </tr>\n",
       "    <tr>\n",
       "      <th>4</th>\n",
       "      <td>and its a really big bad thing about it</td>\n",
       "      <td>negative</td>\n",
       "    </tr>\n",
       "    <tr>\n",
       "      <th>5</th>\n",
       "      <td>seriously would pay 30 a flight for seats tha...</td>\n",
       "      <td>negative</td>\n",
       "    </tr>\n",
       "    <tr>\n",
       "      <th>6</th>\n",
       "      <td>yes nearly every time i fly vx this ear worm ...</td>\n",
       "      <td>positive</td>\n",
       "    </tr>\n",
       "    <tr>\n",
       "      <th>8</th>\n",
       "      <td>well i didntbut now i do d</td>\n",
       "      <td>positive</td>\n",
       "    </tr>\n",
       "    <tr>\n",
       "      <th>9</th>\n",
       "      <td>it was amazing and arrived an hour early your...</td>\n",
       "      <td>positive</td>\n",
       "    </tr>\n",
       "    <tr>\n",
       "      <th>11</th>\n",
       "      <td>i lt3 pretty graphics so much better than min...</td>\n",
       "      <td>positive</td>\n",
       "    </tr>\n",
       "    <tr>\n",
       "      <th>12</th>\n",
       "      <td>this is such a great deal already thinking ab...</td>\n",
       "      <td>positive</td>\n",
       "    </tr>\n",
       "    <tr>\n",
       "      <th>13</th>\n",
       "      <td>im flying your fabulous seductive skies agai...</td>\n",
       "      <td>positive</td>\n",
       "    </tr>\n",
       "  </tbody>\n",
       "</table>\n",
       "</div>"
      ],
      "text/plain": [
       "                                                 text airline_sentiment\n",
       "1    plus youve added commercials to the experienc...          positive\n",
       "3    its really aggressive to blast obnoxious ente...          negative\n",
       "4             and its a really big bad thing about it          negative\n",
       "5    seriously would pay 30 a flight for seats tha...          negative\n",
       "6    yes nearly every time i fly vx this ear worm ...          positive\n",
       "8                          well i didntbut now i do d          positive\n",
       "9    it was amazing and arrived an hour early your...          positive\n",
       "11   i lt3 pretty graphics so much better than min...          positive\n",
       "12   this is such a great deal already thinking ab...          positive\n",
       "13    im flying your fabulous seductive skies agai...          positive"
      ]
     },
     "execution_count": 5,
     "metadata": {},
     "output_type": "execute_result"
    }
   ],
   "source": [
    "data[:10]"
   ]
  },
  {
   "cell_type": "markdown",
   "metadata": {},
   "source": [
    "# Bag of words"
   ]
  },
  {
   "cell_type": "code",
   "execution_count": 6,
   "metadata": {},
   "outputs": [
    {
     "name": "stdout",
     "output_type": "stream",
     "text": [
      "CPU times: user 107 ms, sys: 5.13 ms, total: 112 ms\n",
      "Wall time: 114 ms\n",
      "(11541, 2000)\n"
     ]
    },
    {
     "data": {
      "text/plain": [
       "array([[0, 0, 0, ..., 0, 0, 0],\n",
       "       [0, 0, 0, ..., 0, 0, 0],\n",
       "       [0, 0, 0, ..., 0, 0, 0],\n",
       "       ...,\n",
       "       [0, 0, 0, ..., 0, 0, 0],\n",
       "       [0, 0, 0, ..., 0, 0, 0],\n",
       "       [0, 0, 0, ..., 0, 0, 0]])"
      ]
     },
     "execution_count": 6,
     "metadata": {},
     "output_type": "execute_result"
    }
   ],
   "source": [
    "from sklearn.feature_extraction.text import CountVectorizer\n",
    "\n",
    "#define vectorizer parameters\n",
    "count_vectorizer = CountVectorizer(max_features=2000, stop_words='english')\n",
    "\n",
    "%time count_matrix = count_vectorizer.fit_transform(data['text']) #fit the vectorizer to synopses\n",
    "\n",
    "print(count_matrix.shape)\n",
    "count_matrix.toarray()"
   ]
  },
  {
   "cell_type": "code",
   "execution_count": 7,
   "metadata": {},
   "outputs": [
    {
     "data": {
      "text/plain": [
       "matrix([[0, 0, 0, ..., 0, 0, 0]])"
      ]
     },
     "execution_count": 7,
     "metadata": {},
     "output_type": "execute_result"
    }
   ],
   "source": [
    "count_matrix[0,:].todense()"
   ]
  },
  {
   "cell_type": "markdown",
   "metadata": {},
   "source": [
    "## Ejercicio 1.1: Clasificación usando estrategias de Bagging"
   ]
  },
  {
   "cell_type": "markdown",
   "metadata": {},
   "source": [
    "Realice la partición de los datos entre Entrenamiento y Test. Recuerde que Test es el subconjunto que dejará pára medir el desempeño del sistema después del entrenamiento y de la selección de los hiperparámetros. \n",
    "\n",
    "Teniendo en cuenta la distribución de clases, seleccione correctamente la estrategia de particionamiento."
   ]
  },
  {
   "cell_type": "code",
   "execution_count": 8,
   "metadata": {},
   "outputs": [],
   "source": [
    "#Ejercicio de código\n",
    "from sklearn.model_selection import train_test_split\n",
    "from sklearn.model_selection import StratifiedShuffleSplit\n",
    "#Complete el código\n",
    "X_train, X_test, y_train, y_test = train_test_split(count_matrix, data['airline_sentiment'], test_size=0.2, random_state=42, stratify=data['airline_sentiment'])\n",
    "\n",
    "st = StratifiedShuffleSplit(n_splits=5, test_size=0.2, random_state=0)"
   ]
  },
  {
   "cell_type": "markdown",
   "metadata": {},
   "source": [
    "Diseñe un experimento para ajustar los hiper-parámetros de un modelo Random Forest. Ajuste el número de árboles, la profundida de cada árbol y el número de variables a analizar por nodo."
   ]
  },
  {
   "cell_type": "code",
   "execution_count": 9,
   "metadata": {},
   "outputs": [],
   "source": [
    "from sklearn.ensemble import RandomForestClassifier\n",
    "\n",
    "clf_b = RandomForestClassifier(random_state=0,class_weight='balanced_subsample')"
   ]
  },
  {
   "cell_type": "code",
   "execution_count": 10,
   "metadata": {},
   "outputs": [],
   "source": [
    "from sklearn.model_selection import GridSearchCV\n",
    "\n",
    "parameters = {'n_estimators':[20,40,60,80,100], 'max_depth':[2,4,6,8], 'max_features':[10,20,30,40,50]}\n",
    "\n",
    "clf = GridSearchCV(estimator=clf_b, param_grid=parameters, cv=st, scoring='balanced_accuracy')"
   ]
  },
  {
   "cell_type": "code",
   "execution_count": 11,
   "metadata": {},
   "outputs": [
    {
     "data": {
      "text/plain": [
       "GridSearchCV(cv=StratifiedShuffleSplit(n_splits=5, random_state=0, test_size=0.2,\n",
       "            train_size=None),\n",
       "             error_score=nan,\n",
       "             estimator=RandomForestClassifier(bootstrap=True, ccp_alpha=0.0,\n",
       "                                              class_weight='balanced_subsample',\n",
       "                                              criterion='gini', max_depth=None,\n",
       "                                              max_features='auto',\n",
       "                                              max_leaf_nodes=None,\n",
       "                                              max_samples=None,\n",
       "                                              min_impurity_decrease=0.0,\n",
       "                                              min_impurity_split=None,\n",
       "                                              min...\n",
       "                                              min_samples_split=2,\n",
       "                                              min_weight_fraction_leaf=0.0,\n",
       "                                              n_estimators=100, n_jobs=None,\n",
       "                                              oob_score=False, random_state=0,\n",
       "                                              verbose=0, warm_start=False),\n",
       "             iid='deprecated', n_jobs=None,\n",
       "             param_grid={'max_depth': [2, 4, 6, 8],\n",
       "                         'max_features': [10, 20, 30, 40, 50],\n",
       "                         'n_estimators': [20, 40, 60, 80, 100]},\n",
       "             pre_dispatch='2*n_jobs', refit=True, return_train_score=False,\n",
       "             scoring='balanced_accuracy', verbose=0)"
      ]
     },
     "execution_count": 11,
     "metadata": {},
     "output_type": "execute_result"
    }
   ],
   "source": [
    "clf.fit(X_train,y_train)"
   ]
  },
  {
   "cell_type": "code",
   "execution_count": 12,
   "metadata": {},
   "outputs": [
    {
     "data": {
      "text/plain": [
       "RandomForestClassifier(bootstrap=True, ccp_alpha=0.0,\n",
       "                       class_weight='balanced_subsample', criterion='gini',\n",
       "                       max_depth=8, max_features=10, max_leaf_nodes=None,\n",
       "                       max_samples=None, min_impurity_decrease=0.0,\n",
       "                       min_impurity_split=None, min_samples_leaf=1,\n",
       "                       min_samples_split=2, min_weight_fraction_leaf=0.0,\n",
       "                       n_estimators=100, n_jobs=None, oob_score=False,\n",
       "                       random_state=0, verbose=0, warm_start=False)"
      ]
     },
     "execution_count": 12,
     "metadata": {},
     "output_type": "execute_result"
    }
   ],
   "source": [
    "clf.best_estimator_"
   ]
  },
  {
   "cell_type": "markdown",
   "metadata": {},
   "source": [
    "Evalúe en las muestras de test. Estime: Accuracy, Accuracy Balanceado y F1. Grafique la matriz de confusión normalizada."
   ]
  },
  {
   "cell_type": "code",
   "execution_count": 13,
   "metadata": {},
   "outputs": [
    {
     "name": "stdout",
     "output_type": "stream",
     "text": [
      "Accuracy = 0.797747942832395\n",
      "Balanced Accuracy = 0.8178887599202236\n",
      "F1 = 0.6331500392772977\n"
     ]
    },
    {
     "data": {
      "image/png": "[encoded data removed]",
      "text/plain": [
       "<Figure size 432x288 with 2 Axes>"
      ]
     },
     "metadata": {
      "needs_background": "light"
     },
     "output_type": "display_data"
    }
   ],
   "source": [
    "from sklearn.metrics import accuracy_score, f1_score, balanced_accuracy_score, plot_confusion_matrix\n",
    "from sklearn.preprocessing import LabelEncoder\n",
    "le = LabelEncoder().fit(np.unique(data['airline_sentiment']))\n",
    "\n",
    "Yest = clf.predict(X_test)\n",
    "\n",
    "print(f\"Accuracy = {accuracy_score(y_test,Yest)}\")\n",
    "print(f\"Balanced Accuracy = {balanced_accuracy_score(y_test,Yest)}\")\n",
    "\n",
    "#Las métricas F1, precision and recall requieren que se establezca la convención de cuál es la clase positiva (1)\n",
    "print(f\"F1 = {f1_score(le.transform(y_test),le.transform(Yest))}\")\n",
    "\n",
    "disp = plot_confusion_matrix(clf, X_test, y_test, display_labels=np.unique(data['airline_sentiment']),\n",
    "                             cmap=plt.cm.Blues, \n",
    "                             normalize='true')\n",
    "disp.ax_.set_title('MC normalizada')\n",
    "plt.show()"
   ]
  },
  {
   "cell_type": "markdown",
   "metadata": {},
   "source": [
    "## Ejercicio 1.2\n",
    "\n",
    "Diseñe un experimento para ajustar los hiper-parámetros de un modelo de Bagging de árboles de decisión. Ajuste el número de árboles y la profundida de cada árbol.\n",
    "\n",
    "Tenga en cuenta que el GridSearch no puede modificar la profundida del árbol de decisión porque sólo puede acceder a los parámetros del estimador, que en este caso es un modelo de Bagging, la profundidad hace parte de los párametros del estimador base y no son accesibles por el GridSearch."
   ]
  },
  {
   "cell_type": "code",
   "execution_count": 14,
   "metadata": {},
   "outputs": [],
   "source": [
    "from sklearn.ensemble import BaggingClassifier\n",
    "from sklearn.tree import DecisionTreeClassifier\n",
    "\n",
    "max_depth = [2,4,6,8]\n",
    "parameters = {'n_estimators':[20,40,60,80,100]}\n",
    "clf2 = []\n",
    "for i in max_depth:\n",
    "    \n",
    "    clf_b = DecisionTreeClassifier(random_state=0, class_weight='balanced', max_depth=i)\n",
    "    clf_bagging = BaggingClassifier(base_estimator=clf_b, random_state=0)\n",
    "    clf2.append(GridSearchCV(estimator=clf_bagging, param_grid=parameters, cv=st, scoring='balanced_accuracy').fit(X_train,y_train))\n",
    "\n",
    "best_score = 0\n",
    "for i in range(len(max_depth)):\n",
    "    if clf2[i].best_score_ >= best_score:\n",
    "        best_score = clf2[i].best_score_\n",
    "        ind = i\n",
    "clf2 = clf2[ind]"
   ]
  },
  {
   "cell_type": "code",
   "execution_count": 15,
   "metadata": {},
   "outputs": [
    {
     "data": {
      "text/plain": [
       "BaggingClassifier(base_estimator=DecisionTreeClassifier(ccp_alpha=0.0,\n",
       "                                                        class_weight='balanced',\n",
       "                                                        criterion='gini',\n",
       "                                                        max_depth=8,\n",
       "                                                        max_features=None,\n",
       "                                                        max_leaf_nodes=None,\n",
       "                                                        min_impurity_decrease=0.0,\n",
       "                                                        min_impurity_split=None,\n",
       "                                                        min_samples_leaf=1,\n",
       "                                                        min_samples_split=2,\n",
       "                                                        min_weight_fraction_leaf=0.0,\n",
       "                                                        presort='deprecated',\n",
       "                                                        random_state=0,\n",
       "                                                        splitter='best'),\n",
       "                  bootstrap=True, bootstrap_features=False, max_features=1.0,\n",
       "                  max_samples=1.0, n_estimators=20, n_jobs=None,\n",
       "                  oob_score=False, random_state=0, verbose=0, warm_start=False)"
      ]
     },
     "execution_count": 15,
     "metadata": {},
     "output_type": "execute_result"
    }
   ],
   "source": [
    "clf2.best_estimator_"
   ]
  },
  {
   "cell_type": "markdown",
   "metadata": {},
   "source": [
    "Evalúe en las muestras de test. Estime Accuracy, Accuracy Balanceado y F1. Grafique la matriz de confusión."
   ]
  },
  {
   "cell_type": "code",
   "execution_count": 16,
   "metadata": {},
   "outputs": [
    {
     "name": "stdout",
     "output_type": "stream",
     "text": [
      "Accuracy = 0.8614118666089217\n",
      "Balanced Accuracy = 0.766105537822364\n",
      "F1 = 0.6412556053811659\n"
     ]
    },
    {
     "data": {
      "image/png": "[encoded data removed]",
      "text/plain": [
       "<Figure size 432x288 with 2 Axes>"
      ]
     },
     "metadata": {
      "needs_background": "light"
     },
     "output_type": "display_data"
    }
   ],
   "source": [
    "Yest = clf2.predict(X_test)\n",
    "\n",
    "print(f\"Accuracy = {accuracy_score(y_test,Yest)}\")\n",
    "print(f\"Balanced Accuracy = {balanced_accuracy_score(y_test,Yest)}\")\n",
    "\n",
    "#Las métricas F1, precision and recall requieren que se establezca la convención de cuál es la clase positiva (1)\n",
    "print(f\"F1 = {f1_score(le.transform(y_test),le.transform(Yest))}\")\n",
    "\n",
    "disp = plot_confusion_matrix(clf2, X_test, y_test, display_labels=np.unique(data['airline_sentiment']),\n",
    "                             cmap=plt.cm.Blues, \n",
    "                             normalize='true')\n",
    "disp.ax_.set_title('MC normalizada')\n",
    "plt.show()"
   ]
  },
  {
   "cell_type": "code",
   "execution_count": 20,
   "metadata": {},
   "outputs": [
    {
     "data": {
      "text/plain": [
       "array([0.00233476, 0.        , 0.        , ..., 0.        , 0.        ,\n",
       "       0.        ])"
      ]
     },
     "execution_count": 20,
     "metadata": {},
     "output_type": "execute_result"
    }
   ],
   "source": [
    "clf2.best_estimator_.estimators_[0].feature_importances_"
   ]
  },
  {
   "cell_type": "markdown",
   "metadata": {},
   "source": [
    "### Solución alternativa"
   ]
  },
  {
   "cell_type": "code",
   "execution_count": 15,
   "metadata": {},
   "outputs": [],
   "source": [
    "from sklearn.ensemble import BaggingClassifier\n",
    "from sklearn.tree import DecisionTreeClassifier\n",
    "\n",
    "parameters = {'n_estimators':[20,40,60,80,100],\n",
    "             \"base_estimator__max_depth\": [2,4,6,8],}\n",
    "clf_b = DecisionTreeClassifier(random_state=0, class_weight='balanced')\n",
    "clf_bagging = BaggingClassifier(base_estimator=clf_b, random_state=0)\n",
    "clf2 = GridSearchCV(estimator=clf_bagging, param_grid=parameters, cv=st, scoring='balanced_accuracy').fit(X_train,y_train)"
   ]
  },
  {
   "cell_type": "code",
   "execution_count": 16,
   "metadata": {},
   "outputs": [
    {
     "data": {
      "text/plain": [
       "BaggingClassifier(base_estimator=DecisionTreeClassifier(ccp_alpha=0.0,\n",
       "                                                        class_weight='balanced',\n",
       "                                                        criterion='gini',\n",
       "                                                        max_depth=8,\n",
       "                                                        max_features=None,\n",
       "                                                        max_leaf_nodes=None,\n",
       "                                                        min_impurity_decrease=0.0,\n",
       "                                                        min_impurity_split=None,\n",
       "                                                        min_samples_leaf=1,\n",
       "                                                        min_samples_split=2,\n",
       "                                                        min_weight_fraction_leaf=0.0,\n",
       "                                                        presort='deprecated',\n",
       "                                                        random_state=0,\n",
       "                                                        splitter='best'),\n",
       "                  bootstrap=True, bootstrap_features=False, max_features=1.0,\n",
       "                  max_samples=1.0, n_estimators=20, n_jobs=None,\n",
       "                  oob_score=False, random_state=0, verbose=0, warm_start=False)"
      ]
     },
     "execution_count": 16,
     "metadata": {},
     "output_type": "execute_result"
    }
   ],
   "source": [
    "clf2.best_estimator_"
   ]
  },
  {
   "cell_type": "markdown",
   "metadata": {},
   "source": [
    "## Ejercicio 1.3: Importancia de variables"
   ]
  },
  {
   "cell_type": "markdown",
   "metadata": {},
   "source": [
    "Grafique la importancia de las variables de acuerdo con el mejor de los dos comités de máquina evaluados. Determine cuántas variables tienen importancia 0."
   ]
  },
  {
   "cell_type": "code",
   "execution_count": 14,
   "metadata": {},
   "outputs": [
    {
     "data": {
      "text/plain": [
       "<BarContainer object of 2000 artists>"
      ]
     },
     "execution_count": 14,
     "metadata": {},
     "output_type": "execute_result"
    },
    {
     "data": {
      "image/png": "[encoded data removed]",
      "text/plain": [
       "<Figure size 432x288 with 1 Axes>"
      ]
     },
     "metadata": {
      "needs_background": "light"
     },
     "output_type": "display_data"
    }
   ],
   "source": [
    "plt.bar(np.arange(2000),clf.best_estimator_.feature_importances_)"
   ]
  },
  {
   "cell_type": "code",
   "execution_count": 15,
   "metadata": {},
   "outputs": [
    {
     "data": {
      "text/plain": [
       "949"
      ]
     },
     "execution_count": 15,
     "metadata": {},
     "output_type": "execute_result"
    }
   ],
   "source": [
    "np.sum(clf.best_estimator_.feature_importances_==0)"
   ]
  },
  {
   "cell_type": "markdown",
   "metadata": {},
   "source": [
    "¿Cuáles son las 10 palabras más determinantes para definir el sentimiento de los tweets? Incluya el código necesario para poder responder la pregunta."
   ]
  },
  {
   "cell_type": "code",
   "execution_count": 16,
   "metadata": {},
   "outputs": [],
   "source": [
    "indx = np.argsort(clf.best_estimator_.feature_importances_)[::-1]"
   ]
  },
  {
   "cell_type": "code",
   "execution_count": 17,
   "metadata": {},
   "outputs": [
    {
     "data": {
      "text/plain": [
       "array([1735, 1732,  829,  892,  910,  734,  140,  307, 1950,  218])"
      ]
     },
     "execution_count": 17,
     "metadata": {},
     "output_type": "execute_result"
    }
   ],
   "source": [
    "indx[:10]"
   ]
  },
  {
   "cell_type": "code",
   "execution_count": 18,
   "metadata": {},
   "outputs": [
    {
     "name": "stdout",
     "output_type": "stream",
     "text": [
      "thanks\n",
      "thank\n",
      "great\n",
      "hold\n",
      "hours\n",
      "flight\n",
      "amazing\n",
      "cancelled\n",
      "wont\n",
      "bag\n"
     ]
    }
   ],
   "source": [
    "for i in indx[:10]:\n",
    "    print(list(count_vectorizer.vocabulary_.keys())[list(count_vectorizer.vocabulary_.values()).index(i)])"
   ]
  },
  {
   "cell_type": "code",
   "execution_count": 21,
   "metadata": {},
   "outputs": [
    {
     "data": {
      "text/plain": [
       "[1337,\n",
       " 1993,\n",
       " 103,\n",
       " 661,\n",
       " 1418,\n",
       " 624,\n",
       " 125,\n",
       " 144,\n",
       " 1061,\n",
       " 246,\n",
       " 214,\n",
       " 1742,\n",
       " 1557,\n",
       " 1294,\n",
       " 41,\n",
       " 734,\n",
       " 1544,\n",
       " 542,\n",
       " 757,\n",
       " 1880,\n",
       " 1985,\n",
       " 1205,\n",
       " 1757,\n",
       " 753,\n",
       " 1950,\n",
       " 207,\n",
       " 140,\n",
       " 172,\n",
       " 909,\n",
       " 598,\n",
       " 1992,\n",
       " 823,\n",
       " 1096,\n",
       " 1364,\n",
       " 243,\n",
       " 829,\n",
       " 502,\n",
       " 1745,\n",
       " 39,\n",
       " 1800,\n",
       " 863,\n",
       " 821,\n",
       " 22,\n",
       " 933,\n",
       " 676,\n",
       " 1600,\n",
       " 1673,\n",
       " 1789,\n",
       " 1735,\n",
       " 1534,\n",
       " 1154,\n",
       " 650,\n",
       " 468,\n",
       " 455,\n",
       " 1027,\n",
       " 1126,\n",
       " 980,\n",
       " 872,\n",
       " 1743,\n",
       " 1887,\n",
       " 141,\n",
       " 733,\n",
       " 1236,\n",
       " 1565,\n",
       " 1922,\n",
       " 793,\n",
       " 1594,\n",
       " 1541,\n",
       " 1023,\n",
       " 878,\n",
       " 1007,\n",
       " 208,\n",
       " 1901,\n",
       " 693,\n",
       " 1759,\n",
       " 318,\n",
       " 202,\n",
       " 1551,\n",
       " 1088,\n",
       " 705,\n",
       " 271,\n",
       " 839,\n",
       " 1150,\n",
       " 1543,\n",
       " 781,\n",
       " 805,\n",
       " 775,\n",
       " 966,\n",
       " 1656,\n",
       " 1123,\n",
       " 1379,\n",
       " 164,\n",
       " 1924,\n",
       " 302,\n",
       " 611,\n",
       " 1477,\n",
       " 854,\n",
       " 1866,\n",
       " 763,\n",
       " 1261,\n",
       " 1531,\n",
       " 1595,\n",
       " 83,\n",
       " 605,\n",
       " 914,\n",
       " 679,\n",
       " 386,\n",
       " 126,\n",
       " 885,\n",
       " 995,\n",
       " 443,\n",
       " 245,\n",
       " 865,\n",
       " 102,\n",
       " 325,\n",
       " 1156,\n",
       " 266,\n",
       " 1374,\n",
       " 1034,\n",
       " 660,\n",
       " 921,\n",
       " 1766,\n",
       " 153,\n",
       " 1232,\n",
       " 1484,\n",
       " 1311,\n",
       " 1359,\n",
       " 1873,\n",
       " 1254,\n",
       " 1260,\n",
       " 1213,\n",
       " 1645,\n",
       " 746,\n",
       " 618,\n",
       " 1981,\n",
       " 1913,\n",
       " 241,\n",
       " 128,\n",
       " 849,\n",
       " 349,\n",
       " 1691,\n",
       " 1956,\n",
       " 1886,\n",
       " 1587,\n",
       " 884,\n",
       " 754,\n",
       " 864,\n",
       " 858,\n",
       " 809,\n",
       " 95,\n",
       " 1419,\n",
       " 1496,\n",
       " 1969,\n",
       " 1164,\n",
       " 939,\n",
       " 1810,\n",
       " 264,\n",
       " 1276,\n",
       " 1751,\n",
       " 1206,\n",
       " 1015,\n",
       " 46,\n",
       " 118,\n",
       " 104,\n",
       " 234,\n",
       " 892,\n",
       " 1169,\n",
       " 597,\n",
       " 1013,\n",
       " 1772,\n",
       " 423,\n",
       " 205,\n",
       " 504,\n",
       " 720,\n",
       " 1083,\n",
       " 218,\n",
       " 1208,\n",
       " 1659,\n",
       " 801,\n",
       " 54,\n",
       " 539,\n",
       " 1959,\n",
       " 1490,\n",
       " 1211,\n",
       " 1327,\n",
       " 466,\n",
       " 129,\n",
       " 1051,\n",
       " 1977,\n",
       " 1526,\n",
       " 1186,\n",
       " 445,\n",
       " 819,\n",
       " 480,\n",
       " 1560,\n",
       " 1632,\n",
       " 916,\n",
       " 175,\n",
       " 1732,\n",
       " 252,\n",
       " 1791,\n",
       " 1140,\n",
       " 954,\n",
       " 1,\n",
       " 963,\n",
       " 515,\n",
       " 1025,\n",
       " 964,\n",
       " 307,\n",
       " 555,\n",
       " 292,\n",
       " 1137,\n",
       " 1802,\n",
       " 1937,\n",
       " 265,\n",
       " 1818,\n",
       " 1885,\n",
       " 554,\n",
       " 742,\n",
       " 1927,\n",
       " 988,\n",
       " 1527,\n",
       " 1019,\n",
       " 352,\n",
       " 780,\n",
       " 1918,\n",
       " 282,\n",
       " 972,\n",
       " 1799,\n",
       " 1178,\n",
       " 1039,\n",
       " 1287,\n",
       " 1031,\n",
       " 1769,\n",
       " 1446,\n",
       " 367,\n",
       " 248,\n",
       " 1838,\n",
       " 1467,\n",
       " 575,\n",
       " 1876,\n",
       " 1172,\n",
       " 1173,\n",
       " 549,\n",
       " 1844,\n",
       " 1028,\n",
       " 1884,\n",
       " 792,\n",
       " 270,\n",
       " 1299,\n",
       " 656,\n",
       " 1564,\n",
       " 1570,\n",
       " 482,\n",
       " 1054,\n",
       " 919,\n",
       " 1525,\n",
       " 1731,\n",
       " 625,\n",
       " 313,\n",
       " 955,\n",
       " 1085,\n",
       " 363,\n",
       " 388,\n",
       " 1309,\n",
       " 904,\n",
       " 414,\n",
       " 1720,\n",
       " 1666,\n",
       " 750,\n",
       " 338,\n",
       " 390,\n",
       " 1449,\n",
       " 1000,\n",
       " 1719,\n",
       " 235,\n",
       " 1492,\n",
       " 1752,\n",
       " 230,\n",
       " 1514,\n",
       " 803,\n",
       " 1024,\n",
       " 1895,\n",
       " 999,\n",
       " 25,\n",
       " 573,\n",
       " 1775,\n",
       " 759,\n",
       " 1373,\n",
       " 1163,\n",
       " 514,\n",
       " 426,\n",
       " 1074,\n",
       " 1271,\n",
       " 1189,\n",
       " 895,\n",
       " 1524,\n",
       " 772,\n",
       " 84,\n",
       " 1737,\n",
       " 1535,\n",
       " 910,\n",
       " 1894,\n",
       " 303,\n",
       " 409,\n",
       " 1184,\n",
       " 1221,\n",
       " 525,\n",
       " 681,\n",
       " 481,\n",
       " 1376,\n",
       " 572,\n",
       " 1056,\n",
       " 1811,\n",
       " 1358,\n",
       " 1727,\n",
       " 907,\n",
       " 1521,\n",
       " 1625,\n",
       " 185,\n",
       " 1986,\n",
       " 1566,\n",
       " 574,\n",
       " 834,\n",
       " 593,\n",
       " 1403,\n",
       " 1075,\n",
       " 1336,\n",
       " 111,\n",
       " 1112,\n",
       " 1909,\n",
       " 1267,\n",
       " 295,\n",
       " 784,\n",
       " 1989,\n",
       " 1744,\n",
       " 1295,\n",
       " 671,\n",
       " 1100,\n",
       " 113,\n",
       " 844,\n",
       " 1017,\n",
       " 1958,\n",
       " 1709,\n",
       " 1385,\n",
       " 934,\n",
       " 1917,\n",
       " 1916,\n",
       " 490,\n",
       " 1646,\n",
       " 1689,\n",
       " 880,\n",
       " 1409,\n",
       " 1277,\n",
       " 1362,\n",
       " 1238,\n",
       " 703,\n",
       " 1862,\n",
       " 1516,\n",
       " 677,\n",
       " 1401,\n",
       " 1350,\n",
       " 953,\n",
       " 814,\n",
       " 1926,\n",
       " 499,\n",
       " 1953,\n",
       " 578,\n",
       " 1840,\n",
       " 568,\n",
       " 151,\n",
       " 492,\n",
       " 1345,\n",
       " 1130,\n",
       " 355,\n",
       " 1754,\n",
       " 1394,\n",
       " 857,\n",
       " 998,\n",
       " 631,\n",
       " 435,\n",
       " 1168,\n",
       " 1464,\n",
       " 294,\n",
       " 47,\n",
       " 726,\n",
       " 825,\n",
       " 610,\n",
       " 1770,\n",
       " 1834,\n",
       " 1044,\n",
       " 738,\n",
       " 1675,\n",
       " 1431,\n",
       " 1239,\n",
       " 1076,\n",
       " 116,\n",
       " 1588,\n",
       " 375,\n",
       " 184,\n",
       " 1223,\n",
       " 1425,\n",
       " 1452,\n",
       " 333,\n",
       " 219,\n",
       " 1608,\n",
       " 1071,\n",
       " 131,\n",
       " 1896,\n",
       " 354,\n",
       " 532,\n",
       " 1256,\n",
       " 644,\n",
       " 789,\n",
       " 760,\n",
       " 158,\n",
       " 1962,\n",
       " 1474,\n",
       " 1637,\n",
       " 1183,\n",
       " 1672,\n",
       " 1020,\n",
       " 1439,\n",
       " 0,\n",
       " 10,\n",
       " 498,\n",
       " 420,\n",
       " 365,\n",
       " 267,\n",
       " 1228,\n",
       " 1422,\n",
       " 1151,\n",
       " 820,\n",
       " 1084,\n",
       " 1963,\n",
       " 1676,\n",
       " 1971,\n",
       " 541,\n",
       " 143,\n",
       " 1080,\n",
       " 1681,\n",
       " 569,\n",
       " 973,\n",
       " 740,\n",
       " 1227,\n",
       " 1388,\n",
       " 587,\n",
       " 1181,\n",
       " 1002,\n",
       " 268,\n",
       " 658,\n",
       " 886,\n",
       " 1536,\n",
       " 1404,\n",
       " 162,\n",
       " 695,\n",
       " 1596,\n",
       " 1317,\n",
       " 1730,\n",
       " 1235,\n",
       " 1320,\n",
       " 990,\n",
       " 1613,\n",
       " 1505,\n",
       " 1144,\n",
       " 1133,\n",
       " 845,\n",
       " 584,\n",
       " 1824,\n",
       " 1466,\n",
       " 345,\n",
       " 1434,\n",
       " 1932,\n",
       " 91,\n",
       " 970,\n",
       " 969,\n",
       " 1284,\n",
       " 277,\n",
       " 1583,\n",
       " 1342,\n",
       " 1078,\n",
       " 771,\n",
       " 1465,\n",
       " 1018,\n",
       " 447,\n",
       " 77,\n",
       " 1831,\n",
       " 1398,\n",
       " 1297,\n",
       " 1944,\n",
       " 778,\n",
       " 822,\n",
       " 332,\n",
       " 251,\n",
       " 191,\n",
       " 709,\n",
       " 173,\n",
       " 225,\n",
       " 1216,\n",
       " 1911,\n",
       " 1867,\n",
       " 114,\n",
       " 1767,\n",
       " 1279,\n",
       " 1643,\n",
       " 297,\n",
       " 1627,\n",
       " 794,\n",
       " 353,\n",
       " 452,\n",
       " 1101,\n",
       " 546,\n",
       " 440,\n",
       " 881,\n",
       " 607,\n",
       " 1700,\n",
       " 1503,\n",
       " 1197,\n",
       " 385,\n",
       " 1286,\n",
       " 751,\n",
       " 1577,\n",
       " 1808,\n",
       " 883,\n",
       " 715,\n",
       " 1454,\n",
       " 477,\n",
       " 285,\n",
       " 364,\n",
       " 534,\n",
       " 391,\n",
       " 1905,\n",
       " 604,\n",
       " 978,\n",
       " 626,\n",
       " 940,\n",
       " 1458,\n",
       " 1942,\n",
       " 421,\n",
       " 1795,\n",
       " 1973,\n",
       " 777,\n",
       " 946,\n",
       " 262,\n",
       " 664,\n",
       " 1324,\n",
       " 1111,\n",
       " 1523,\n",
       " 299,\n",
       " 698,\n",
       " 906,\n",
       " 1319,\n",
       " 500,\n",
       " 436,\n",
       " 1556,\n",
       " 347,\n",
       " 1686,\n",
       " 632,\n",
       " 1289,\n",
       " 378,\n",
       " 920,\n",
       " 585,\n",
       " 1537,\n",
       " 305,\n",
       " 1050,\n",
       " 224,\n",
       " 797,\n",
       " 1669,\n",
       " 1174,\n",
       " 612,\n",
       " 1089,\n",
       " 1520,\n",
       " 497,\n",
       " 1900,\n",
       " 1902,\n",
       " 1504,\n",
       " 1329,\n",
       " 1212,\n",
       " 900,\n",
       " 1372,\n",
       " 260,\n",
       " 1040,\n",
       " 1842,\n",
       " 879,\n",
       " 85,\n",
       " 1079,\n",
       " 1116,\n",
       " 843,\n",
       " 1366,\n",
       " 1501,\n",
       " 692,\n",
       " 855,\n",
       " 1121,\n",
       " 1281,\n",
       " 1381,\n",
       " 1470,\n",
       " 1710,\n",
       " 314,\n",
       " 1090,\n",
       " 1158,\n",
       " 1961,\n",
       " 932,\n",
       " 702,\n",
       " 589,\n",
       " 221,\n",
       " 744,\n",
       " 196,\n",
       " 815,\n",
       " 1773,\n",
       " 1982,\n",
       " 1638,\n",
       " 1217,\n",
       " 456,\n",
       " 1149,\n",
       " 1386,\n",
       " 200,\n",
       " 1809,\n",
       " 356,\n",
       " 1609,\n",
       " 602,\n",
       " 1393,\n",
       " 902,\n",
       " 764,\n",
       " 1607,\n",
       " 319,\n",
       " 1631,\n",
       " 1606,\n",
       " 1640,\n",
       " 1455,\n",
       " 1618,\n",
       " 1094,\n",
       " 1426,\n",
       " 1629,\n",
       " 1429,\n",
       " 195,\n",
       " 457,\n",
       " 688,\n",
       " 1247,\n",
       " 1253,\n",
       " 478,\n",
       " 1877,\n",
       " 868,\n",
       " 1315,\n",
       " 1623,\n",
       " 1820,\n",
       " 1624,\n",
       " 1448,\n",
       " 438,\n",
       " 312,\n",
       " 1682,\n",
       " 479,\n",
       " 359,\n",
       " 1546,\n",
       " 336,\n",
       " 810,\n",
       " 384,\n",
       " 222,\n",
       " 991,\n",
       " 433,\n",
       " 231,\n",
       " 1661,\n",
       " 1763,\n",
       " 1994,\n",
       " 464,\n",
       " 1679,\n",
       " 1457,\n",
       " 1182,\n",
       " 1251,\n",
       " 1328,\n",
       " 1748,\n",
       " 1392,\n",
       " 411,\n",
       " 12,\n",
       " 942,\n",
       " 1022,\n",
       " 1110,\n",
       " 1801,\n",
       " 800,\n",
       " 106,\n",
       " 1697,\n",
       " 459,\n",
       " 1832,\n",
       " 1563,\n",
       " 161,\n",
       " 1906,\n",
       " 1280,\n",
       " 89,\n",
       " 961,\n",
       " 1052,\n",
       " 344,\n",
       " 1717,\n",
       " 253,\n",
       " 1029,\n",
       " 948,\n",
       " 662,\n",
       " 912,\n",
       " 718,\n",
       " 799,\n",
       " 1346,\n",
       " 1114,\n",
       " 1138,\n",
       " 543,\n",
       " 1736,\n",
       " 1941,\n",
       " 648,\n",
       " 105,\n",
       " 21,\n",
       " 977,\n",
       " 320,\n",
       " 833,\n",
       " 1498,\n",
       " 249,\n",
       " 220,\n",
       " 1218,\n",
       " 765,\n",
       " 1694,\n",
       " 75,\n",
       " 45,\n",
       " 6,\n",
       " 1571,\n",
       " 1500,\n",
       " 1098,\n",
       " 1301,\n",
       " 1687,\n",
       " 1657,\n",
       " 1407,\n",
       " 1215,\n",
       " 1115,\n",
       " 1939,\n",
       " 1532,\n",
       " 1569,\n",
       " 489,\n",
       " 1275,\n",
       " 1331,\n",
       " 1573,\n",
       " 1273,\n",
       " 1304,\n",
       " 1542,\n",
       " 304,\n",
       " 177,\n",
       " 1928,\n",
       " 739,\n",
       " 1097,\n",
       " 100,\n",
       " 1558,\n",
       " 1792,\n",
       " 1668,\n",
       " 1574,\n",
       " 408,\n",
       " 108,\n",
       " 33,\n",
       " 42,\n",
       " 708,\n",
       " 483,\n",
       " 1308,\n",
       " 951,\n",
       " 1341,\n",
       " 1533,\n",
       " 1858,\n",
       " 1456,\n",
       " 1190,\n",
       " 101,\n",
       " 1192,\n",
       " 1951,\n",
       " 1471,\n",
       " 1014,\n",
       " 1738,\n",
       " 513,\n",
       " 1849,\n",
       " 716,\n",
       " 395,\n",
       " 668,\n",
       " 428,\n",
       " 261,\n",
       " 139,\n",
       " 975,\n",
       " 1245,\n",
       " 197,\n",
       " 606,\n",
       " 1785,\n",
       " 1548,\n",
       " 1693,\n",
       " 1954,\n",
       " 1948,\n",
       " 238,\n",
       " 1553,\n",
       " 1891,\n",
       " 1105,\n",
       " 400,\n",
       " 1125,\n",
       " 1758,\n",
       " 1120,\n",
       " 1915,\n",
       " 1976,\n",
       " 586,\n",
       " 1774,\n",
       " 926,\n",
       " 665,\n",
       " 1903,\n",
       " 1711,\n",
       " 745,\n",
       " 1360,\n",
       " 156,\n",
       " 1391,\n",
       " 1209,\n",
       " 1332,\n",
       " 804,\n",
       " 965,\n",
       " 1436,\n",
       " 55,\n",
       " 1134,\n",
       " 215,\n",
       " 1513,\n",
       " 1931,\n",
       " 117,\n",
       " 61,\n",
       " 1509,\n",
       " 1734,\n",
       " 922,\n",
       " 348,\n",
       " 1220,\n",
       " 654,\n",
       " 930,\n",
       " 836,\n",
       " 1530,\n",
       " 770,\n",
       " 1892,\n",
       " 947,\n",
       " 831,\n",
       " 1152,\n",
       " 29,\n",
       " 413,\n",
       " 1191,\n",
       " 929,\n",
       " 165,\n",
       " 50,\n",
       " 1715,\n",
       " 1283,\n",
       " 1270,\n",
       " 1807,\n",
       " 1512,\n",
       " 524,\n",
       " 1783,\n",
       " 1176,\n",
       " 1690,\n",
       " 424,\n",
       " 1185,\n",
       " 174,\n",
       " 528,\n",
       " 1249,\n",
       " 1940,\n",
       " 427,\n",
       " 1865,\n",
       " 1561,\n",
       " 616,\n",
       " 1136,\n",
       " 630,\n",
       " 1746,\n",
       " 968,\n",
       " 5,\n",
       " 1250,\n",
       " 1936,\n",
       " 1161,\n",
       " 1179,\n",
       " 614,\n",
       " 1160,\n",
       " 1159,\n",
       " 13,\n",
       " 838,\n",
       " 1749,\n",
       " 1845,\n",
       " 142,\n",
       " 382,\n",
       " 250,\n",
       " 121,\n",
       " 1723,\n",
       " 272,\n",
       " 1591,\n",
       " 521,\n",
       " 192,\n",
       " 1848,\n",
       " 190,\n",
       " 239,\n",
       " 747,\n",
       " 552,\n",
       " 1650,\n",
       " 1430,\n",
       " 179,\n",
       " 536,\n",
       " 1414,\n",
       " 439,\n",
       " 1829,\n",
       " 31,\n",
       " 533,\n",
       " 1780,\n",
       " 1860,\n",
       " 1268,\n",
       " 59,\n",
       " 28,\n",
       " 1702,\n",
       " 127,\n",
       " 8,\n",
       " 899,\n",
       " 812,\n",
       " 871,\n",
       " 1406,\n",
       " 1290,\n",
       " 1836,\n",
       " 1990,\n",
       " 1589,\n",
       " 160,\n",
       " 818,\n",
       " 721,\n",
       " 469,\n",
       " 623,\n",
       " 949,\n",
       " 1999,\n",
       " 1998,\n",
       " 652,\n",
       " 327,\n",
       " 1141,\n",
       " 1713,\n",
       " 1610,\n",
       " 178,\n",
       " 1893,\n",
       " 737,\n",
       " 682,\n",
       " 875,\n",
       " 1980,\n",
       " 326,\n",
       " 1947,\n",
       " 700,\n",
       " 11,\n",
       " 343,\n",
       " 1263,\n",
       " 35,\n",
       " 588,\n",
       " 1274,\n",
       " 1033,\n",
       " 1148,\n",
       " 1847,\n",
       " 406,\n",
       " 209,\n",
       " 1371,\n",
       " 985,\n",
       " 1428,\n",
       " 795,\n",
       " 1415,\n",
       " 1139,\n",
       " 1984,\n",
       " 1124,\n",
       " 187,\n",
       " 832,\n",
       " 1644,\n",
       " 547,\n",
       " 856,\n",
       " 1793,\n",
       " 1674,\n",
       " 1957,\n",
       " 300,\n",
       " 397,\n",
       " 691,\n",
       " 1225,\n",
       " 15,\n",
       " 1850,\n",
       " 1012,\n",
       " 743,\n",
       " 538,\n",
       " 1879,\n",
       " 1814,\n",
       " 874,\n",
       " 672,\n",
       " 311,\n",
       " 1416,\n",
       " 1472,\n",
       " 841,\n",
       " 376,\n",
       " 476,\n",
       " 1257,\n",
       " 1549,\n",
       " 94,\n",
       " 714,\n",
       " 1384,\n",
       " 1782,\n",
       " 1786,\n",
       " 501,\n",
       " 913,\n",
       " 1064,\n",
       " 769,\n",
       " 189,\n",
       " 937,\n",
       " 1726,\n",
       " 633,\n",
       " 1340,\n",
       " 1475,\n",
       " 1233,\n",
       " 1045,\n",
       " 170,\n",
       " 1086,\n",
       " 23,\n",
       " ...]"
      ]
     },
     "execution_count": 21,
     "metadata": {},
     "output_type": "execute_result"
    }
   ],
   "source": [
    "list(count_vectorizer.vocabulary_.values())"
   ]
  },
  {
   "cell_type": "markdown",
   "metadata": {},
   "source": [
    "Cree nueva versiones para los conjuntos Xtrain y Xtest, eliminando las variables que según el análisis anterior tienen importancia cero. Realice nuevamente el proceso de entrenamiento y validación."
   ]
  },
  {
   "cell_type": "code",
   "execution_count": 141,
   "metadata": {},
   "outputs": [
    {
     "data": {
      "text/plain": [
       "GridSearchCV(cv=StratifiedShuffleSplit(n_splits=5, random_state=0, test_size=0.2,\n",
       "            train_size=None),\n",
       "             estimator=RandomForestClassifier(class_weight='balanced_subsample',\n",
       "                                              random_state=0),\n",
       "             param_grid={'max_depth': [2, 4, 6, 8],\n",
       "                         'max_features': [10, 20, 30, 40, 50],\n",
       "                         'n_estimators': [20, 40, 60, 80, 100, 120]},\n",
       "             scoring='balanced_accuracy')"
      ]
     },
     "execution_count": 141,
     "metadata": {},
     "output_type": "execute_result"
    }
   ],
   "source": [
    "X_train2 = X_train[:,clf.best_estimator_.feature_importances_!=0]\n",
    "\n",
    "parameters = {'n_estimators':[20,40,60,80,100,120], 'max_depth':[2,4,6,8], 'max_features':[10,20,30,40,50]}\n",
    "clf_b = RandomForestClassifier(random_state=0,class_weight='balanced_subsample')\n",
    "clf3 = GridSearchCV(estimator=clf_b, param_grid=parameters, cv=st, scoring='balanced_accuracy')\n",
    "clf3.fit(X_train2,y_train)"
   ]
  },
  {
   "cell_type": "code",
   "execution_count": 142,
   "metadata": {},
   "outputs": [
    {
     "data": {
      "text/plain": [
       "120"
      ]
     },
     "execution_count": 142,
     "metadata": {},
     "output_type": "execute_result"
    }
   ],
   "source": [
    "clf3.best_estimator_.n_estimators"
   ]
  },
  {
   "cell_type": "markdown",
   "metadata": {},
   "source": [
    "Evalúe en las muestras de test. Estime Accuracy, Accuracy Balanceado y F1. Grafique la matriz de confusión. ¿Cambió el resultado?"
   ]
  },
  {
   "cell_type": "code",
   "execution_count": 143,
   "metadata": {},
   "outputs": [
    {
     "name": "stdout",
     "output_type": "stream",
     "text": [
      "Accuracy = 0.7916847119965353\n",
      "Balanced Accuracy = 0.8077981133726688\n",
      "F1 = 0.6215578284815106\n"
     ]
    },
    {
     "data": {
      "image/png": "[encoded data removed]",
      "text/plain": [
       "<Figure size 432x288 with 2 Axes>"
      ]
     },
     "metadata": {
      "needs_background": "light"
     },
     "output_type": "display_data"
    }
   ],
   "source": [
    "X_test2 = X_test[:,clf.best_estimator_.feature_importances_!=0]\n",
    "Yest = clf3.predict(X_test2)\n",
    "\n",
    "print(f\"Accuracy = {accuracy_score(y_test,Yest)}\")\n",
    "print(f\"Balanced Accuracy = {balanced_accuracy_score(y_test,Yest)}\")\n",
    "\n",
    "#Las métricas F1, precision and recall requieren que se establezca la convención de cuál es la clase positiva (1)\n",
    "print(f\"F1 = {f1_score(le.transform(y_test),le.transform(Yest))}\")\n",
    "\n",
    "disp = plot_confusion_matrix(clf3, X_test2, y_test, display_labels=np.unique(data['airline_sentiment']),\n",
    "                             cmap=plt.cm.Blues, \n",
    "                             normalize='true')\n",
    "disp.ax_.set_title('MC normalizada')\n",
    "plt.show()"
   ]
  },
  {
   "cell_type": "markdown",
   "metadata": {},
   "source": [
    "# Parte 2.\n",
    "\n",
    "**tf-idf + Boosting**"
   ]
  },
  {
   "cell_type": "markdown",
   "metadata": {},
   "source": [
    "## tf-idf representation\n",
    "\n",
    "This stands for term frequency and inverse document frequency. The tf-idf weighting scheme assigns to term $t$ a weight in document $d$ given by\n",
    "\n",
    "$$\n",
    "\\mbox{tf-idf}_{t,d} = \\mbox{tf}_{t,d} \\times \\mbox{idf}_t.$$\n",
    "\n",
    "**Term Frequency (tf)**: gives us the frequency of the word in each document in the corpus. It is the ratio of number of times the word appears in a document compared to the total number of words in that document. It increases as the number of occurrences of that word within the document increases. Each document has its own tf.\n",
    "\n",
    "$$\\mbox{tf}_{t,d} = \\frac{n_{t,d}}{\\sum_k n_{k,d}} $$\n",
    "\n",
    "**Inverse Data Frequency (idf)**: used to calculate the weight of rare words across all documents in the corpus. The words that occur rarely in the corpus have a high IDF score. It is given by the equation below.\n",
    "\n",
    "$$\\mbox{idf}_{t} = \\log\\left(\\frac{N}{df_t}\\right) + 1; \\; df_t = \\text{number of documents contaning } t $$\n",
    "\n",
    "In other words, $\\mbox{tf-idf}_{t,d}$ assigns to term $t$ a weight in document $d$ that is\n",
    "\n",
    "- highest when $t$ occurs many times within a small number of documents (thus lending high discriminating power to those documents);\n",
    "- lower when the term occurs fewer times in a document, or occurs in many documents (thus offering a less pronounced relevance signal);\n",
    "\n",
    "- lowest when the term occurs in virtually all documents."
   ]
  },
  {
   "cell_type": "code",
   "execution_count": 10,
   "metadata": {},
   "outputs": [
    {
     "name": "stdout",
     "output_type": "stream",
     "text": [
      "CPU times: user 111 ms, sys: 2.33 ms, total: 113 ms\n",
      "Wall time: 112 ms\n",
      "(11541, 2000)\n",
      "  (0, 661)\t0.39367966365691553\n",
      "  (0, 103)\t0.591824806409575\n",
      "  (0, 1993)\t0.4912521788552613\n",
      "  (0, 1337)\t0.5034193259214481\n",
      "  (1, 1061)\t0.4695313866808273\n",
      "  (1, 144)\t0.3094125314529977\n",
      "  (1, 125)\t0.5385400398830689\n",
      "  (1, 624)\t0.5187164369706571\n",
      "  (1, 1418)\t0.35314592700558783\n",
      "  (2, 1742)\t0.5576573833773847\n",
      "  (2, 214)\t0.4634174987416282\n",
      "  (2, 246)\t0.5462077749306882\n",
      "  (2, 1418)\t0.4194276233511667\n",
      "  (3, 1880)\t0.44800146758106696\n",
      "  (3, 757)\t0.26545077257155125\n",
      "  (3, 542)\t0.27678258315191273\n",
      "  (3, 1544)\t0.2864825323709622\n",
      "  (3, 734)\t0.13096688472776288\n",
      "  (3, 41)\t0.304631887571051\n",
      "  (3, 1294)\t0.304631887571051\n",
      "  (3, 1557)\t0.3247018156756328\n",
      "  (3, 1742)\t0.34074273991952364\n",
      "  (3, 214)\t0.283159791217208\n",
      "  (3, 1418)\t0.25628086678069506\n",
      "  (4, 207)\t0.45423030614611987\n",
      "  :\t:\n",
      "  (11538, 546)\t0.553997328813931\n",
      "  (11538, 825)\t0.4055546357576335\n",
      "  (11538, 1732)\t0.3768143993159555\n",
      "  (11538, 734)\t0.2220002209501983\n",
      "  (11539, 1572)\t0.3453559847893167\n",
      "  (11539, 23)\t0.2526905070840017\n",
      "  (11539, 397)\t0.28517826649539635\n",
      "  (11539, 1033)\t0.2731863704430717\n",
      "  (11539, 1697)\t0.31526712564235654\n",
      "  (11539, 12)\t0.2550894073484362\n",
      "  (11539, 1737)\t0.2190194888688831\n",
      "  (11539, 1025)\t0.383407084182511\n",
      "  (11539, 480)\t0.16488453432146702\n",
      "  (11539, 1169)\t0.41612488067942954\n",
      "  (11539, 302)\t0.2388243214623136\n",
      "  (11539, 734)\t0.21000223156897668\n",
      "  (11540, 1685)\t0.4517609789587755\n",
      "  (11540, 394)\t0.4656803964061788\n",
      "  (11540, 1312)\t0.38326107066305637\n",
      "  (11540, 1110)\t0.26898877004493493\n",
      "  (11540, 1183)\t0.3293848827317626\n",
      "  (11540, 151)\t0.3167562295013002\n",
      "  (11540, 578)\t0.23904115990190114\n",
      "  (11540, 338)\t0.2754839889207997\n",
      "  (11540, 734)\t0.1339730025716178\n"
     ]
    }
   ],
   "source": [
    "from sklearn.feature_extraction.text import TfidfVectorizer\n",
    "\n",
    "#define vectorizer parameters\n",
    "tfidf_vectorizer = TfidfVectorizer(max_features=2000,stop_words='english',\n",
    "                                 use_idf=True) #ngram_range=(1,3)\n",
    "\n",
    "%time tfidf_matrix = tfidf_vectorizer.fit_transform(data['text']) #fit the vectorizer to synopses\n",
    "\n",
    "print(tfidf_matrix.shape)\n",
    "print(tfidf_matrix)"
   ]
  },
  {
   "cell_type": "markdown",
   "metadata": {},
   "source": [
    "De manera alternativa se puede hacer usando la clase TfidfTransformer a partir de la matrix de conteos previa:"
   ]
  },
  {
   "cell_type": "code",
   "execution_count": 12,
   "metadata": {},
   "outputs": [
    {
     "name": "stdout",
     "output_type": "stream",
     "text": [
      "(11541, 2000)\n",
      "  (0, 1993)\t0.4912521788552613\n",
      "  (0, 1337)\t0.5034193259214481\n",
      "  (0, 661)\t0.39367966365691553\n",
      "  (0, 103)\t0.591824806409575\n",
      "  (1, 1418)\t0.35314592700558783\n",
      "  (1, 1061)\t0.4695313866808273\n",
      "  (1, 624)\t0.5187164369706571\n",
      "  (1, 144)\t0.3094125314529977\n",
      "  (1, 125)\t0.5385400398830689\n",
      "  (2, 1742)\t0.5576573833773847\n",
      "  (2, 1418)\t0.4194276233511667\n",
      "  (2, 246)\t0.5462077749306882\n",
      "  (2, 214)\t0.4634174987416282\n",
      "  (3, 1880)\t0.44800146758106696\n",
      "  (3, 1742)\t0.34074273991952364\n",
      "  (3, 1557)\t0.3247018156756328\n",
      "  (3, 1544)\t0.2864825323709622\n",
      "  (3, 1418)\t0.25628086678069506\n",
      "  (3, 1294)\t0.304631887571051\n",
      "  (3, 757)\t0.26545077257155125\n",
      "  (3, 734)\t0.13096688472776288\n",
      "  (3, 542)\t0.27678258315191273\n",
      "  (3, 214)\t0.283159791217208\n",
      "  (3, 41)\t0.304631887571051\n",
      "  (4, 1985)\t0.37311237553662946\n",
      "  :\t:\n",
      "  (11538, 825)\t0.4055546357576335\n",
      "  (11538, 734)\t0.2220002209501983\n",
      "  (11538, 546)\t0.553997328813931\n",
      "  (11538, 358)\t0.5808090972503284\n",
      "  (11539, 1737)\t0.2190194888688831\n",
      "  (11539, 1697)\t0.31526712564235654\n",
      "  (11539, 1572)\t0.3453559847893167\n",
      "  (11539, 1169)\t0.41612488067942954\n",
      "  (11539, 1033)\t0.2731863704430717\n",
      "  (11539, 1025)\t0.383407084182511\n",
      "  (11539, 734)\t0.21000223156897668\n",
      "  (11539, 480)\t0.16488453432146702\n",
      "  (11539, 397)\t0.28517826649539635\n",
      "  (11539, 302)\t0.2388243214623136\n",
      "  (11539, 23)\t0.2526905070840017\n",
      "  (11539, 12)\t0.2550894073484362\n",
      "  (11540, 1685)\t0.4517609789587755\n",
      "  (11540, 1312)\t0.38326107066305637\n",
      "  (11540, 1183)\t0.3293848827317626\n",
      "  (11540, 1110)\t0.26898877004493493\n",
      "  (11540, 734)\t0.1339730025716178\n",
      "  (11540, 578)\t0.23904115990190114\n",
      "  (11540, 394)\t0.4656803964061788\n",
      "  (11540, 338)\t0.2754839889207997\n",
      "  (11540, 151)\t0.3167562295013002\n"
     ]
    }
   ],
   "source": [
    "from sklearn.feature_extraction.text import TfidfTransformer\n",
    "tfidf_transformer = TfidfTransformer()\n",
    "tfidf_matrix2 = tfidf_transformer.fit_transform(count_matrix) #fit the vectorizer to synopses\n",
    "\n",
    "print(tfidf_matrix2.shape)\n",
    "print(tfidf_matrix2)"
   ]
  },
  {
   "cell_type": "markdown",
   "metadata": {},
   "source": [
    "## Ejercicio 2.1: Clasificación usando estrategias de Boosting\n",
    "\n",
    "Realice la partición de los datos entre Entrenamiento y Test. Recuerde que Test es el subconjunto que dejará pára medir el desempeño del sistema después del entrenamiento y de la selección de los hiperparámetros. \n",
    "\n",
    "Teniendo en cuenta la distribución de clases, seleccione correctamente la estrategia de particionamiento."
   ]
  },
  {
   "cell_type": "code",
   "execution_count": 160,
   "metadata": {},
   "outputs": [],
   "source": [
    "#Complete el código\n",
    "X_train, X_test, y_train, y_test = train_test_split(tfidf_matrix, data['airline_sentiment'], test_size=0.2, random_state=42, stratify=data['airline_sentiment'])\n",
    "\n",
    "st = StratifiedShuffleSplit(n_splits=5, test_size=0.2, random_state=0)"
   ]
  },
  {
   "cell_type": "markdown",
   "metadata": {},
   "source": [
    "Diseñe un experimento para ajustar los hiper-parámetros de un modelo Gradient Boosting Tree. Ajuste el número de árboles, la profundida de cada árbol y el número de variables a analizar por nodo."
   ]
  },
  {
   "cell_type": "code",
   "execution_count": 161,
   "metadata": {},
   "outputs": [],
   "source": [
    "from sklearn.ensemble import GradientBoostingClassifier\n",
    "\n",
    "clf_b = GradientBoostingClassifier(random_state=0)\n",
    "\n",
    "parameters = {'n_estimators':[20,40,60,80,100,120,140], 'max_depth':[2,4,6,8], 'max_features':[10,20,30,40,50]}\n",
    "\n",
    "clf = GridSearchCV(estimator=clf_b, param_grid=parameters, cv=st, scoring='balanced_accuracy')"
   ]
  },
  {
   "cell_type": "code",
   "execution_count": 162,
   "metadata": {},
   "outputs": [
    {
     "data": {
      "text/plain": [
       "GridSearchCV(cv=StratifiedShuffleSplit(n_splits=5, random_state=0, test_size=0.2,\n",
       "            train_size=None),\n",
       "             estimator=GradientBoostingClassifier(random_state=0),\n",
       "             param_grid={'max_depth': [2, 4, 6, 8],\n",
       "                         'max_features': [10, 20, 30, 40, 50],\n",
       "                         'n_estimators': [20, 40, 60, 80, 100, 120, 140]},\n",
       "             scoring='balanced_accuracy')"
      ]
     },
     "execution_count": 162,
     "metadata": {},
     "output_type": "execute_result"
    }
   ],
   "source": [
    "clf.fit(X_train,y_train)"
   ]
  },
  {
   "cell_type": "code",
   "execution_count": 163,
   "metadata": {},
   "outputs": [
    {
     "data": {
      "text/plain": [
       "140"
      ]
     },
     "execution_count": 163,
     "metadata": {},
     "output_type": "execute_result"
    }
   ],
   "source": [
    "clf.best_estimator_.n_estimators"
   ]
  },
  {
   "cell_type": "code",
   "execution_count": 164,
   "metadata": {},
   "outputs": [
    {
     "name": "stdout",
     "output_type": "stream",
     "text": [
      "Accuracy = 0.8904287570376787\n",
      "Balanced Accuracy = 0.7827822225907042\n",
      "F1 = 0.6918392204628503\n"
     ]
    },
    {
     "data": {
      "image/png": "[encoded data removed]",
      "text/plain": [
       "<Figure size 432x288 with 2 Axes>"
      ]
     },
     "metadata": {
      "needs_background": "light"
     },
     "output_type": "display_data"
    }
   ],
   "source": [
    "Yest = clf.predict(X_test)\n",
    "\n",
    "print(f\"Accuracy = {accuracy_score(y_test,Yest)}\")\n",
    "print(f\"Balanced Accuracy = {balanced_accuracy_score(y_test,Yest)}\")\n",
    "\n",
    "#Las métricas F1, precision and recall requieren que se establezca la convención de cuál es la clase positiva (1)\n",
    "print(f\"F1 = {f1_score(le.transform(y_test),le.transform(Yest))}\")\n",
    "\n",
    "disp = plot_confusion_matrix(clf, X_test, y_test, display_labels=np.unique(data['airline_sentiment']),\n",
    "                             cmap=plt.cm.Blues, \n",
    "                             normalize='true')\n",
    "disp.ax_.set_title('MC normalizada')\n",
    "plt.show()"
   ]
  },
  {
   "cell_type": "markdown",
   "metadata": {},
   "source": [
    "## Ejercicio 2.2: \n",
    "\n",
    "Modifique el experimento anterior para ajustar los hiper-parámetros de un modelo **Stochastic** Gradient Boosting Tree. Ajuste el número de árboles, la profundida de cada árbol y el número de variables a analizar por nodo. Use un parámetro subsample = 0.9."
   ]
  },
  {
   "cell_type": "code",
   "execution_count": 165,
   "metadata": {},
   "outputs": [
    {
     "data": {
      "text/plain": [
       "GridSearchCV(cv=StratifiedShuffleSplit(n_splits=5, random_state=0, test_size=0.2,\n",
       "            train_size=None),\n",
       "             estimator=GradientBoostingClassifier(random_state=0,\n",
       "                                                  subsample=0.9),\n",
       "             param_grid={'max_depth': [2, 4, 6, 8],\n",
       "                         'max_features': [10, 20, 30, 40, 50],\n",
       "                         'n_estimators': [20, 40, 60, 80, 100, 120, 140]},\n",
       "             scoring='balanced_accuracy')"
      ]
     },
     "execution_count": 165,
     "metadata": {},
     "output_type": "execute_result"
    }
   ],
   "source": [
    "clf_b = GradientBoostingClassifier(random_state=0, subsample = 0.9)\n",
    "\n",
    "parameters = {'n_estimators':[20,40,60,80,100,120,140], 'max_depth':[2,4,6,8], 'max_features':[10,20,30,40,50]}\n",
    "\n",
    "clf2 = GridSearchCV(estimator=clf_b, param_grid=parameters, cv=st, scoring='balanced_accuracy')\n",
    "clf2.fit(X_train,y_train)"
   ]
  },
  {
   "cell_type": "code",
   "execution_count": 166,
   "metadata": {},
   "outputs": [
    {
     "data": {
      "text/plain": [
       "GradientBoostingClassifier(max_depth=8, max_features=40, n_estimators=140,\n",
       "                           random_state=0, subsample=0.9)"
      ]
     },
     "execution_count": 166,
     "metadata": {},
     "output_type": "execute_result"
    }
   ],
   "source": [
    "clf2.best_estimator_"
   ]
  },
  {
   "cell_type": "markdown",
   "metadata": {},
   "source": [
    "Evalúe en las muestras de test. Estime: Accuracy, Accuracy Balanceado y F1. Grafique la matriz de confusión normalizada."
   ]
  },
  {
   "cell_type": "code",
   "execution_count": 167,
   "metadata": {},
   "outputs": [
    {
     "name": "stdout",
     "output_type": "stream",
     "text": [
      "Accuracy = 0.887830229536596\n",
      "Balanced Accuracy = 0.7787939817693579\n",
      "F1 = 0.6845310596833131\n"
     ]
    },
    {
     "data": {
      "image/png": "[encoded data removed]",
      "text/plain": [
       "<Figure size 432x288 with 2 Axes>"
      ]
     },
     "metadata": {
      "needs_background": "light"
     },
     "output_type": "display_data"
    }
   ],
   "source": [
    "Yest = clf2.predict(X_test)\n",
    "\n",
    "print(f\"Accuracy = {accuracy_score(y_test,Yest)}\")\n",
    "print(f\"Balanced Accuracy = {balanced_accuracy_score(y_test,Yest)}\")\n",
    "\n",
    "#Las métricas F1, precision and recall requieren que se establezca la convención de cuál es la clase positiva (1)\n",
    "print(f\"F1 = {f1_score(le.transform(y_test),le.transform(Yest))}\")\n",
    "\n",
    "disp = plot_confusion_matrix(clf2, X_test, y_test, display_labels=np.unique(data['airline_sentiment']),\n",
    "                             cmap=plt.cm.Blues, \n",
    "                             normalize='true')\n",
    "disp.ax_.set_title('MC normalizada')\n",
    "plt.show()"
   ]
  },
  {
   "cell_type": "markdown",
   "metadata": {},
   "source": [
    "## Ejercicio 2.2\n",
    "\n",
    "Determine las 10 palabras más importantes para la clasificación de acuerdo con el mejor modelo de la parte 2."
   ]
  },
  {
   "cell_type": "code",
   "execution_count": 168,
   "metadata": {},
   "outputs": [],
   "source": [
    "indx = np.argsort(clf.best_estimator_.feature_importances_)[::-1]"
   ]
  },
  {
   "cell_type": "code",
   "execution_count": 175,
   "metadata": {},
   "outputs": [
    {
     "name": "stdout",
     "output_type": "stream",
     "text": [
      "thanks\n",
      "thank\n",
      "great\n",
      "awesome\n",
      "love\n",
      "amazing\n",
      "best\n",
      "flight\n",
      "hours\n",
      "hold\n"
     ]
    }
   ],
   "source": [
    "for i in indx[:10]:\n",
    "    print(list(tfidf_vectorizer.vocabulary_.keys())[list(tfidf_vectorizer.vocabulary_.values()).index(i)])"
   ]
  },
  {
   "cell_type": "markdown",
   "metadata": {},
   "source": [
    "## *Ejercicio 3: XGBoost\n",
    "\n",
    "Se recomienda revisar la documentación oficial [link](https://xgboost.readthedocs.io/en/latest/index.html)"
   ]
  },
  {
   "cell_type": "code",
   "execution_count": 211,
   "metadata": {},
   "outputs": [],
   "source": [
    "import xgboost as xgb\n",
    "from sklearn.utils.class_weight import compute_class_weight"
   ]
  },
  {
   "cell_type": "code",
   "execution_count": 212,
   "metadata": {},
   "outputs": [],
   "source": [
    "class_weight = compute_class_weight('balanced',le.classes_,y_train)"
   ]
  },
  {
   "cell_type": "code",
   "execution_count": 213,
   "metadata": {},
   "outputs": [
    {
     "data": {
      "text/plain": [
       "array([0.62871152, 2.44232804])"
      ]
     },
     "execution_count": 213,
     "metadata": {},
     "output_type": "execute_result"
    }
   ],
   "source": [
    "class_weight"
   ]
  },
  {
   "cell_type": "code",
   "execution_count": 220,
   "metadata": {},
   "outputs": [],
   "source": [
    "param = {'n_estimators':[20,40,60,80,100,120,140],'max_depth': [2,4,6,8], 'learning_rate':[1,0.5,0.1], 'reg_lambda':[0.1,0.2]}\n",
    "clf_b = xgb.XGBClassifier(scale_pos_weight=class_weight[1]/class_weight[0],random_state = 0, objective='binary:logistic')"
   ]
  },
  {
   "cell_type": "code",
   "execution_count": 222,
   "metadata": {},
   "outputs": [
    {
     "data": {
      "text/plain": [
       "GridSearchCV(cv=StratifiedShuffleSplit(n_splits=5, random_state=0, test_size=0.2,\n",
       "            train_size=None),\n",
       "             estimator=XGBClassifier(scale_pos_weight=3.8846560846560845),\n",
       "             param_grid={'learning_rate': [1, 0.5, 0.1],\n",
       "                         'max_depth': [2, 4, 6, 8],\n",
       "                         'n_estimators': [20, 40, 60, 80, 100, 120, 140],\n",
       "                         'reg_lambda': [0.1, 0.2]},\n",
       "             scoring='balanced_accuracy')"
      ]
     },
     "execution_count": 222,
     "metadata": {},
     "output_type": "execute_result"
    }
   ],
   "source": [
    "clf3 = GridSearchCV(estimator=clf_b, param_grid=param, cv=st, scoring='balanced_accuracy')\n",
    "clf3.fit(X_train,y_train)"
   ]
  },
  {
   "cell_type": "code",
   "execution_count": 223,
   "metadata": {},
   "outputs": [
    {
     "data": {
      "text/plain": [
       "XGBClassifier(learning_rate=0.5, max_depth=8, n_estimators=140, reg_lambda=0.2,\n",
       "              scale_pos_weight=3.8846560846560845)"
      ]
     },
     "execution_count": 223,
     "metadata": {},
     "output_type": "execute_result"
    }
   ],
   "source": [
    "clf3.best_estimator_"
   ]
  },
  {
   "cell_type": "code",
   "execution_count": 224,
   "metadata": {},
   "outputs": [
    {
     "name": "stdout",
     "output_type": "stream",
     "text": [
      "Accuracy = 0.8830662624512776\n",
      "Balanced Accuracy = 0.8472107071628275\n",
      "F1 = 0.7337278106508877\n"
     ]
    },
    {
     "data": {
      "image/png": "[encoded data removed]",
      "text/plain": [
       "<Figure size 432x288 with 2 Axes>"
      ]
     },
     "metadata": {
      "needs_background": "light"
     },
     "output_type": "display_data"
    }
   ],
   "source": [
    "Yest = clf3.predict(X_test)\n",
    "\n",
    "print(f\"Accuracy = {accuracy_score(y_test,Yest)}\")\n",
    "print(f\"Balanced Accuracy = {balanced_accuracy_score(y_test,Yest)}\")\n",
    "\n",
    "#Las métricas F1, precision and recall requieren que se establezca la convención de cuál es la clase positiva (1)\n",
    "print(f\"F1 = {f1_score(le.transform(y_test),le.transform(Yest))}\")\n",
    "\n",
    "disp = plot_confusion_matrix(clf3, X_test, y_test, display_labels=np.unique(data['airline_sentiment']),\n",
    "                             cmap=plt.cm.Blues, \n",
    "                             normalize='true')\n",
    "disp.ax_.set_title('MC normalizada')\n",
    "plt.show()"
   ]
  },
  {
   "cell_type": "code",
   "execution_count": 227,
   "metadata": {},
   "outputs": [
    {
     "data": {
      "text/plain": [
       "[<matplotlib.lines.Line2D at 0x7fd5087d3290>]"
      ]
     },
     "execution_count": 227,
     "metadata": {},
     "output_type": "execute_result"
    },
    {
     "data": {
      "image/png": "[encoded data removed]",
      "text/plain": [
       "<Figure size 432x288 with 1 Axes>"
      ]
     },
     "metadata": {
      "needs_background": "light"
     },
     "output_type": "display_data"
    }
   ],
   "source": [
    "plt.plot(clf3.best_estimator_.feature_importances_)"
   ]
  },
  {
   "cell_type": "code",
   "execution_count": 228,
   "metadata": {},
   "outputs": [
    {
     "data": {
      "text/plain": [
       "1247"
      ]
     },
     "execution_count": 228,
     "metadata": {},
     "output_type": "execute_result"
    }
   ],
   "source": [
    "np.sum(clf3.best_estimator_.feature_importances_==0)"
   ]
  },
  {
   "cell_type": "code",
   "execution_count": 229,
   "metadata": {},
   "outputs": [
    {
     "name": "stdout",
     "output_type": "stream",
     "text": [
      "thank\n",
      "love\n",
      "great\n",
      "awesome\n",
      "amazing\n",
      "thanks\n",
      "best\n",
      "hours\n",
      "cancelled\n",
      "told\n"
     ]
    }
   ],
   "source": [
    "indx = np.argsort(clf3.best_estimator_.feature_importances_)[::-1]\n",
    "for i in indx[:10]:\n",
    "    print(list(tfidf_vectorizer.vocabulary_.keys())[list(tfidf_vectorizer.vocabulary_.values()).index(i)])"
   ]
  },
  {
   "cell_type": "markdown",
   "metadata": {},
   "source": [
    "Sin el wrapper..."
   ]
  },
  {
   "cell_type": "code",
   "execution_count": 199,
   "metadata": {},
   "outputs": [
    {
     "name": "stdout",
     "output_type": "stream",
     "text": [
      "[0]\teval-auc:0.752647\ttrain-auc:0.76766\n",
      "[1]\teval-auc:0.763506\ttrain-auc:0.780277\n",
      "[2]\teval-auc:0.764168\ttrain-auc:0.780838\n",
      "[3]\teval-auc:0.76415\ttrain-auc:0.780835\n",
      "[4]\teval-auc:0.76696\ttrain-auc:0.784821\n",
      "[5]\teval-auc:0.767063\ttrain-auc:0.784968\n",
      "[6]\teval-auc:0.77862\ttrain-auc:0.79607\n",
      "[7]\teval-auc:0.778844\ttrain-auc:0.796336\n",
      "[8]\teval-auc:0.783783\ttrain-auc:0.801997\n",
      "[9]\teval-auc:0.785227\ttrain-auc:0.802326\n",
      "[10]\teval-auc:0.785104\ttrain-auc:0.802719\n",
      "[11]\teval-auc:0.796629\ttrain-auc:0.817769\n",
      "[12]\teval-auc:0.801545\ttrain-auc:0.821828\n",
      "[13]\teval-auc:0.804243\ttrain-auc:0.826232\n",
      "[14]\teval-auc:0.812265\ttrain-auc:0.836149\n",
      "[15]\teval-auc:0.828472\ttrain-auc:0.856628\n",
      "[16]\teval-auc:0.82759\ttrain-auc:0.859427\n",
      "[17]\teval-auc:0.830593\ttrain-auc:0.862983\n",
      "[18]\teval-auc:0.830829\ttrain-auc:0.863637\n",
      "[19]\teval-auc:0.831358\ttrain-auc:0.864243\n",
      "[20]\teval-auc:0.840387\ttrain-auc:0.875469\n",
      "[21]\teval-auc:0.841018\ttrain-auc:0.876043\n",
      "[22]\teval-auc:0.841597\ttrain-auc:0.876665\n",
      "[23]\teval-auc:0.843624\ttrain-auc:0.878877\n",
      "[24]\teval-auc:0.844028\ttrain-auc:0.879173\n",
      "[25]\teval-auc:0.845735\ttrain-auc:0.881988\n",
      "[26]\teval-auc:0.845643\ttrain-auc:0.882063\n",
      "[27]\teval-auc:0.84743\ttrain-auc:0.883489\n",
      "[28]\teval-auc:0.848067\ttrain-auc:0.884546\n",
      "[29]\teval-auc:0.849112\ttrain-auc:0.884839\n",
      "[30]\teval-auc:0.85007\ttrain-auc:0.88713\n",
      "[31]\teval-auc:0.850287\ttrain-auc:0.888457\n",
      "[32]\teval-auc:0.851566\ttrain-auc:0.889505\n",
      "[33]\teval-auc:0.854803\ttrain-auc:0.892355\n",
      "[34]\teval-auc:0.855802\ttrain-auc:0.89325\n",
      "[35]\teval-auc:0.856486\ttrain-auc:0.893807\n",
      "[36]\teval-auc:0.858524\ttrain-auc:0.895586\n",
      "[37]\teval-auc:0.857835\ttrain-auc:0.896792\n",
      "[38]\teval-auc:0.86107\ttrain-auc:0.898944\n",
      "[39]\teval-auc:0.862218\ttrain-auc:0.900694\n",
      "[40]\teval-auc:0.863152\ttrain-auc:0.90235\n",
      "[41]\teval-auc:0.865209\ttrain-auc:0.903701\n",
      "[42]\teval-auc:0.865541\ttrain-auc:0.904124\n",
      "[43]\teval-auc:0.866855\ttrain-auc:0.905584\n",
      "[44]\teval-auc:0.866944\ttrain-auc:0.905739\n",
      "[45]\teval-auc:0.868919\ttrain-auc:0.907573\n",
      "[46]\teval-auc:0.870528\ttrain-auc:0.908671\n",
      "[47]\teval-auc:0.871376\ttrain-auc:0.909705\n",
      "[48]\teval-auc:0.871607\ttrain-auc:0.910544\n",
      "[49]\teval-auc:0.871548\ttrain-auc:0.912456\n",
      "[50]\teval-auc:0.870874\ttrain-auc:0.913224\n",
      "[51]\teval-auc:0.872426\ttrain-auc:0.914661\n",
      "[52]\teval-auc:0.873856\ttrain-auc:0.915619\n",
      "[53]\teval-auc:0.875307\ttrain-auc:0.917152\n",
      "[54]\teval-auc:0.875881\ttrain-auc:0.917658\n",
      "[55]\teval-auc:0.876145\ttrain-auc:0.918506\n",
      "[56]\teval-auc:0.87718\ttrain-auc:0.919104\n",
      "[57]\teval-auc:0.877651\ttrain-auc:0.919621\n",
      "[58]\teval-auc:0.877946\ttrain-auc:0.919958\n",
      "[59]\teval-auc:0.877411\ttrain-auc:0.920318\n",
      "[60]\teval-auc:0.878884\ttrain-auc:0.921343\n",
      "[61]\teval-auc:0.878177\ttrain-auc:0.921762\n",
      "[62]\teval-auc:0.879407\ttrain-auc:0.922619\n",
      "[63]\teval-auc:0.880137\ttrain-auc:0.922834\n",
      "[64]\teval-auc:0.881162\ttrain-auc:0.923355\n",
      "[65]\teval-auc:0.881922\ttrain-auc:0.923921\n",
      "[66]\teval-auc:0.882055\ttrain-auc:0.924497\n",
      "[67]\teval-auc:0.882443\ttrain-auc:0.92492\n",
      "[68]\teval-auc:0.882789\ttrain-auc:0.925111\n",
      "[69]\teval-auc:0.883488\ttrain-auc:0.925503\n",
      "[70]\teval-auc:0.883263\ttrain-auc:0.92568\n",
      "[71]\teval-auc:0.884298\ttrain-auc:0.926319\n",
      "[72]\teval-auc:0.884328\ttrain-auc:0.92719\n",
      "[73]\teval-auc:0.884943\ttrain-auc:0.927456\n",
      "[74]\teval-auc:0.885536\ttrain-auc:0.927786\n",
      "[75]\teval-auc:0.886951\ttrain-auc:0.928555\n",
      "[76]\teval-auc:0.887307\ttrain-auc:0.928732\n",
      "[77]\teval-auc:0.88801\ttrain-auc:0.929248\n",
      "[78]\teval-auc:0.888102\ttrain-auc:0.929467\n",
      "[79]\teval-auc:0.889209\ttrain-auc:0.930243\n",
      "[80]\teval-auc:0.889278\ttrain-auc:0.930714\n",
      "[81]\teval-auc:0.889462\ttrain-auc:0.931335\n",
      "[82]\teval-auc:0.889957\ttrain-auc:0.931442\n",
      "[83]\teval-auc:0.89062\ttrain-auc:0.931679\n",
      "[84]\teval-auc:0.89087\ttrain-auc:0.932114\n",
      "[85]\teval-auc:0.891579\ttrain-auc:0.932753\n",
      "[86]\teval-auc:0.891961\ttrain-auc:0.933322\n",
      "[87]\teval-auc:0.892179\ttrain-auc:0.933505\n",
      "[88]\teval-auc:0.892715\ttrain-auc:0.933751\n",
      "[89]\teval-auc:0.893191\ttrain-auc:0.934347\n",
      "[90]\teval-auc:0.893114\ttrain-auc:0.934465\n",
      "[91]\teval-auc:0.893093\ttrain-auc:0.934896\n",
      "[92]\teval-auc:0.893447\ttrain-auc:0.935031\n",
      "[93]\teval-auc:0.893993\ttrain-auc:0.935415\n",
      "[94]\teval-auc:0.893956\ttrain-auc:0.935785\n",
      "[95]\teval-auc:0.893802\ttrain-auc:0.936061\n",
      "[96]\teval-auc:0.894105\ttrain-auc:0.936421\n",
      "[97]\teval-auc:0.894806\ttrain-auc:0.936801\n",
      "[98]\teval-auc:0.895894\ttrain-auc:0.937336\n",
      "[99]\teval-auc:0.896759\ttrain-auc:0.937987\n"
     ]
    }
   ],
   "source": [
    "X_train_mat = xgb.DMatrix(X_train, label=le.transform(y_train))\n",
    "X_test_mat = xgb.DMatrix(X_test, label=le.transform(y_test))\n",
    "\n",
    "param = {'max_depth': 6, 'eta': 0.1, 'objective': 'binary:logistic'}\n",
    "param['nthread'] = 4\n",
    "param['eval_metric'] = 'auc'\n",
    "param['verbosity'] = 0\n",
    "\n",
    "evallist = [(X_test_mat, 'eval'), (X_train_mat, 'train')]\n",
    "\n",
    "num_round = 100\n",
    "bst = xgb.train(param, X_train_mat, num_round, evallist)"
   ]
  },
  {
   "cell_type": "code",
   "execution_count": 200,
   "metadata": {},
   "outputs": [
    {
     "name": "stdout",
     "output_type": "stream",
     "text": [
      "Accuracy = 0.8796015591165006\n",
      "Balanced Accuracy = 0.7571399125776691\n",
      "F1 = 0.6516290726817043\n"
     ]
    },
    {
     "data": {
      "image/png": "[encoded data removed]",
      "text/plain": [
       "<Figure size 432x288 with 2 Axes>"
      ]
     },
     "metadata": {
      "needs_background": "light"
     },
     "output_type": "display_data"
    }
   ],
   "source": [
    "from sklearn.metrics import confusion_matrix\n",
    "from sklearn.metrics._plot.confusion_matrix import ConfusionMatrixDisplay\n",
    "Yest = np.round(bst.predict(X_test_mat))\n",
    "\n",
    "print(f\"Accuracy = {accuracy_score(le.transform(y_test),Yest)}\")\n",
    "print(f\"Balanced Accuracy = {balanced_accuracy_score(le.transform(y_test),Yest)}\")\n",
    "\n",
    "cm = confusion_matrix(le.transform(y_test),Yest,normalize='true')\n",
    "\n",
    "#Las métricas F1, precision and recall requieren que se establezca la convención de cuál es la clase positiva (1)\n",
    "print(f\"F1 = {f1_score(le.transform(y_test),Yest)}\")\n",
    "\n",
    "disp = ConfusionMatrixDisplay(confusion_matrix=cm,display_labels=le.classes_)\n",
    "disp.plot(include_values=True,cmap=plt.cm.Blues, ax=None, xticks_rotation='horizontal',\n",
    "          values_format=None)\n",
    "plt.show()"
   ]
  },
  {
   "cell_type": "code",
   "execution_count": 187,
   "metadata": {},
   "outputs": [
    {
     "data": {
      "text/plain": [
       "<matplotlib.axes._subplots.AxesSubplot at 0x7fd53a27f750>"
      ]
     },
     "execution_count": 187,
     "metadata": {},
     "output_type": "execute_result"
    },
    {
     "data": {
      "image/png": "[encoded data removed]",
      "text/plain": [
       "<Figure size 432x288 with 1 Axes>"
      ]
     },
     "metadata": {
      "needs_background": "light"
     },
     "output_type": "display_data"
    }
   ],
   "source": [
    "xgb.plot_importance(bst)"
   ]
  }
 ],
 "metadata": {
  "kernelspec": {
   "display_name": "Python 3",
   "language": "python",
   "name": "python3"
  },
  "language_info": {
   "codemirror_mode": {
    "name": "ipython",
    "version": 3
   },
   "file_extension": ".py",
   "mimetype": "text/x-python",
   "name": "python",
   "nbconvert_exporter": "python",
   "pygments_lexer": "ipython3",
   "version": "3.7.7"
  }
 },
 "nbformat": 4,
 "nbformat_minor": 4
}
